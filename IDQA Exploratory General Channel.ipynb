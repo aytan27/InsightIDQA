{
 "cells": [
  {
   "cell_type": "code",
   "execution_count": 11,
   "metadata": {},
   "outputs": [
    {
     "name": "stdout",
     "output_type": "stream",
     "text": [
      "['/Users/alison/insight/Insight Fellows_Slack/general/2016-07-22.json', '/Users/alison/insight/Insight Fellows_Slack/general/2017-01-18.json', '/Users/alison/insight/Insight Fellows_Slack/general/2017-03-25.json', '/Users/alison/insight/Insight Fellows_Slack/general/2015-04-11.json', '/Users/alison/insight/Insight Fellows_Slack/general/2017-11-18.json', '/Users/alison/insight/Insight Fellows_Slack/general/2018-05-26.json', '/Users/alison/insight/Insight Fellows_Slack/general/2016-08-11.json', '/Users/alison/insight/Insight Fellows_Slack/general/2017-02-08.json', '/Users/alison/insight/Insight Fellows_Slack/general/2015-07-01.json', '/Users/alison/insight/Insight Fellows_Slack/general/2017-07-31.json']\n"
     ]
    }
   ],
   "source": [
    "import os\n",
    "import json\n",
    "import pandas as pd\n",
    "import matplotlib.pyplot as plt\n",
    "import nltk\n",
    "import regex\n",
    "import re\n",
    "import datetime\n",
    "\n",
    "\n",
    "\n",
    "\n",
    "\n",
    "path_to_json = '/Users/alison/insight/Insight Fellows_Slack/general/'\n",
    "json_filenames = [path_to_json+pos_json for pos_json in os.listdir(path_to_json) if pos_json.endswith('.json')]\n",
    "\n",
    "print(json_filenames[:10])"
   ]
  },
  {
   "cell_type": "code",
   "execution_count": 12,
   "metadata": {},
   "outputs": [
    {
     "data": {
      "text/plain": [
       "989"
      ]
     },
     "execution_count": 12,
     "metadata": {},
     "output_type": "execute_result"
    }
   ],
   "source": [
    "len(json_filenames)"
   ]
  },
  {
   "cell_type": "code",
   "execution_count": 13,
   "metadata": {},
   "outputs": [],
   "source": [
    "df = pd.DataFrame()\n",
    "for file_path in json_filenames:\n",
    "    temp_df = pd.read_json(file_path)\n",
    "  #df = df.append(temp_df[['type', 'user', 'text', 'ts']])\n",
    "    df = df.append(temp_df[['text', 'ts']])"
   ]
  },
  {
   "cell_type": "code",
   "execution_count": 14,
   "metadata": {},
   "outputs": [],
   "source": [
    "#new data column of converted Unix series to datetime\n",
    "df['NewTime'] = pd.to_datetime(df['ts'], unit='s')"
   ]
  },
  {
   "cell_type": "code",
   "execution_count": 15,
   "metadata": {},
   "outputs": [],
   "source": [
    "#sorted dataframe by date\n",
    "df = df.sort_values(by='NewTime')"
   ]
  },
  {
   "cell_type": "code",
   "execution_count": 16,
   "metadata": {},
   "outputs": [],
   "source": [
    "#drop rows that say joined channel\n",
    "df = df[df.text.str.contains(\"has joined the channel\") == False]"
   ]
  },
  {
   "cell_type": "code",
   "execution_count": 17,
   "metadata": {
    "scrolled": true
   },
   "outputs": [
    {
     "data": {
      "text/plain": [
       "10362"
      ]
     },
     "execution_count": 17,
     "metadata": {},
     "output_type": "execute_result"
    }
   ],
   "source": [
    "len(df)"
   ]
  },
  {
   "cell_type": "code",
   "execution_count": 18,
   "metadata": {},
   "outputs": [],
   "source": [
    "#lowercase everything that is an object\n",
    "df = df.apply(lambda x: x.str.lower() if(x.dtype == 'object') else x)\n"
   ]
  },
  {
   "cell_type": "code",
   "execution_count": 19,
   "metadata": {},
   "outputs": [
    {
     "data": {
      "text/html": [
       "<div>\n",
       "<style scoped>\n",
       "    .dataframe tbody tr th:only-of-type {\n",
       "        vertical-align: middle;\n",
       "    }\n",
       "\n",
       "    .dataframe tbody tr th {\n",
       "        vertical-align: top;\n",
       "    }\n",
       "\n",
       "    .dataframe thead th {\n",
       "        text-align: right;\n",
       "    }\n",
       "</style>\n",
       "<table border=\"1\" class=\"dataframe\">\n",
       "  <thead>\n",
       "    <tr style=\"text-align: right;\">\n",
       "      <th></th>\n",
       "      <th>text</th>\n",
       "      <th>ts</th>\n",
       "      <th>NewTime</th>\n",
       "    </tr>\n",
       "  </thead>\n",
       "  <tbody>\n",
       "    <tr>\n",
       "      <th>2</th>\n",
       "      <td>welcome fellow fellows!</td>\n",
       "      <td>1.420829e+09</td>\n",
       "      <td>2015-01-09 18:51:35.000004</td>\n",
       "    </tr>\n",
       "    <tr>\n",
       "      <th>4</th>\n",
       "      <td>can you invite others? i've invited everyone f...</td>\n",
       "      <td>1.420830e+09</td>\n",
       "      <td>2015-01-09 18:52:20.000006</td>\n",
       "    </tr>\n",
       "    <tr>\n",
       "      <th>8</th>\n",
       "      <td>hello world!</td>\n",
       "      <td>1.420831e+09</td>\n",
       "      <td>2015-01-09 19:11:07.000010</td>\n",
       "    </tr>\n",
       "    <tr>\n",
       "      <th>10</th>\n",
       "      <td>tomv: how's dow jones / news corp. treating yo...</td>\n",
       "      <td>1.420831e+09</td>\n",
       "      <td>2015-01-09 19:11:43.000012</td>\n",
       "    </tr>\n",
       "    <tr>\n",
       "      <th>11</th>\n",
       "      <td>hi all!</td>\n",
       "      <td>1.420831e+09</td>\n",
       "      <td>2015-01-09 19:15:07.000013</td>\n",
       "    </tr>\n",
       "    <tr>\n",
       "      <th>12</th>\n",
       "      <td>hello!</td>\n",
       "      <td>1.420832e+09</td>\n",
       "      <td>2015-01-09 19:26:21.000014</td>\n",
       "    </tr>\n",
       "    <tr>\n",
       "      <th>13</th>\n",
       "      <td>&lt;@u03ay3ftz&gt;: fabulous thank you</td>\n",
       "      <td>1.420832e+09</td>\n",
       "      <td>2015-01-09 19:26:32.000015</td>\n",
       "    </tr>\n",
       "    <tr>\n",
       "      <th>14</th>\n",
       "      <td>i've only deeply offended 4 people so far</td>\n",
       "      <td>1.420832e+09</td>\n",
       "      <td>2015-01-09 19:26:48.000016</td>\n",
       "    </tr>\n",
       "    <tr>\n",
       "      <th>15</th>\n",
       "      <td>so it's a major win</td>\n",
       "      <td>1.420832e+09</td>\n",
       "      <td>2015-01-09 19:26:52.000017</td>\n",
       "    </tr>\n",
       "    <tr>\n",
       "      <th>16</th>\n",
       "      <td>although i've spent the last week doing nothin...</td>\n",
       "      <td>1.420832e+09</td>\n",
       "      <td>2015-01-09 19:27:28.000018</td>\n",
       "    </tr>\n",
       "  </tbody>\n",
       "</table>\n",
       "</div>"
      ],
      "text/plain": [
       "                                                 text            ts  \\\n",
       "2                             welcome fellow fellows!  1.420829e+09   \n",
       "4   can you invite others? i've invited everyone f...  1.420830e+09   \n",
       "8                                        hello world!  1.420831e+09   \n",
       "10  tomv: how's dow jones / news corp. treating yo...  1.420831e+09   \n",
       "11                                            hi all!  1.420831e+09   \n",
       "12                                             hello!  1.420832e+09   \n",
       "13                   <@u03ay3ftz>: fabulous thank you  1.420832e+09   \n",
       "14          i've only deeply offended 4 people so far  1.420832e+09   \n",
       "15                                so it's a major win  1.420832e+09   \n",
       "16  although i've spent the last week doing nothin...  1.420832e+09   \n",
       "\n",
       "                      NewTime  \n",
       "2  2015-01-09 18:51:35.000004  \n",
       "4  2015-01-09 18:52:20.000006  \n",
       "8  2015-01-09 19:11:07.000010  \n",
       "10 2015-01-09 19:11:43.000012  \n",
       "11 2015-01-09 19:15:07.000013  \n",
       "12 2015-01-09 19:26:21.000014  \n",
       "13 2015-01-09 19:26:32.000015  \n",
       "14 2015-01-09 19:26:48.000016  \n",
       "15 2015-01-09 19:26:52.000017  \n",
       "16 2015-01-09 19:27:28.000018  "
      ]
     },
     "execution_count": 19,
     "metadata": {},
     "output_type": "execute_result"
    }
   ],
   "source": [
    "df[:10]"
   ]
  },
  {
   "cell_type": "code",
   "execution_count": 20,
   "metadata": {},
   "outputs": [],
   "source": [
    "#pull out questions\n",
    "df_quest = df[df['text'].str.startswith(('how','what','why','where','when', 'can'))]"
   ]
  },
  {
   "cell_type": "code",
   "execution_count": 21,
   "metadata": {},
   "outputs": [
    {
     "data": {
      "text/plain": [
       "232"
      ]
     },
     "execution_count": 21,
     "metadata": {},
     "output_type": "execute_result"
    }
   ],
   "source": [
    "len(df_quest)"
   ]
  },
  {
   "cell_type": "code",
   "execution_count": 22,
   "metadata": {},
   "outputs": [],
   "source": [
    "#Preprocessing\n",
    "\n",
    "df_quest_list1= [re.sub('\\\\n', '',x) for x in df_quest['text']]\n",
    "#remove user tags and URLS\n",
    "df_quest_list2 = [re.sub('<.*?>', '', i) for i in df_quest_list1]\n",
    "#remove :: emojis \n",
    "df_quest_list3= [re.sub(':\\w+:', '', p) for p in df_quest_list2] \n",
    "#list_clean3= [re.sub(':[a-z_]:/', '', p) for p in list_clean2] \n",
    "#remove \\\\\n",
    "df_quest_list4 = [re.sub(r\"\\\\\", \"\", q) for q in df_quest_list3] "
   ]
  },
  {
   "cell_type": "code",
   "execution_count": 23,
   "metadata": {},
   "outputs": [
    {
     "data": {
      "text/plain": [
       "[\"can you invite others? i've invited everyone from our class, but it'd be great to have all fellows on this same slack, don't you think?\",\n",
       " 'what exactly were you trying to do there joshainsley ?',\n",
       " 'how many alumni are actually on here? i think it might just be me and british matt from my session.',\n",
       " 'can you install it via apt-get?',\n",
       " 'how is x distributed?',\n",
       " 'how and where companies are applying machine learning: ',\n",
       " 'what is setting?',\n",
       " 'what is the study for?',\n",
       " 'what is your use case?',\n",
       " 'how about a colo ?']"
      ]
     },
     "execution_count": 23,
     "metadata": {},
     "output_type": "execute_result"
    }
   ],
   "source": [
    "df_quest_list4[:10]"
   ]
  },
  {
   "cell_type": "code",
   "execution_count": 24,
   "metadata": {},
   "outputs": [
    {
     "data": {
      "text/plain": [
       "['what',\n",
       " 'exactly',\n",
       " 'were',\n",
       " 'you',\n",
       " 'trying',\n",
       " 'to',\n",
       " 'do',\n",
       " 'there',\n",
       " 'joshainsley',\n",
       " '?']"
      ]
     },
     "execution_count": 24,
     "metadata": {},
     "output_type": "execute_result"
    }
   ],
   "source": [
    "df_quest_list4[1].split()"
   ]
  },
  {
   "cell_type": "code",
   "execution_count": 59,
   "metadata": {},
   "outputs": [],
   "source": [
    "big_string = ''\n",
    "for combine_list in df_quest_list4:\n",
    "    \n",
    "    big_string += ' '+ combine_list + ' '"
   ]
  },
  {
   "cell_type": "code",
   "execution_count": 60,
   "metadata": {},
   "outputs": [
    {
     "data": {
      "text/plain": [
       "' can you invite others? i\\'ve invited everyone from our class, but it\\'d be great to have all fellows on this same slack, don\\'t you think?  what exactly were you trying to do there joshainsley ?  how many alumni are actually on here? i think it might just be me and british matt from my session.  can you install it via apt-get?  how is x distributed?  how and where companies are applying machine learning:   what is setting?  what is the study for?  what is your use case?  how about a colo ?  how do those headphones even stay on?  how about mode analytics?  what time does it start?  why is boss anti-scala?  what\\'s reddit\\'s button all about??  what kind of strategies do you all use for isolating your \\'production\\' database from your \\'research\\' database?(e.g. clone + custom tables?,  read-only slave + ?,  data-warehouse layer like redshift?)advantages? disadvantages?  what happens when you make a neural network hallucinate?   can be summarized in a single bullet point:* give everyone access to the data.  what is the best way to make sense of json files using pandas dataframe? read_json() results in error ( valueerror: mixing dicts with non-series may lead to ambiguous ordering.) #json  #pandas  what are you trying to do?  what endpoint are you trying to hit?  how progressive uses machine learning:     can anyone recommend a good interactive python tutorial?  i\\'m looking for something like leetcode where they give you exercises to complete on an  editor/interpreter that gives immediate feedback on syntax and correctness, but is structured as an overview of the language.  and i don\\'t want something for non-programmers that teaches what variables and for loops are.i\\'ve found the codecademy course  but it\\'s too slow paced and watered down.  i\\'m hoping for something i can knock out in an afternoon.  what’s the point from fivethirtyeight is also good about current topics  can anyone recommend some good java tutorials?  why would nuggetbot have anything to say about algorithmic overlo- oh my god  what is cobol? =p  however, often, it\\'s the first of the month after you start  can i start a poll? i\\'m new to data science and my boss asked me what my priorities were for learning skills on my new job. i have the following list, but i\\'m kind of intimidated by deciding this by myself. does anyone think i should add or subtract anything to/from my list?                                                                     machine learningbusinesspythonsql and spark/hadooppredictive analyticsmentoring/working on a team  what\\'s the job?  canadian fellows: what can i do in vancouver in the next 36 hrs?  can anyone on this channel provide pointers for interviewing with the facebook infrastructure team?  can you give a specific example?  what, and deprive the rest of us of the opportunity to help?   whereto.photo is great.  i wonder what happens if i try to find pictures of \"yoga\" in sf?  how to think like a data scientist  how to think like a data scientist  can anybody suggest a good site to purchase a plane ticket to fly international (canada)?  what is the usual procedure to standardize images of different sizes and shapes to the same size and shape, if i want to feed the pixels into svm etc. as features?  resize the images and pad using white pixels?  what do you mean by that, alexanderjerneck  what sort of issues are you encountering,  ?  how important is it that we show error bars or p-values in our figures since we are working with less than ideal data especially if large (yet significant) error bars take away from the aesthetic presentation of the data?  cant locate it, if any one has info. pl. let me know  what could this mean??  can anyone shed some light on why hadoop streaming would map and reduce my input perfectly when the input is in a single hdfs file, but the mappers output nothing when the input is split across multiple files?  can you guess a real arxiv paper from a fake one?  what do you mean by \"highcharts\"?  i\\'ve been doing some stuff with cartodb:    how buffer() evolved their pipeline:   cant stress enough how valuable this post is, especially if you are in the startup world.   how often is there a parent/child  where n = the number of elements in the original set  can someone write a simple slack scraper or bot that has access to  and stores a message history to a database or external webpage or something? i hate when i see useful conversation get deleted over time.  what do you use/recommend for scraping sites, beautifulsoup?!  how can i do that? what sw (free or on msdn) are available. platform windows 7  can anyone suggest what is the best practice to do bulk load from file to cassandara?  how much of a step is it over designing gpus to be optimized for linear algebra (low-rank tensors)  whereas with an fpga or gpu/cpu, you are using something that already exists and writing an application (e.g. code) to work within its architecture  what do people here use for serializing and persisting machine learning models? sure pickling is great for a handful of models but what about a large number of  different models that are each being loaded and trained by an end user and then saved again?  when i do that, i can’t access the other tables from the other databases  how about office 720 or even 900? tony hawk style  when i just run the web-app without gunicorn on port 80, everything works. so i guess for now i will forego gunicorn for my less robust solution.  however, the extent to which you’re penalized for deviations from the perfect ordering _does_ depend on the _actual_ y values.  what?  what i’d be most interested in are the http status codes of the responses (i.e. if you’re getting 304 wrongly). that’s the sort of thing that could cause weird caching bugs, and which might differ from one server to another.  why the hidden layer ?  what\\'s your definition of linear in this case?  why is non linear better than linear?  why is that better than w2(w1)s?  how do you define a circle?  how ai should be used to augment people rather than replace them:  how did the transition between the single director and multiple product owners go?  (i’m in a similar boat to , first ds here and we’re growing our team)  when i started there was five ds/analysts and a few engineers, maybe 4-5 who did a mixture of bi etl and sexier big data stuff all under one director who reported to the ceo.then i believe around the same time we brought in a director of data engineering and a second analytics director who has taken part of our team under sales and marketing. my supervisor is the vp (original director) who reports to the cto.  can you simulate some?  how complex is the data?  when i did this previously, i used a one-class svm for the anomaly detection where all the example data was used for training. then i used a multiclass model for the actual classification. can’t remember that one...  what kind of emr\\'s are you talking about? is it still a data integration problem or are you looking to do something more?  what data set have you had luck on training with?  what do you find has better performance. training on the data to be used. the ‘docs’ that i am trying to cluster are short. maybe ~ 2-3 words on average.  what type of database is this?  can you be more specific about the kind of query you’re looking to optimize?  when i think d3.js, i don\\'t usually think easy. i\\'ve use bokeh. it\\'s similar to d3.js and can make interactive maps.  when i have a bit more time i want to make a web app that allows you to play  what do people use for workflow management? we’re finding trello to be ineffective as the number of projects and people have grown.  what problem?  pid is a pretty general control algorithm  can anyone recommend some good tutorials for node-red? i’m learning to build internet of things. thanks!  why are they so terrible about this kind of thing? i left my comment on the question when it was still under se.  can i get in on that working group too? that application would be super useful on some of my projects.  why are you trying to manipulate with spark?  how us gov might prepare for ai-induced economic shifts:  can you confirm that the worker process can “see” this variable (value)?i’m not sure how you set it, and most likely there is a description on aws, but it is possible that it was not set as systemwide env var  whatever you do, don\\'t buy a new macbook pro. those things are trash trash trash. i\\'ve been dealing with them for 4 days since starting a new job. one died on the first day. there are no (useful) ports, the touchbar is a travesty. just..ugh.  what types of models do you guys typically use for a/b/n tests for seo data with factorial designs? i was thinking of a zero inflated negative binomial regression but there don\\'t seem to be any packages in python for this. does anyone have any experience in this area, and if so can you point me in the right direction?  what dis, ?  what are these labels based on, and what exactly are you trying to accomplish by tagging word sets?  how to not data science   what he said!   what purpose do you want it to serve?  junior / regular / senior are all based on a combination of education / experience levels.  what do you want to highlight with these titles?  can be, at least.  what’s a clean pythonic way of providing two constructors for a class? i know i can do some logic with kwargs, but i feel that doesn’t provide the same clarity of use that having a defined signature does?  what kind of metrics do you guys usually use when you talk about model performance/accuracy/… to non-technical people? assumption here is that things like roc/auroc etc will be too technical.  what about mlconf in march?  anyone know about that?    how about open source issues?  what other sorts of projects would you want to work on?  where does everyone work? (midtown here, commute back to jersey -&gt; soon to ct)  can anyone recommend a good source of guidance for handling missing values for various machine learning algorithms?  how well have you found `lightfm` scales to folding in new users?  presumably it needs to rebuild its matrices to integrate a new row (independent of the issue of that user not having any ratings, so it would be cold-starting just off of their `user_features`)  how about using the same corpus with both labels in the training? i have to think about the drawbacks of this. what is the final outcome of the model?  what about more high-level stuff? questions that assess management style, culture fit, that type of thing - nontechnical  what about more junior level positions? i frequently get asked about jobs at that level and i’ve posted for a few. i know they are not aimed at insight alumnae/i specifically, but they are useful connections to make.  can we make it geographically broad...ie midwest, east coast etc.?  when i google measurement analytics without ab testing i only get results about ab testing :d  what are you trying to do?  what are some good practices for achieving better than random log-loss for time series data that’s bucketed by months? i can easily build a model that performs well when evaluated on the total year, but i want it to achieve good performance in each month also  what types of data exploration plots did you include in your demos for nlp based projects?  can anyone help with getting a postgresql database set up with aws? i have an e2 instance running ubuntu, and i\\'m able to connect and load my app. i also have an rdb instance running postgresql, and i\\'m able to connect and query the database on my local machine with sqlalchemy and psycopg2. however, when i try to run my app on the e2 instance, i get the following error after running `gunicorn flaskexample:app`,```operationalerror: could not connect to server: no such file or directory    is the server running locally and accepting    connections on unix domain socket \"/var/run/postgresql/.s.pgsql.5432\"? ```if i comment out the line where i try to connect to the database, it will run. i\\'ve changed the permissions on amazon rdb, so it should be able to connect. i\\'m stuck, can anyone help?  what is a good tool that you guys have used for schema management?  when in doubt, don\\'t feel blue, go green!  what my grad school education consisted of:  applied math, optimization and estimation theory, orbital mechanics and control systems.  what it should have been:  how to make pretty charts in powerpoint.    however, the visa allows you to enter. so it does happen that someone had health insurance, say, though employer/school when entering the us. but then lose coverage for whatever reason. at that point, you are not breaking immigration law. and if you’ve been in the us for less than…i think2 years…you’re also not breaking the law which mandates everyone to have some types of coverage or you’ll get a penalty in your tax  what are the pieces in ur etl? mysql-&gt;redshift?  how does one tell if a query is cpu bound or more so memory/disk intensive?  can someone remind me where to find the electronic ds library? is it on google drive?  what kind of model are you using? i retrained the last 2 layers of inception in my project.   how does people create emr clusters on spot instances?   how do people create hive table from csv files that contains json data in one of its column, where the data of interest for building the hive table is in the json data  what does it do? can we hang our coats on the hook and chill all day by a cup of coffee before we get sacked?    what if we\\'re not trying to convince people that diversity is good but trying to send the message that we don\\'t tolerate supremacist ideology? because i think you might be mistaking the point of these reactions.  can i pm you to add to this? this is awesome.  when would this be?  how many gpu cores?  however, the underlying tech behaves as advertised and is awesome and very fast.  can\\'t comment as i\\'m a developer but i know the swordfish hacking scene is a pretty accurate portrayal of my life   what have you done   what kind of reviews are you looking for? yelp has a handy data api. also, google might as well.  when i moved to the us i was *stunned* that ssn is considered a password-level secret, despite the fact that it can\\'t be changed over my whole life, and i have to give it out to about 25 different entitities a year...  can talk to 3rd-party geo mapping  what\\'s everyone\\'s opinion on the best python package for live dashboard implementation?  what type of server side configuration do you need to take advantage of it\\'s in mem distributed advantages? are you using it on an emr cluster?  how imbalanced? i can\\'t quite remember the exact cutoff before it becomes worrisome, maybe 15%/85%?  how about this:  create table a stored as parquet as [sql].  then pull the file off hadoop fs.    can we just ask slack to disable the channel notification? someone here has to work there  when you also say grouping var, do you mean a categorical variable?  what are you hoping the person will work on? experimentation, dashboarding, ad-hoc work, modeling? how much will they need to get their own data and write etl? design experiments? do they need to work with engineers in python/scala? how do you share data internally, via tableau, jupyter, something else?  what\\'s the source of the data initially?  what\\'s the conclusion/summary from this salary slide?  why not use stan?  what sort of other methods did you try for the first part of finding relevant subgroups?  what about propensity score matching?  model the likelihood to receive the treatment then estimate treatment effect across similar groups with similar propensities.  i worked with this package long ago for this and it seemed decent:   when doing this at zipcar we found that the best way, even if it was to solicit top-down project ideas was to show examples of completed projects, and additionally suggest projects we thought would be high roi and could be solved in a data driven way. this made starting the conversation easier, and made it an overall collaborative effort.  what are those? they sound fancy…  what about dask?  can some insight fellow make a chrome extension that reads your jupyter notebook and automatically suggests pages on stackoverflow that are relevant?  how about wed before the panel?  when is the panel? i don’t see it on the schedule on the nips website  what about the data made the recommendation system seem like a good approach?  what are people\\'s preferred approaches/libraries/companies for user tables with 100 or so columns (possibly linkage to other tables, at scale)? graph? relational? redshift?  how flexible it is in order to pick up a teammate’s notebook and edit/add codes?  can you also compare it with any other platform?  how you structure your version control becomes an interesting complication. i don’t know how to compare it to other platforms.   where/how do you draw that line?  what about answering personal emails?  that’s the one i generally do from work on a regular basis  can you dual-boot into a linux env, or do most work remote vis ssh?  what\\'s the status at spotify? mix of oses? did you get any choice?  what about ubuntu linux on windows?  what do people use to make dashboards in python?i\\'m looking at:but it\\'d be great to know if there are other good options as well.  can someone explain how much capability and longevity the free, open source side of plotly has? interactive plotting in it seems like a game changer, even just for eda, but i don\\'t want to get locked in somehow  can make page clicks, enter passwords, etc  what\\'s the benefits of doing that rather than just leaving it out? from a computational perspective, infinitesimally small is just 0?  what happens if you try to download several files from the ftp server simultaneously?  what do you mean?  what other distances?  what’s the pm track?  what questions did you have?  though not sure i know much about \\'best practices\\'  what version of flink + connector are you using?  what\\'s up?  where can i find a great tutorial on the use of window functions?  why don\\'t just take the entire fft ? if that\\'s to big, you can take mfcc instead (or an equivalent mesure that does not use the mel scale)  what techniques/strategies do you use to improve your precision without hurting your recall? this is for an imbalanced classification problem where i sub-sampled the negatives to match the number of positives. i have plenty of positive data to do this.  what kind of problem are you working on, supervised or unsupervised?  can anyone suggest some dashboards solutions they’ve seen used? this would be for e.g. product teams to track day by day user behavior trends, not real time streaming or anything. i work for a small startup and am trying to identify a good solution — it would be great to talk to some users of various dashboards if you’d be willing to put me in touch! thanks!   what are your favorite resources for setting up a data science environment using jupyter notebooks/python/terminal on a windows pc? what about favorite blogs for doing data science on windows?i’m coming from a unix/mac background and i haven’t used windows in over 10 years.  how did your airflow dag take into account changing schemas? assuming it did  something like the cataloging of tables via the crawler like in glue.  however, with json data, snowflake can handle changing schema. but not other data types  how do you balance rigorous data science/modeling work with real-life deployment requirements?   can they come up with a roadmap for research/testing/analysis for the next 6 months, given a prompt about a business question or new product launch?  what if you cut that down to 3 months, what would they cut from the original plan, why?  can they come up with a suite of kpis for your business? what dimensions would they be broken down by? what hypotheses could they generate from this list?  what do you guys think of the topic of this session   do you think it’s useful for implementing compliance to gdpr?  canadian feeling vancouver hard here.    can scikit learn be used effectively in spark? (that is distributed)  what\\'s the journal  why do you think this? i taed lots of students who i\\'d never want writing code i\\'d have to maintain, hah.  what tn profession did you indicate? computer systems analyst or mathematician / statistician?  when? definitely interested.  how about conda?  when i\\'m doing personal stuff i use conda for envs. at work i\\'m a really special snowflake.  what type of data are you labeling? i used a java tool to do image segmentation… i can try to find it  what’s the :+1: threshold for going at-channel?  can we get more music fanatics in ?  can’t edit notifications away    how fast do you anticipate your table to be growing?  what are you planning to do with this data?  when you’re debugging why commands don’t work, it can always be helpful to type “which &lt;cmd&gt;”  what you expect  where in south bay? and is month-to-month do-able?  when i’m browsing resumes i find the titles don’t make a lot of difference but they do makes some difference. i do glance over what they say they did in those roles and i do know typical alternative titles and titling quirks of some of the large employers. in fact i recently screened a resume that was pretty good but it had all “data science” titles going back to 2004. no one was using that title back then. when you look at his linkedin profile they were all non-ds titles. i felt it was too sketchy and you definitely don’t ever want to give a hiring manager a chance to question your honesty. though a colleague disagreed and thought it was ok given the work described was fairly data sciencey.you definitely should demand that your title reflect your work. if you are using substantial statistics on large projects or doing engineering you probably should not have analyst in your title.  what **data** pipelines do people use for working on small amounts of data? something under 10gb where you can\\'t justify a map reduce library.  can\\'t wait until this is fully up and running...   what big lessons did you learn after you deployed your first machine learning predictive model as a data scientist that helped you improve for your second model?  what were the other 2.5, i thought there were basically 3  how can we refer a prospective fellow to the new data pm program? any available link?  why do you think it’s sketchy?  is this not a situation where the publication supports co-first author?  what are the conference hours each day?  how is this channel different from  ?  how do folks distinguish between data analysts and data scientists, in terms of job descriptions/recruitment/hiring? at my company we are having a tough time emphasizing that we don’t necessarily need the full qualifications for a data scientist, but instead want someone more junior that still has statistical chops. any input is appreciated!  when you say you\\'re having a tough time emphasizing it, how does that manifest itself? do you have too few applicants from people of the desired skillset / salary expectations you\\'re looking for?  what are people’s thoughts on the following line in someone’s resume:“• hired 4 data scientists (all women), of which 3 promoted in less than 2 years.”  can you bring this person to us for a proper, thorough judgment? we have a lot of questions.  where can we add our data? though sadly n=1 for the midwest may not be terribly useful :(  what task (regression/classification/ranking/etc) are you planning on using it for? i can flood you with ranking information and pitfalls if needed.  how about just using a lasso penalty with logistic regression?  that tends to drive less important feature coefficients to zero.  maybe i am misunderstanding your question.    what five words would you use to describe your job? i got a kick out of this:   can someone help me understand what a typical ai stack should look like? or any literature that can help me understand on a high level?   what type of models?  can an insight employee let me know who is the best strategic partnerships point of contact (email) for desv and whatever ya\\'ll are calling devops sv?  what do you mean by \"how can i get a predict value with domain_2 and ip_2\" ?  can\\'t really make a recommendation blind   use the one that works best for your model  why do you want to find a way around haversine? is that a bottleneck for you?  what do you document it on?  what else did you have in mind?  can you elaborate on the “as close to code as you can” part?  what would you like to learn?   where will you be working ?  can anyone recommend a good print publication to stay on top of tech news? i\\'m rather old fashioned and like getting newspapers/magazines in the mail instead of obsessively checking websites. '"
      ]
     },
     "execution_count": 60,
     "metadata": {},
     "output_type": "execute_result"
    }
   ],
   "source": [
    "big_string"
   ]
  },
  {
   "cell_type": "code",
   "execution_count": 61,
   "metadata": {},
   "outputs": [
    {
     "name": "stdout",
     "output_type": "stream",
     "text": [
      "['can', 'you', 'invite', 'others?', \"i've\", 'invited', 'everyone', 'from', 'our', 'class,', 'but', \"it'd\", 'be', 'great', 'to', 'have', 'all', 'fellows', 'on', 'this', 'same', 'slack,', \"don't\", 'you', 'think?', 'what', 'exactly', 'were', 'you', 'trying', 'to', 'do', 'there', 'joshainsley', '?', 'how', 'many', 'alumni', 'are', 'actually', 'on', 'here?', 'i', 'think', 'it', 'might', 'just', 'be', 'me', 'and', 'british', 'matt', 'from', 'my', 'session.', 'can', 'you', 'install', 'it', 'via', 'apt-get?', 'how', 'is', 'x', 'distributed?', 'how', 'and', 'where', 'companies', 'are', 'applying', 'machine', 'learning:', 'what', 'is', 'setting?', 'what', 'is', 'the', 'study', 'for?', 'what', 'is', 'your', 'use', 'case?', 'how', 'about', 'a', 'colo', '?', 'how', 'do', 'those', 'headphones', 'even', 'stay', 'on?', 'how', 'about', 'mode', 'analytics?', 'what', 'time', 'does', 'it', 'start?', 'why', 'is', 'boss', 'anti-scala?', \"what's\", \"reddit's\", 'button', 'all', 'about??', 'what', 'kind', 'of', 'strategies', 'do', 'you', 'all', 'use', 'for', 'isolating', 'your', \"'production'\", 'database', 'from', 'your', \"'research'\", 'database?(e.g.', 'clone', '+', 'custom', 'tables?,', 'read-only', 'slave', '+', '?,', 'data-warehouse', 'layer', 'like', 'redshift?)advantages?', 'disadvantages?', 'what', 'happens', 'when', 'you', 'make', 'a', 'neural', 'network', 'hallucinate?', 'can', 'be', 'summarized', 'in', 'a', 'single', 'bullet', 'point:*', 'give', 'everyone', 'access', 'to', 'the', 'data.', 'what', 'is', 'the', 'best', 'way', 'to', 'make', 'sense', 'of', 'json', 'files', 'using', 'pandas', 'dataframe?', 'read_json()', 'results', 'in', 'error', '(', 'valueerror:', 'mixing', 'dicts', 'with', 'non-series', 'may', 'lead', 'to', 'ambiguous', 'ordering.)', '#json', '#pandas', 'what', 'are', 'you', 'trying', 'to', 'do?', 'what', 'endpoint', 'are', 'you', 'trying', 'to', 'hit?', 'how', 'progressive', 'uses', 'machine', 'learning:', 'can', 'anyone', 'recommend', 'a', 'good', 'interactive', 'python', 'tutorial?', \"i'm\", 'looking', 'for', 'something', 'like', 'leetcode', 'where', 'they', 'give', 'you', 'exercises', 'to', 'complete', 'on', 'an', 'editor/interpreter', 'that', 'gives', 'immediate', 'feedback', 'on', 'syntax', 'and', 'correctness,', 'but', 'is', 'structured', 'as', 'an', 'overview', 'of', 'the', 'language.', 'and', 'i', \"don't\", 'want', 'something', 'for', 'non-programmers', 'that', 'teaches', 'what', 'variables', 'and', 'for', 'loops', \"are.i've\", 'found', 'the', 'codecademy', 'course', 'but', \"it's\", 'too', 'slow', 'paced', 'and', 'watered', 'down.', \"i'm\", 'hoping', 'for', 'something', 'i', 'can', 'knock', 'out', 'in', 'an', 'afternoon.', 'what’s', 'the', 'point', 'from', 'fivethirtyeight', 'is', 'also', 'good', 'about', 'current', 'topics', 'can', 'anyone', 'recommend', 'some', 'good', 'java', 'tutorials?', 'why', 'would', 'nuggetbot', 'have', 'anything', 'to', 'say', 'about', 'algorithmic', 'overlo-', 'oh', 'my', 'god', 'what', 'is', 'cobol?', '=p', 'however,', 'often,', \"it's\", 'the', 'first', 'of', 'the', 'month', 'after', 'you', 'start', 'can', 'i', 'start', 'a', 'poll?', \"i'm\", 'new', 'to', 'data', 'science', 'and', 'my', 'boss', 'asked', 'me', 'what', 'my', 'priorities', 'were', 'for', 'learning', 'skills', 'on', 'my', 'new', 'job.', 'i', 'have', 'the', 'following', 'list,', 'but', \"i'm\", 'kind', 'of', 'intimidated', 'by', 'deciding', 'this', 'by', 'myself.', 'does', 'anyone', 'think', 'i', 'should', 'add', 'or', 'subtract', 'anything', 'to/from', 'my', 'list?', 'machine', 'learningbusinesspythonsql', 'and', 'spark/hadooppredictive', 'analyticsmentoring/working', 'on', 'a', 'team', \"what's\", 'the', 'job?', 'canadian', 'fellows:', 'what', 'can', 'i', 'do', 'in', 'vancouver', 'in', 'the', 'next', '36', 'hrs?', 'can', 'anyone', 'on', 'this', 'channel', 'provide', 'pointers', 'for', 'interviewing', 'with', 'the', 'facebook', 'infrastructure', 'team?', 'can', 'you', 'give', 'a', 'specific', 'example?', 'what,', 'and', 'deprive', 'the', 'rest', 'of', 'us', 'of', 'the', 'opportunity', 'to', 'help?', 'whereto.photo', 'is', 'great.', 'i', 'wonder', 'what', 'happens', 'if', 'i', 'try', 'to', 'find', 'pictures', 'of', '\"yoga\"', 'in', 'sf?', 'how', 'to', 'think', 'like', 'a', 'data', 'scientist', 'how', 'to', 'think', 'like', 'a', 'data', 'scientist', 'can', 'anybody', 'suggest', 'a', 'good', 'site', 'to', 'purchase', 'a', 'plane', 'ticket', 'to', 'fly', 'international', '(canada)?', 'what', 'is', 'the', 'usual', 'procedure', 'to', 'standardize', 'images', 'of', 'different', 'sizes', 'and', 'shapes', 'to', 'the', 'same', 'size', 'and', 'shape,', 'if', 'i', 'want', 'to', 'feed', 'the', 'pixels', 'into', 'svm', 'etc.', 'as', 'features?', 'resize', 'the', 'images', 'and', 'pad', 'using', 'white', 'pixels?', 'what', 'do', 'you', 'mean', 'by', 'that,', 'alexanderjerneck', 'what', 'sort', 'of', 'issues', 'are', 'you', 'encountering,', '?', 'how', 'important', 'is', 'it', 'that', 'we', 'show', 'error', 'bars', 'or', 'p-values', 'in', 'our', 'figures', 'since', 'we', 'are', 'working', 'with', 'less', 'than', 'ideal', 'data', 'especially', 'if', 'large', '(yet', 'significant)', 'error', 'bars', 'take', 'away', 'from', 'the', 'aesthetic', 'presentation', 'of', 'the', 'data?', 'cant', 'locate', 'it,', 'if', 'any', 'one', 'has', 'info.', 'pl.', 'let', 'me', 'know', 'what', 'could', 'this', 'mean??', 'can', 'anyone', 'shed', 'some', 'light', 'on', 'why', 'hadoop', 'streaming', 'would', 'map', 'and', 'reduce', 'my', 'input', 'perfectly', 'when', 'the', 'input', 'is', 'in', 'a', 'single', 'hdfs', 'file,', 'but', 'the', 'mappers', 'output', 'nothing', 'when', 'the', 'input', 'is', 'split', 'across', 'multiple', 'files?', 'can', 'you', 'guess', 'a', 'real', 'arxiv', 'paper', 'from', 'a', 'fake', 'one?', 'what', 'do', 'you', 'mean', 'by', '\"highcharts\"?', \"i've\", 'been', 'doing', 'some', 'stuff', 'with', 'cartodb:', 'how', 'buffer()', 'evolved', 'their', 'pipeline:', 'cant', 'stress', 'enough', 'how', 'valuable', 'this', 'post', 'is,', 'especially', 'if', 'you', 'are', 'in', 'the', 'startup', 'world.', 'how', 'often', 'is', 'there', 'a', 'parent/child', 'where', 'n', '=', 'the', 'number', 'of', 'elements', 'in', 'the', 'original', 'set', 'can', 'someone', 'write', 'a', 'simple', 'slack', 'scraper', 'or', 'bot', 'that', 'has', 'access', 'to', 'and', 'stores', 'a', 'message', 'history', 'to', 'a', 'database', 'or', 'external', 'webpage', 'or', 'something?', 'i', 'hate', 'when', 'i', 'see', 'useful', 'conversation', 'get', 'deleted', 'over', 'time.', 'what', 'do', 'you', 'use/recommend', 'for', 'scraping', 'sites,', 'beautifulsoup?!', 'how', 'can', 'i', 'do', 'that?', 'what', 'sw', '(free', 'or', 'on', 'msdn)', 'are', 'available.', 'platform', 'windows', '7', 'can', 'anyone', 'suggest', 'what', 'is', 'the', 'best', 'practice', 'to', 'do', 'bulk', 'load', 'from', 'file', 'to', 'cassandara?', 'how', 'much', 'of', 'a', 'step', 'is', 'it', 'over', 'designing', 'gpus', 'to', 'be', 'optimized', 'for', 'linear', 'algebra', '(low-rank', 'tensors)', 'whereas', 'with', 'an', 'fpga', 'or', 'gpu/cpu,', 'you', 'are', 'using', 'something', 'that', 'already', 'exists', 'and', 'writing', 'an', 'application', '(e.g.', 'code)', 'to', 'work', 'within', 'its', 'architecture', 'what', 'do', 'people', 'here', 'use', 'for', 'serializing', 'and', 'persisting', 'machine', 'learning', 'models?', 'sure', 'pickling', 'is', 'great', 'for', 'a', 'handful', 'of', 'models', 'but', 'what', 'about', 'a', 'large', 'number', 'of', 'different', 'models', 'that', 'are', 'each', 'being', 'loaded', 'and', 'trained', 'by', 'an', 'end', 'user', 'and', 'then', 'saved', 'again?', 'when', 'i', 'do', 'that,', 'i', 'can’t', 'access', 'the', 'other', 'tables', 'from', 'the', 'other', 'databases', 'how', 'about', 'office', '720', 'or', 'even', '900?', 'tony', 'hawk', 'style', 'when', 'i', 'just', 'run', 'the', 'web-app', 'without', 'gunicorn', 'on', 'port', '80,', 'everything', 'works.', 'so', 'i', 'guess', 'for', 'now', 'i', 'will', 'forego', 'gunicorn', 'for', 'my', 'less', 'robust', 'solution.', 'however,', 'the', 'extent', 'to', 'which', 'you’re', 'penalized', 'for', 'deviations', 'from', 'the', 'perfect', 'ordering', '_does_', 'depend', 'on', 'the', '_actual_', 'y', 'values.', 'what?', 'what', 'i’d', 'be', 'most', 'interested', 'in', 'are', 'the', 'http', 'status', 'codes', 'of', 'the', 'responses', '(i.e.', 'if', 'you’re', 'getting', '304', 'wrongly).', 'that’s', 'the', 'sort', 'of', 'thing', 'that', 'could', 'cause', 'weird', 'caching', 'bugs,', 'and', 'which', 'might', 'differ', 'from', 'one', 'server', 'to', 'another.', 'why', 'the', 'hidden', 'layer', '?', \"what's\", 'your', 'definition', 'of', 'linear', 'in', 'this', 'case?', 'why', 'is', 'non', 'linear', 'better', 'than', 'linear?', 'why', 'is', 'that', 'better', 'than', 'w2(w1)s?', 'how', 'do', 'you', 'define', 'a', 'circle?', 'how', 'ai', 'should', 'be', 'used', 'to', 'augment', 'people', 'rather', 'than', 'replace', 'them:', 'how', 'did', 'the', 'transition', 'between', 'the', 'single', 'director', 'and', 'multiple', 'product', 'owners', 'go?', '(i’m', 'in', 'a', 'similar', 'boat', 'to', ',', 'first', 'ds', 'here', 'and', 'we’re', 'growing', 'our', 'team)', 'when', 'i', 'started', 'there', 'was', 'five', 'ds/analysts', 'and', 'a', 'few', 'engineers,', 'maybe', '4-5', 'who', 'did', 'a', 'mixture', 'of', 'bi', 'etl', 'and', 'sexier', 'big', 'data', 'stuff', 'all', 'under', 'one', 'director', 'who', 'reported', 'to', 'the', 'ceo.then', 'i', 'believe', 'around', 'the', 'same', 'time', 'we', 'brought', 'in', 'a', 'director', 'of', 'data', 'engineering', 'and', 'a', 'second', 'analytics', 'director', 'who', 'has', 'taken', 'part', 'of', 'our', 'team', 'under', 'sales', 'and', 'marketing.', 'my', 'supervisor', 'is', 'the', 'vp', '(original', 'director)', 'who', 'reports', 'to', 'the', 'cto.', 'can', 'you', 'simulate', 'some?', 'how', 'complex', 'is', 'the', 'data?', 'when', 'i', 'did', 'this', 'previously,', 'i', 'used', 'a', 'one-class', 'svm', 'for', 'the', 'anomaly', 'detection', 'where', 'all', 'the', 'example', 'data', 'was', 'used', 'for', 'training.', 'then', 'i', 'used', 'a', 'multiclass', 'model', 'for', 'the', 'actual', 'classification.', 'can’t', 'remember', 'that', 'one...', 'what', 'kind', 'of', \"emr's\", 'are', 'you', 'talking', 'about?', 'is', 'it', 'still', 'a', 'data', 'integration', 'problem', 'or', 'are', 'you', 'looking', 'to', 'do', 'something', 'more?', 'what', 'data', 'set', 'have', 'you', 'had', 'luck', 'on', 'training', 'with?', 'what', 'do', 'you', 'find', 'has', 'better', 'performance.', 'training', 'on', 'the', 'data', 'to', 'be', 'used.', 'the', '‘docs’', 'that', 'i', 'am', 'trying', 'to', 'cluster', 'are', 'short.', 'maybe', '~', '2-3', 'words', 'on', 'average.', 'what', 'type', 'of', 'database', 'is', 'this?', 'can', 'you', 'be', 'more', 'specific', 'about', 'the', 'kind', 'of', 'query', 'you’re', 'looking', 'to', 'optimize?', 'when', 'i', 'think', 'd3.js,', 'i', \"don't\", 'usually', 'think', 'easy.', \"i've\", 'use', 'bokeh.', \"it's\", 'similar', 'to', 'd3.js', 'and', 'can', 'make', 'interactive', 'maps.', 'when', 'i', 'have', 'a', 'bit', 'more', 'time', 'i', 'want', 'to', 'make', 'a', 'web', 'app', 'that', 'allows', 'you', 'to', 'play', 'what', 'do', 'people', 'use', 'for', 'workflow', 'management?', 'we’re', 'finding', 'trello', 'to', 'be', 'ineffective', 'as', 'the', 'number', 'of', 'projects', 'and', 'people', 'have', 'grown.', 'what', 'problem?', 'pid', 'is', 'a', 'pretty', 'general', 'control', 'algorithm', 'can', 'anyone', 'recommend', 'some', 'good', 'tutorials', 'for', 'node-red?', 'i’m', 'learning', 'to', 'build', 'internet', 'of', 'things.', 'thanks!', 'why', 'are', 'they', 'so', 'terrible', 'about', 'this', 'kind', 'of', 'thing?', 'i', 'left', 'my', 'comment', 'on', 'the', 'question', 'when', 'it', 'was', 'still', 'under', 'se.', 'can', 'i', 'get', 'in', 'on', 'that', 'working', 'group', 'too?', 'that', 'application', 'would', 'be', 'super', 'useful', 'on', 'some', 'of', 'my', 'projects.', 'why', 'are', 'you', 'trying', 'to', 'manipulate', 'with', 'spark?', 'how', 'us', 'gov', 'might', 'prepare', 'for', 'ai-induced', 'economic', 'shifts:', 'can', 'you', 'confirm', 'that', 'the', 'worker', 'process', 'can', '“see”', 'this', 'variable', '(value)?i’m', 'not', 'sure', 'how', 'you', 'set', 'it,', 'and', 'most', 'likely', 'there', 'is', 'a', 'description', 'on', 'aws,', 'but', 'it', 'is', 'possible', 'that', 'it', 'was', 'not', 'set', 'as', 'systemwide', 'env', 'var', 'whatever', 'you', 'do,', \"don't\", 'buy', 'a', 'new', 'macbook', 'pro.', 'those', 'things', 'are', 'trash', 'trash', 'trash.', \"i've\", 'been', 'dealing', 'with', 'them', 'for', '4', 'days', 'since', 'starting', 'a', 'new', 'job.', 'one', 'died', 'on', 'the', 'first', 'day.', 'there', 'are', 'no', '(useful)', 'ports,', 'the', 'touchbar', 'is', 'a', 'travesty.', 'just..ugh.', 'what', 'types', 'of', 'models', 'do', 'you', 'guys', 'typically', 'use', 'for', 'a/b/n', 'tests', 'for', 'seo', 'data', 'with', 'factorial', 'designs?', 'i', 'was', 'thinking', 'of', 'a', 'zero', 'inflated', 'negative', 'binomial', 'regression', 'but', 'there', \"don't\", 'seem', 'to', 'be', 'any', 'packages', 'in', 'python', 'for', 'this.', 'does', 'anyone', 'have', 'any', 'experience', 'in', 'this', 'area,', 'and', 'if', 'so', 'can', 'you', 'point', 'me', 'in', 'the', 'right', 'direction?', 'what', 'dis,', '?', 'what', 'are', 'these', 'labels', 'based', 'on,', 'and', 'what', 'exactly', 'are', 'you', 'trying', 'to', 'accomplish', 'by', 'tagging', 'word', 'sets?', 'how', 'to', 'not', 'data', 'science', 'what', 'he', 'said!', 'what', 'purpose', 'do', 'you', 'want', 'it', 'to', 'serve?', 'junior', '/', 'regular', '/', 'senior', 'are', 'all', 'based', 'on', 'a', 'combination', 'of', 'education', '/', 'experience', 'levels.', 'what', 'do', 'you', 'want', 'to', 'highlight', 'with', 'these', 'titles?', 'can', 'be,', 'at', 'least.', 'what’s', 'a', 'clean', 'pythonic', 'way', 'of', 'providing', 'two', 'constructors', 'for', 'a', 'class?', 'i', 'know', 'i', 'can', 'do', 'some', 'logic', 'with', 'kwargs,', 'but', 'i', 'feel', 'that', 'doesn’t', 'provide', 'the', 'same', 'clarity', 'of', 'use', 'that', 'having', 'a', 'defined', 'signature', 'does?', 'what', 'kind', 'of', 'metrics', 'do', 'you', 'guys', 'usually', 'use', 'when', 'you', 'talk', 'about', 'model', 'performance/accuracy/…', 'to', 'non-technical', 'people?', 'assumption', 'here', 'is', 'that', 'things', 'like', 'roc/auroc', 'etc', 'will', 'be', 'too', 'technical.', 'what', 'about', 'mlconf', 'in', 'march?', 'anyone', 'know', 'about', 'that?', 'how', 'about', 'open', 'source', 'issues?', 'what', 'other', 'sorts', 'of', 'projects', 'would', 'you', 'want', 'to', 'work', 'on?', 'where', 'does', 'everyone', 'work?', '(midtown', 'here,', 'commute', 'back', 'to', 'jersey', '-&gt;', 'soon', 'to', 'ct)', 'can', 'anyone', 'recommend', 'a', 'good', 'source', 'of', 'guidance', 'for', 'handling', 'missing', 'values', 'for', 'various', 'machine', 'learning', 'algorithms?', 'how', 'well', 'have', 'you', 'found', '`lightfm`', 'scales', 'to', 'folding', 'in', 'new', 'users?', 'presumably', 'it', 'needs', 'to', 'rebuild', 'its', 'matrices', 'to', 'integrate', 'a', 'new', 'row', '(independent', 'of', 'the', 'issue', 'of', 'that', 'user', 'not', 'having', 'any', 'ratings,', 'so', 'it', 'would', 'be', 'cold-starting', 'just', 'off', 'of', 'their', '`user_features`)', 'how', 'about', 'using', 'the', 'same', 'corpus', 'with', 'both', 'labels', 'in', 'the', 'training?', 'i', 'have', 'to', 'think', 'about', 'the', 'drawbacks', 'of', 'this.', 'what', 'is', 'the', 'final', 'outcome', 'of', 'the', 'model?', 'what', 'about', 'more', 'high-level', 'stuff?', 'questions', 'that', 'assess', 'management', 'style,', 'culture', 'fit,', 'that', 'type', 'of', 'thing', '-', 'nontechnical', 'what', 'about', 'more', 'junior', 'level', 'positions?', 'i', 'frequently', 'get', 'asked', 'about', 'jobs', 'at', 'that', 'level', 'and', 'i’ve', 'posted', 'for', 'a', 'few.', 'i', 'know', 'they', 'are', 'not', 'aimed', 'at', 'insight', 'alumnae/i', 'specifically,', 'but', 'they', 'are', 'useful', 'connections', 'to', 'make.', 'can', 'we', 'make', 'it', 'geographically', 'broad...ie', 'midwest,', 'east', 'coast', 'etc.?', 'when', 'i', 'google', 'measurement', 'analytics', 'without', 'ab', 'testing', 'i', 'only', 'get', 'results', 'about', 'ab', 'testing', ':d', 'what', 'are', 'you', 'trying', 'to', 'do?', 'what', 'are', 'some', 'good', 'practices', 'for', 'achieving', 'better', 'than', 'random', 'log-loss', 'for', 'time', 'series', 'data', 'that’s', 'bucketed', 'by', 'months?', 'i', 'can', 'easily', 'build', 'a', 'model', 'that', 'performs', 'well', 'when', 'evaluated', 'on', 'the', 'total', 'year,', 'but', 'i', 'want', 'it', 'to', 'achieve', 'good', 'performance', 'in', 'each', 'month', 'also', 'what', 'types', 'of', 'data', 'exploration', 'plots', 'did', 'you', 'include', 'in', 'your', 'demos', 'for', 'nlp', 'based', 'projects?', 'can', 'anyone', 'help', 'with', 'getting', 'a', 'postgresql', 'database', 'set', 'up', 'with', 'aws?', 'i', 'have', 'an', 'e2', 'instance', 'running', 'ubuntu,', 'and', \"i'm\", 'able', 'to', 'connect', 'and', 'load', 'my', 'app.', 'i', 'also', 'have', 'an', 'rdb', 'instance', 'running', 'postgresql,', 'and', \"i'm\", 'able', 'to', 'connect', 'and', 'query', 'the', 'database', 'on', 'my', 'local', 'machine', 'with', 'sqlalchemy', 'and', 'psycopg2.', 'however,', 'when', 'i', 'try', 'to', 'run', 'my', 'app', 'on', 'the', 'e2', 'instance,', 'i', 'get', 'the', 'following', 'error', 'after', 'running', '`gunicorn', 'flaskexample:app`,```operationalerror:', 'could', 'not', 'connect', 'to', 'server:', 'no', 'such', 'file', 'or', 'directory', 'is', 'the', 'server', 'running', 'locally', 'and', 'accepting', 'connections', 'on', 'unix', 'domain', 'socket', '\"/var/run/postgresql/.s.pgsql.5432\"?', '```if', 'i', 'comment', 'out', 'the', 'line', 'where', 'i', 'try', 'to', 'connect', 'to', 'the', 'database,', 'it', 'will', 'run.', \"i've\", 'changed', 'the', 'permissions', 'on', 'amazon', 'rdb,', 'so', 'it', 'should', 'be', 'able', 'to', 'connect.', \"i'm\", 'stuck,', 'can', 'anyone', 'help?', 'what', 'is', 'a', 'good', 'tool', 'that', 'you', 'guys', 'have', 'used', 'for', 'schema', 'management?', 'when', 'in', 'doubt,', \"don't\", 'feel', 'blue,', 'go', 'green!', 'what', 'my', 'grad', 'school', 'education', 'consisted', 'of:', 'applied', 'math,', 'optimization', 'and', 'estimation', 'theory,', 'orbital', 'mechanics', 'and', 'control', 'systems.', 'what', 'it', 'should', 'have', 'been:', 'how', 'to', 'make', 'pretty', 'charts', 'in', 'powerpoint.', 'however,', 'the', 'visa', 'allows', 'you', 'to', 'enter.', 'so', 'it', 'does', 'happen', 'that', 'someone', 'had', 'health', 'insurance,', 'say,', 'though', 'employer/school', 'when', 'entering', 'the', 'us.', 'but', 'then', 'lose', 'coverage', 'for', 'whatever', 'reason.', 'at', 'that', 'point,', 'you', 'are', 'not', 'breaking', 'immigration', 'law.', 'and', 'if', 'you’ve', 'been', 'in', 'the', 'us', 'for', 'less', 'than…i', 'think2', 'years…you’re', 'also', 'not', 'breaking', 'the', 'law', 'which', 'mandates', 'everyone', 'to', 'have', 'some', 'types', 'of', 'coverage', 'or', 'you’ll', 'get', 'a', 'penalty', 'in', 'your', 'tax', 'what', 'are', 'the', 'pieces', 'in', 'ur', 'etl?', 'mysql-&gt;redshift?', 'how', 'does', 'one', 'tell', 'if', 'a', 'query', 'is', 'cpu', 'bound', 'or', 'more', 'so', 'memory/disk', 'intensive?', 'can', 'someone', 'remind', 'me', 'where', 'to', 'find', 'the', 'electronic', 'ds', 'library?', 'is', 'it', 'on', 'google', 'drive?', 'what', 'kind', 'of', 'model', 'are', 'you', 'using?', 'i', 'retrained', 'the', 'last', '2', 'layers', 'of', 'inception', 'in', 'my', 'project.', 'how', 'does', 'people', 'create', 'emr', 'clusters', 'on', 'spot', 'instances?', 'how', 'do', 'people', 'create', 'hive', 'table', 'from', 'csv', 'files', 'that', 'contains', 'json', 'data', 'in', 'one', 'of', 'its', 'column,', 'where', 'the', 'data', 'of', 'interest', 'for', 'building', 'the', 'hive', 'table', 'is', 'in', 'the', 'json', 'data', 'what', 'does', 'it', 'do?', 'can', 'we', 'hang', 'our', 'coats', 'on', 'the', 'hook', 'and', 'chill', 'all', 'day', 'by', 'a', 'cup', 'of', 'coffee', 'before', 'we', 'get', 'sacked?', 'what', 'if', \"we're\", 'not', 'trying', 'to', 'convince', 'people', 'that', 'diversity', 'is', 'good', 'but', 'trying', 'to', 'send', 'the', 'message', 'that', 'we', \"don't\", 'tolerate', 'supremacist', 'ideology?', 'because', 'i', 'think', 'you', 'might', 'be', 'mistaking', 'the', 'point', 'of', 'these', 'reactions.', 'can', 'i', 'pm', 'you', 'to', 'add', 'to', 'this?', 'this', 'is', 'awesome.', 'when', 'would', 'this', 'be?', 'how', 'many', 'gpu', 'cores?', 'however,', 'the', 'underlying', 'tech', 'behaves', 'as', 'advertised', 'and', 'is', 'awesome', 'and', 'very', 'fast.', \"can't\", 'comment', 'as', \"i'm\", 'a', 'developer', 'but', 'i', 'know', 'the', 'swordfish', 'hacking', 'scene', 'is', 'a', 'pretty', 'accurate', 'portrayal', 'of', 'my', 'life', 'what', 'have', 'you', 'done', 'what', 'kind', 'of', 'reviews', 'are', 'you', 'looking', 'for?', 'yelp', 'has', 'a', 'handy', 'data', 'api.', 'also,', 'google', 'might', 'as', 'well.', 'when', 'i', 'moved', 'to', 'the', 'us', 'i', 'was', '*stunned*', 'that', 'ssn', 'is', 'considered', 'a', 'password-level', 'secret,', 'despite', 'the', 'fact', 'that', 'it', \"can't\", 'be', 'changed', 'over', 'my', 'whole', 'life,', 'and', 'i', 'have', 'to', 'give', 'it', 'out', 'to', 'about', '25', 'different', 'entitities', 'a', 'year...', 'can', 'talk', 'to', '3rd-party', 'geo', 'mapping', \"what's\", \"everyone's\", 'opinion', 'on', 'the', 'best', 'python', 'package', 'for', 'live', 'dashboard', 'implementation?', 'what', 'type', 'of', 'server', 'side', 'configuration', 'do', 'you', 'need', 'to', 'take', 'advantage', 'of', \"it's\", 'in', 'mem', 'distributed', 'advantages?', 'are', 'you', 'using', 'it', 'on', 'an', 'emr', 'cluster?', 'how', 'imbalanced?', 'i', \"can't\", 'quite', 'remember', 'the', 'exact', 'cutoff', 'before', 'it', 'becomes', 'worrisome,', 'maybe', '15%/85%?', 'how', 'about', 'this:', 'create', 'table', 'a', 'stored', 'as', 'parquet', 'as', '[sql].', 'then', 'pull', 'the', 'file', 'off', 'hadoop', 'fs.', 'can', 'we', 'just', 'ask', 'slack', 'to', 'disable', 'the', 'channel', 'notification?', 'someone', 'here', 'has', 'to', 'work', 'there', 'when', 'you', 'also', 'say', 'grouping', 'var,', 'do', 'you', 'mean', 'a', 'categorical', 'variable?', 'what', 'are', 'you', 'hoping', 'the', 'person', 'will', 'work', 'on?', 'experimentation,', 'dashboarding,', 'ad-hoc', 'work,', 'modeling?', 'how', 'much', 'will', 'they', 'need', 'to', 'get', 'their', 'own', 'data', 'and', 'write', 'etl?', 'design', 'experiments?', 'do', 'they', 'need', 'to', 'work', 'with', 'engineers', 'in', 'python/scala?', 'how', 'do', 'you', 'share', 'data', 'internally,', 'via', 'tableau,', 'jupyter,', 'something', 'else?', \"what's\", 'the', 'source', 'of', 'the', 'data', 'initially?', \"what's\", 'the', 'conclusion/summary', 'from', 'this', 'salary', 'slide?', 'why', 'not', 'use', 'stan?', 'what', 'sort', 'of', 'other', 'methods', 'did', 'you', 'try', 'for', 'the', 'first', 'part', 'of', 'finding', 'relevant', 'subgroups?', 'what', 'about', 'propensity', 'score', 'matching?', 'model', 'the', 'likelihood', 'to', 'receive', 'the', 'treatment', 'then', 'estimate', 'treatment', 'effect', 'across', 'similar', 'groups', 'with', 'similar', 'propensities.', 'i', 'worked', 'with', 'this', 'package', 'long', 'ago', 'for', 'this', 'and', 'it', 'seemed', 'decent:', 'when', 'doing', 'this', 'at', 'zipcar', 'we', 'found', 'that', 'the', 'best', 'way,', 'even', 'if', 'it', 'was', 'to', 'solicit', 'top-down', 'project', 'ideas', 'was', 'to', 'show', 'examples', 'of', 'completed', 'projects,', 'and', 'additionally', 'suggest', 'projects', 'we', 'thought', 'would', 'be', 'high', 'roi', 'and', 'could', 'be', 'solved', 'in', 'a', 'data', 'driven', 'way.', 'this', 'made', 'starting', 'the', 'conversation', 'easier,', 'and', 'made', 'it', 'an', 'overall', 'collaborative', 'effort.', 'what', 'are', 'those?', 'they', 'sound', 'fancy…', 'what', 'about', 'dask?', 'can', 'some', 'insight', 'fellow', 'make', 'a', 'chrome', 'extension', 'that', 'reads', 'your', 'jupyter', 'notebook', 'and', 'automatically', 'suggests', 'pages', 'on', 'stackoverflow', 'that', 'are', 'relevant?', 'how', 'about', 'wed', 'before', 'the', 'panel?', 'when', 'is', 'the', 'panel?', 'i', 'don’t', 'see', 'it', 'on', 'the', 'schedule', 'on', 'the', 'nips', 'website', 'what', 'about', 'the', 'data', 'made', 'the', 'recommendation', 'system', 'seem', 'like', 'a', 'good', 'approach?', 'what', 'are', \"people's\", 'preferred', 'approaches/libraries/companies', 'for', 'user', 'tables', 'with', '100', 'or', 'so', 'columns', '(possibly', 'linkage', 'to', 'other', 'tables,', 'at', 'scale)?', 'graph?', 'relational?', 'redshift?', 'how', 'flexible', 'it', 'is', 'in', 'order', 'to', 'pick', 'up', 'a', 'teammate’s', 'notebook', 'and', 'edit/add', 'codes?', 'can', 'you', 'also', 'compare', 'it', 'with', 'any', 'other', 'platform?', 'how', 'you', 'structure', 'your', 'version', 'control', 'becomes', 'an', 'interesting', 'complication.', 'i', 'don’t', 'know', 'how', 'to', 'compare', 'it', 'to', 'other', 'platforms.', 'where/how', 'do', 'you', 'draw', 'that', 'line?', 'what', 'about', 'answering', 'personal', 'emails?', 'that’s', 'the', 'one', 'i', 'generally', 'do', 'from', 'work', 'on', 'a', 'regular', 'basis', 'can', 'you', 'dual-boot', 'into', 'a', 'linux', 'env,', 'or', 'do', 'most', 'work', 'remote', 'vis', 'ssh?', \"what's\", 'the', 'status', 'at', 'spotify?', 'mix', 'of', 'oses?', 'did', 'you', 'get', 'any', 'choice?', 'what', 'about', 'ubuntu', 'linux', 'on', 'windows?', 'what', 'do', 'people', 'use', 'to', 'make', 'dashboards', 'in', \"python?i'm\", 'looking', 'at:but', \"it'd\", 'be', 'great', 'to', 'know', 'if', 'there', 'are', 'other', 'good', 'options', 'as', 'well.', 'can', 'someone', 'explain', 'how', 'much', 'capability', 'and', 'longevity', 'the', 'free,', 'open', 'source', 'side', 'of', 'plotly', 'has?', 'interactive', 'plotting', 'in', 'it', 'seems', 'like', 'a', 'game', 'changer,', 'even', 'just', 'for', 'eda,', 'but', 'i', \"don't\", 'want', 'to', 'get', 'locked', 'in', 'somehow', 'can', 'make', 'page', 'clicks,', 'enter', 'passwords,', 'etc', \"what's\", 'the', 'benefits', 'of', 'doing', 'that', 'rather', 'than', 'just', 'leaving', 'it', 'out?', 'from', 'a', 'computational', 'perspective,', 'infinitesimally', 'small', 'is', 'just', '0?', 'what', 'happens', 'if', 'you', 'try', 'to', 'download', 'several', 'files', 'from', 'the', 'ftp', 'server', 'simultaneously?', 'what', 'do', 'you', 'mean?', 'what', 'other', 'distances?', 'what’s', 'the', 'pm', 'track?', 'what', 'questions', 'did', 'you', 'have?', 'though', 'not', 'sure', 'i', 'know', 'much', 'about', \"'best\", \"practices'\", 'what', 'version', 'of', 'flink', '+', 'connector', 'are', 'you', 'using?', \"what's\", 'up?', 'where', 'can', 'i', 'find', 'a', 'great', 'tutorial', 'on', 'the', 'use', 'of', 'window', 'functions?', 'why', \"don't\", 'just', 'take', 'the', 'entire', 'fft', '?', 'if', \"that's\", 'to', 'big,', 'you', 'can', 'take', 'mfcc', 'instead', '(or', 'an', 'equivalent', 'mesure', 'that', 'does', 'not', 'use', 'the', 'mel', 'scale)', 'what', 'techniques/strategies', 'do', 'you', 'use', 'to', 'improve', 'your', 'precision', 'without', 'hurting', 'your', 'recall?', 'this', 'is', 'for', 'an', 'imbalanced', 'classification', 'problem', 'where', 'i', 'sub-sampled', 'the', 'negatives', 'to', 'match', 'the', 'number', 'of', 'positives.', 'i', 'have', 'plenty', 'of', 'positive', 'data', 'to', 'do', 'this.', 'what', 'kind', 'of', 'problem', 'are', 'you', 'working', 'on,', 'supervised', 'or', 'unsupervised?', 'can', 'anyone', 'suggest', 'some', 'dashboards', 'solutions', 'they’ve', 'seen', 'used?', 'this', 'would', 'be', 'for', 'e.g.', 'product', 'teams', 'to', 'track', 'day', 'by', 'day', 'user', 'behavior', 'trends,', 'not', 'real', 'time', 'streaming', 'or', 'anything.', 'i', 'work', 'for', 'a', 'small', 'startup', 'and', 'am', 'trying', 'to', 'identify', 'a', 'good', 'solution', '—', 'it', 'would', 'be', 'great', 'to', 'talk', 'to', 'some', 'users', 'of', 'various', 'dashboards', 'if', 'you’d', 'be', 'willing', 'to', 'put', 'me', 'in', 'touch!', 'thanks!', 'what', 'are', 'your', 'favorite', 'resources', 'for', 'setting', 'up', 'a', 'data', 'science', 'environment', 'using', 'jupyter', 'notebooks/python/terminal', 'on', 'a', 'windows', 'pc?', 'what', 'about', 'favorite', 'blogs', 'for', 'doing', 'data', 'science', 'on', 'windows?i’m', 'coming', 'from', 'a', 'unix/mac', 'background', 'and', 'i', 'haven’t', 'used', 'windows', 'in', 'over', '10', 'years.', 'how', 'did', 'your', 'airflow', 'dag', 'take', 'into', 'account', 'changing', 'schemas?', 'assuming', 'it', 'did', 'something', 'like', 'the', 'cataloging', 'of', 'tables', 'via', 'the', 'crawler', 'like', 'in', 'glue.', 'however,', 'with', 'json', 'data,', 'snowflake', 'can', 'handle', 'changing', 'schema.', 'but', 'not', 'other', 'data', 'types', 'how', 'do', 'you', 'balance', 'rigorous', 'data', 'science/modeling', 'work', 'with', 'real-life', 'deployment', 'requirements?', 'can', 'they', 'come', 'up', 'with', 'a', 'roadmap', 'for', 'research/testing/analysis', 'for', 'the', 'next', '6', 'months,', 'given', 'a', 'prompt', 'about', 'a', 'business', 'question', 'or', 'new', 'product', 'launch?', 'what', 'if', 'you', 'cut', 'that', 'down', 'to', '3', 'months,', 'what', 'would', 'they', 'cut', 'from', 'the', 'original', 'plan,', 'why?', 'can', 'they', 'come', 'up', 'with', 'a', 'suite', 'of', 'kpis', 'for', 'your', 'business?', 'what', 'dimensions', 'would', 'they', 'be', 'broken', 'down', 'by?', 'what', 'hypotheses', 'could', 'they', 'generate', 'from', 'this', 'list?', 'what', 'do', 'you', 'guys', 'think', 'of', 'the', 'topic', 'of', 'this', 'session', 'do', 'you', 'think', 'it’s', 'useful', 'for', 'implementing', 'compliance', 'to', 'gdpr?', 'canadian', 'feeling', 'vancouver', 'hard', 'here.', 'can', 'scikit', 'learn', 'be', 'used', 'effectively', 'in', 'spark?', '(that', 'is', 'distributed)', \"what's\", 'the', 'journal', 'why', 'do', 'you', 'think', 'this?', 'i', 'taed', 'lots', 'of', 'students', 'who', \"i'd\", 'never', 'want', 'writing', 'code', \"i'd\", 'have', 'to', 'maintain,', 'hah.', 'what', 'tn', 'profession', 'did', 'you', 'indicate?', 'computer', 'systems', 'analyst', 'or', 'mathematician', '/', 'statistician?', 'when?', 'definitely', 'interested.', 'how', 'about', 'conda?', 'when', \"i'm\", 'doing', 'personal', 'stuff', 'i', 'use', 'conda', 'for', 'envs.', 'at', 'work', \"i'm\", 'a', 'really', 'special', 'snowflake.', 'what', 'type', 'of', 'data', 'are', 'you', 'labeling?', 'i', 'used', 'a', 'java', 'tool', 'to', 'do', 'image', 'segmentation…', 'i', 'can', 'try', 'to', 'find', 'it', 'what’s', 'the', ':+1:', 'threshold', 'for', 'going', 'at-channel?', 'can', 'we', 'get', 'more', 'music', 'fanatics', 'in', '?', 'can’t', 'edit', 'notifications', 'away', 'how', 'fast', 'do', 'you', 'anticipate', 'your', 'table', 'to', 'be', 'growing?', 'what', 'are', 'you', 'planning', 'to', 'do', 'with', 'this', 'data?', 'when', 'you’re', 'debugging', 'why', 'commands', 'don’t', 'work,', 'it', 'can', 'always', 'be', 'helpful', 'to', 'type', '“which', '&lt;cmd&gt;”', 'what', 'you', 'expect', 'where', 'in', 'south', 'bay?', 'and', 'is', 'month-to-month', 'do-able?', 'when', 'i’m', 'browsing', 'resumes', 'i', 'find', 'the', 'titles', 'don’t', 'make', 'a', 'lot', 'of', 'difference', 'but', 'they', 'do', 'makes', 'some', 'difference.', 'i', 'do', 'glance', 'over', 'what', 'they', 'say', 'they', 'did', 'in', 'those', 'roles', 'and', 'i', 'do', 'know', 'typical', 'alternative', 'titles', 'and', 'titling', 'quirks', 'of', 'some', 'of', 'the', 'large', 'employers.', 'in', 'fact', 'i', 'recently', 'screened', 'a', 'resume', 'that', 'was', 'pretty', 'good', 'but', 'it', 'had', 'all', '“data', 'science”', 'titles', 'going', 'back', 'to', '2004.', 'no', 'one', 'was', 'using', 'that', 'title', 'back', 'then.', 'when', 'you', 'look', 'at', 'his', 'linkedin', 'profile', 'they', 'were', 'all', 'non-ds', 'titles.', 'i', 'felt', 'it', 'was', 'too', 'sketchy', 'and', 'you', 'definitely', 'don’t', 'ever', 'want', 'to', 'give', 'a', 'hiring', 'manager', 'a', 'chance', 'to', 'question', 'your', 'honesty.', 'though', 'a', 'colleague', 'disagreed', 'and', 'thought', 'it', 'was', 'ok', 'given', 'the', 'work', 'described', 'was', 'fairly', 'data', 'sciencey.you', 'definitely', 'should', 'demand', 'that', 'your', 'title', 'reflect', 'your', 'work.', 'if', 'you', 'are', 'using', 'substantial', 'statistics', 'on', 'large', 'projects', 'or', 'doing', 'engineering', 'you', 'probably', 'should', 'not', 'have', 'analyst', 'in', 'your', 'title.', 'what', '**data**', 'pipelines', 'do', 'people', 'use', 'for', 'working', 'on', 'small', 'amounts', 'of', 'data?', 'something', 'under', '10gb', 'where', 'you', \"can't\", 'justify', 'a', 'map', 'reduce', 'library.', \"can't\", 'wait', 'until', 'this', 'is', 'fully', 'up', 'and', 'running...', 'what', 'big', 'lessons', 'did', 'you', 'learn', 'after', 'you', 'deployed', 'your', 'first', 'machine', 'learning', 'predictive', 'model', 'as', 'a', 'data', 'scientist', 'that', 'helped', 'you', 'improve', 'for', 'your', 'second', 'model?', 'what', 'were', 'the', 'other', '2.5,', 'i', 'thought', 'there', 'were', 'basically', '3', 'how', 'can', 'we', 'refer', 'a', 'prospective', 'fellow', 'to', 'the', 'new', 'data', 'pm', 'program?', 'any', 'available', 'link?', 'why', 'do', 'you', 'think', 'it’s', 'sketchy?', 'is', 'this', 'not', 'a', 'situation', 'where', 'the', 'publication', 'supports', 'co-first', 'author?', 'what', 'are', 'the', 'conference', 'hours', 'each', 'day?', 'how', 'is', 'this', 'channel', 'different', 'from', '?', 'how', 'do', 'folks', 'distinguish', 'between', 'data', 'analysts', 'and', 'data', 'scientists,', 'in', 'terms', 'of', 'job', 'descriptions/recruitment/hiring?', 'at', 'my', 'company', 'we', 'are', 'having', 'a', 'tough', 'time', 'emphasizing', 'that', 'we', 'don’t', 'necessarily', 'need', 'the', 'full', 'qualifications', 'for', 'a', 'data', 'scientist,', 'but', 'instead', 'want', 'someone', 'more', 'junior', 'that', 'still', 'has', 'statistical', 'chops.', 'any', 'input', 'is', 'appreciated!', 'when', 'you', 'say', \"you're\", 'having', 'a', 'tough', 'time', 'emphasizing', 'it,', 'how', 'does', 'that', 'manifest', 'itself?', 'do', 'you', 'have', 'too', 'few', 'applicants', 'from', 'people', 'of', 'the', 'desired', 'skillset', '/', 'salary', 'expectations', \"you're\", 'looking', 'for?', 'what', 'are', 'people’s', 'thoughts', 'on', 'the', 'following', 'line', 'in', 'someone’s', 'resume:“•', 'hired', '4', 'data', 'scientists', '(all', 'women),', 'of', 'which', '3', 'promoted', 'in', 'less', 'than', '2', 'years.”', 'can', 'you', 'bring', 'this', 'person', 'to', 'us', 'for', 'a', 'proper,', 'thorough', 'judgment?', 'we', 'have', 'a', 'lot', 'of', 'questions.', 'where', 'can', 'we', 'add', 'our', 'data?', 'though', 'sadly', 'n=1', 'for', 'the', 'midwest', 'may', 'not', 'be', 'terribly', 'useful', ':(', 'what', 'task', '(regression/classification/ranking/etc)', 'are', 'you', 'planning', 'on', 'using', 'it', 'for?', 'i', 'can', 'flood', 'you', 'with', 'ranking', 'information', 'and', 'pitfalls', 'if', 'needed.', 'how', 'about', 'just', 'using', 'a', 'lasso', 'penalty', 'with', 'logistic', 'regression?', 'that', 'tends', 'to', 'drive', 'less', 'important', 'feature', 'coefficients', 'to', 'zero.', 'maybe', 'i', 'am', 'misunderstanding', 'your', 'question.', 'what', 'five', 'words', 'would', 'you', 'use', 'to', 'describe', 'your', 'job?', 'i', 'got', 'a', 'kick', 'out', 'of', 'this:', 'can', 'someone', 'help', 'me', 'understand', 'what', 'a', 'typical', 'ai', 'stack', 'should', 'look', 'like?', 'or', 'any', 'literature', 'that', 'can', 'help', 'me', 'understand', 'on', 'a', 'high', 'level?', 'what', 'type', 'of', 'models?', 'can', 'an', 'insight', 'employee', 'let', 'me', 'know', 'who', 'is', 'the', 'best', 'strategic', 'partnerships', 'point', 'of', 'contact', '(email)', 'for', 'desv', 'and', 'whatever', \"ya'll\", 'are', 'calling', 'devops', 'sv?', 'what', 'do', 'you', 'mean', 'by', '\"how', 'can', 'i', 'get', 'a', 'predict', 'value', 'with', 'domain_2', 'and', 'ip_2\"', '?', \"can't\", 'really', 'make', 'a', 'recommendation', 'blind', 'use', 'the', 'one', 'that', 'works', 'best', 'for', 'your', 'model', 'why', 'do', 'you', 'want', 'to', 'find', 'a', 'way', 'around', 'haversine?', 'is', 'that', 'a', 'bottleneck', 'for', 'you?', 'what', 'do', 'you', 'document', 'it', 'on?', 'what', 'else', 'did', 'you', 'have', 'in', 'mind?', 'can', 'you', 'elaborate', 'on', 'the', '“as', 'close', 'to', 'code', 'as', 'you', 'can”', 'part?', 'what', 'would', 'you', 'like', 'to', 'learn?', 'where', 'will', 'you', 'be', 'working', '?', 'can', 'anyone', 'recommend', 'a', 'good', 'print', 'publication', 'to', 'stay', 'on', 'top', 'of', 'tech', 'news?', \"i'm\", 'rather', 'old', 'fashioned', 'and', 'like', 'getting', 'newspapers/magazines', 'in', 'the', 'mail', 'instead', 'of', 'obsessively', 'checking', 'websites.']\n"
     ]
    }
   ],
   "source": [
    "#split one white space\n",
    "words = big_string.split()\n",
    "print(words)"
   ]
  },
  {
   "cell_type": "code",
   "execution_count": 62,
   "metadata": {},
   "outputs": [
    {
     "data": {
      "text/plain": [
       "4278"
      ]
     },
     "execution_count": 62,
     "metadata": {},
     "output_type": "execute_result"
    }
   ],
   "source": [
    "len(words)"
   ]
  },
  {
   "cell_type": "code",
   "execution_count": 63,
   "metadata": {},
   "outputs": [],
   "source": [
    "from nltk.stem.wordnet import WordNetLemmatizer\n",
    "lemmatizer = WordNetLemmatizer()\n",
    "\n",
    "lemmatized_tokens = []\n",
    "\n",
    "for token in words:\n",
    "    lemmatized_tokens.append(lemmatizer.lemmatize(token))"
   ]
  },
  {
   "cell_type": "code",
   "execution_count": 74,
   "metadata": {},
   "outputs": [
    {
     "data": {
      "text/plain": [
       "4278"
      ]
     },
     "execution_count": 74,
     "metadata": {},
     "output_type": "execute_result"
    }
   ],
   "source": [
    "len(lemmatized_tokens)"
   ]
  },
  {
   "cell_type": "code",
   "execution_count": 65,
   "metadata": {},
   "outputs": [],
   "source": [
    "from nltk.corpus import stopwords\n",
    "stop = stopwords.words('english')\n",
    "#remove stopwords\n",
    "cleaned_tokens = []\n",
    "for token in words:\n",
    "    if token not in stop:\n",
    "        cleaned_tokens.append(token)\n",
    "        "
   ]
  },
  {
   "cell_type": "code",
   "execution_count": 66,
   "metadata": {},
   "outputs": [
    {
     "data": {
      "text/plain": [
       "['invite',\n",
       " 'others?',\n",
       " \"i've\",\n",
       " 'invited',\n",
       " 'everyone',\n",
       " 'class,',\n",
       " \"it'd\",\n",
       " 'great',\n",
       " 'fellows',\n",
       " 'slack,']"
      ]
     },
     "execution_count": 66,
     "metadata": {},
     "output_type": "execute_result"
    }
   ],
   "source": [
    "cleaned_tokens[:10]"
   ]
  },
  {
   "cell_type": "code",
   "execution_count": 67,
   "metadata": {},
   "outputs": [],
   "source": [
    "word_dist = nltk.FreqDist(cleaned_tokens)"
   ]
  },
  {
   "cell_type": "code",
   "execution_count": 68,
   "metadata": {},
   "outputs": [
    {
     "name": "stdout",
     "output_type": "stream",
     "text": [
      "data;36\n",
      "use;17\n",
      "good;15\n",
      "anyone;14\n",
      "would;13\n",
      "think;12\n",
      "want;12\n",
      "get;12\n",
      "like;11\n",
      "make;11\n",
      "i'm;11\n",
      "work;11\n",
      "trying;10\n",
      "?;10\n",
      "what's;10\n",
      "using;10\n",
      "know;10\n",
      "people;10\n",
      "kind;9\n",
      "one;9\n"
     ]
    }
   ],
   "source": [
    "#Print list for common words \n",
    "for word, frequency in word_dist.most_common(20):\n",
    "    print('{};{}'.format(word, frequency))"
   ]
  },
  {
   "cell_type": "code",
   "execution_count": 69,
   "metadata": {},
   "outputs": [],
   "source": [
    "from sklearn.feature_extraction.text import CountVectorizer\n",
    "vectorizer = CountVectorizer()\n",
    "\n",
    "# stem our example article\n",
    "stemmed_message = ' '.join(wd for wd in cleaned_tokens)\n",
    "\n",
    "# performe a count-based vectorization of the document\n",
    "article_vect = vectorizer.fit_transform([stemmed_message])\n",
    "\n"
   ]
  },
  {
   "cell_type": "code",
   "execution_count": 70,
   "metadata": {},
   "outputs": [],
   "source": [
    "freqs = [(word, article_vect.getcol(idx).sum()) for word, idx in vectorizer.vocabulary_.items()]\n"
   ]
  },
  {
   "cell_type": "code",
   "execution_count": 71,
   "metadata": {},
   "outputs": [
    {
     "name": "stdout",
     "output_type": "stream",
     "text": [
      "[('data', 46), ('use', 18), ('what', 16), ('good', 15), ('work', 15)]\n"
     ]
    }
   ],
   "source": [
    "print(sorted (freqs, key = lambda x: -x[1])[0:5])\n"
   ]
  },
  {
   "cell_type": "code",
   "execution_count": 73,
   "metadata": {},
   "outputs": [
    {
     "data": {
      "image/png": "[encoded data removed]",
      "text/plain": [
       "<Figure size 432x288 with 1 Axes>"
      ]
     },
     "metadata": {},
     "output_type": "display_data"
    }
   ],
   "source": [
    "import matplotlib\n",
    "import matplotlib.pyplot as plt\n",
    "#matplotlib.style.use('ggplot')\n",
    "word_dist.plot(30, cumulative=False)\n"
   ]
  },
  {
   "cell_type": "code",
   "execution_count": 76,
   "metadata": {},
   "outputs": [],
   "source": [
    "#remove stopwords from dataframe\n",
    "#df_quest['text'] = df_quest[df_quest['text'].str.split(' ').apply(lambda x: ' '. join(k for k in x if k not in stop))]"
   ]
  },
  {
   "cell_type": "code",
   "execution_count": null,
   "metadata": {},
   "outputs": [],
   "source": []
  }
 ],
 "metadata": {
  "kernelspec": {
   "display_name": "Python 3",
   "language": "python",
   "name": "python3"
  },
  "language_info": {
   "codemirror_mode": {
    "name": "ipython",
    "version": 3
   },
   "file_extension": ".py",
   "mimetype": "text/x-python",
   "name": "python",
   "nbconvert_exporter": "python",
   "pygments_lexer": "ipython3",
   "version": "3.6.5"
  }
 },
 "nbformat": 4,
 "nbformat_minor": 2
}
