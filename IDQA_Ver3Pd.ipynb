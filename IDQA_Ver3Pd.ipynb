{
 "cells": [
  {
   "cell_type": "code",
   "execution_count": 1,
   "metadata": {},
   "outputs": [
    {
     "name": "stdout",
     "output_type": "stream",
     "text": [
      "[nltk_data] Downloading package stopwords to\n",
      "[nltk_data]     /Users/alison/nltk_data...\n",
      "[nltk_data]   Package stopwords is already up-to-date!\n",
      "['/Users/alison/insight/Insight Fellows_Slack/general/2016-07-22.json', '/Users/alison/insight/Insight Fellows_Slack/general/2017-01-18.json', '/Users/alison/insight/Insight Fellows_Slack/general/2017-03-25.json', '/Users/alison/insight/Insight Fellows_Slack/general/2015-04-11.json', '/Users/alison/insight/Insight Fellows_Slack/general/2017-11-18.json', '/Users/alison/insight/Insight Fellows_Slack/general/2018-05-26.json', '/Users/alison/insight/Insight Fellows_Slack/general/2016-08-11.json', '/Users/alison/insight/Insight Fellows_Slack/general/2017-02-08.json', '/Users/alison/insight/Insight Fellows_Slack/general/2015-07-01.json', '/Users/alison/insight/Insight Fellows_Slack/general/2017-07-31.json', '/Users/alison/insight/Insight Fellows_Slack/general/2016-10-26.json', '/Users/alison/insight/Insight Fellows_Slack/general/2017-04-21.json', '/Users/alison/insight/Insight Fellows_Slack/general/2018-02-22.json', '/Users/alison/insight/Insight Fellows_Slack/general/2017-08-02.json', '/Users/alison/insight/Insight Fellows_Slack/general/2015-01-28.json', '/Users/alison/insight/Insight Fellows_Slack/general/2018-01-24.json', '/Users/alison/insight/Insight Fellows_Slack/general/2018-03-19.json', '/Users/alison/insight/Insight Fellows_Slack/general/2015-10-13.json', '/Users/alison/insight/Insight Fellows_Slack/general/2017-07-27.json', '/Users/alison/insight/Insight Fellows_Slack/general/2017-08-14.json', '/Users/alison/insight/Insight Fellows_Slack/general/2015-03-03.json', '/Users/alison/insight/Insight Fellows_Slack/general/2016-05-09.json', '/Users/alison/insight/Insight Fellows_Slack/general/2018-05-30.json', '/Users/alison/insight/Insight Fellows_Slack/general/2015-04-07.json', '/Users/alison/insight/Insight Fellows_Slack/general/2015-08-24.json', '/Users/alison/insight/Insight Fellows_Slack/general/2015-07-17.json', '/Users/alison/insight/Insight Fellows_Slack/general/2017-10-23.json', '/Users/alison/insight/Insight Fellows_Slack/general/2015-09-09.json', '/Users/alison/insight/Insight Fellows_Slack/general/2015-12-02.json', '/Users/alison/insight/Insight Fellows_Slack/general/2017-09-15.json', '/Users/alison/insight/Insight Fellows_Slack/general/2015-02-02.json', '/Users/alison/insight/Insight Fellows_Slack/general/2018-01-08.json', '/Users/alison/insight/Insight Fellows_Slack/general/2016-01-31.json', '/Users/alison/insight/Insight Fellows_Slack/general/2017-06-26.json', '/Users/alison/insight/Insight Fellows_Slack/general/2015-11-12.json', '/Users/alison/insight/Insight Fellows_Slack/general/2015-01-12.json', '/Users/alison/insight/Insight Fellows_Slack/general/2016-12-21.json', '/Users/alison/insight/Insight Fellows_Slack/general/2017-01-22.json', '/Users/alison/insight/Insight Fellows_Slack/general/2017-11-22.json', '/Users/alison/insight/Insight Fellows_Slack/general/2015-06-16.json', '/Users/alison/insight/Insight Fellows_Slack/general/2016-07-18.json', '/Users/alison/insight/Insight Fellows_Slack/general/2016-09-06.json', '/Users/alison/insight/Insight Fellows_Slack/general/2015-05-06.json', '/Users/alison/insight/Insight Fellows_Slack/general/2016-04-08.json', '/Users/alison/insight/Insight Fellows_Slack/general/2017-03-09.json', '/Users/alison/insight/Insight Fellows_Slack/general/2016-09-10.json', '/Users/alison/insight/Insight Fellows_Slack/general/2017-10-19.json', '/Users/alison/insight/Insight Fellows_Slack/general/2017-12-24.json', '/Users/alison/insight/Insight Fellows_Slack/general/2018-04-27.json', '/Users/alison/insight/Insight Fellows_Slack/general/2017-02-24.json', '/Users/alison/insight/Insight Fellows_Slack/general/2016-06-23.json', '/Users/alison/insight/Insight Fellows_Slack/general/2018-03-23.json', '/Users/alison/insight/Insight Fellows_Slack/general/2017-09-03.json', '/Users/alison/insight/Insight Fellows_Slack/general/2015-02-14.json', '/Users/alison/insight/Insight Fellows_Slack/general/2017-05-20.json', '/Users/alison/insight/Insight Fellows_Slack/general/2015-12-14.json', '/Users/alison/insight/Insight Fellows_Slack/general/2015-10-29.json', '/Users/alison/insight/Insight Fellows_Slack/general/2016-11-27.json', '/Users/alison/insight/Insight Fellows_Slack/general/2016-01-27.json', '/Users/alison/insight/Insight Fellows_Slack/general/2017-06-30.json', '/Users/alison/insight/Insight Fellows_Slack/general/2016-06-03.json', '/Users/alison/insight/Insight Fellows_Slack/general/2017-12-04.json', '/Users/alison/insight/Insight Fellows_Slack/general/2018-04-07.json', '/Users/alison/insight/Insight Fellows_Slack/general/2015-09-13.json', '/Users/alison/insight/Insight Fellows_Slack/general/2017-02-04.json', '/Users/alison/insight/Insight Fellows_Slack/general/2016-09-30.json', '/Users/alison/insight/Insight Fellows_Slack/general/2016-05-13.json', '/Users/alison/insight/Insight Fellows_Slack/general/2017-11-14.json', '/Users/alison/insight/Insight Fellows_Slack/general/2017-03-29.json', '/Users/alison/insight/Insight Fellows_Slack/general/2016-12-17.json', '/Users/alison/insight/Insight Fellows_Slack/general/2016-02-17.json', '/Users/alison/insight/Insight Fellows_Slack/general/2015-01-24.json', '/Users/alison/insight/Insight Fellows_Slack/general/2015-03-19.json', '/Users/alison/insight/Insight Fellows_Slack/general/2015-11-24.json', '/Users/alison/insight/Insight Fellows_Slack/general/2017-06-10.json', '/Users/alison/insight/Insight Fellows_Slack/general/2016-11-07.json', '/Users/alison/insight/Insight Fellows_Slack/general/2018-03-03.json', '/Users/alison/insight/Insight Fellows_Slack/general/2016-02-01.json', '/Users/alison/insight/Insight Fellows_Slack/general/2016-12-01.json', '/Users/alison/insight/Insight Fellows_Slack/general/2017-06-06.json', '/Users/alison/insight/Insight Fellows_Slack/general/2017-08-18.json', '/Users/alison/insight/Insight Fellows_Slack/general/2016-01-11.json', '/Users/alison/insight/Insight Fellows_Slack/general/2016-11-11.json', '/Users/alison/insight/Insight Fellows_Slack/general/2017-05-16.json', '/Users/alison/insight/Insight Fellows_Slack/general/2018-03-15.json', '/Users/alison/insight/Insight Fellows_Slack/general/2016-06-15.json', '/Users/alison/insight/Insight Fellows_Slack/general/2016-04-28.json', '/Users/alison/insight/Insight Fellows_Slack/general/2017-02-12.json', '/Users/alison/insight/Insight Fellows_Slack/general/2018-04-11.json', '/Users/alison/insight/Insight Fellows_Slack/general/2017-12-12.json', '/Users/alison/insight/Insight Fellows_Slack/general/2016-05-05.json', '/Users/alison/insight/Insight Fellows_Slack/general/2016-09-26.json', '/Users/alison/insight/Insight Fellows_Slack/general/2015-08-28.json', '/Users/alison/insight/Insight Fellows_Slack/general/2017-11-02.json', '/Users/alison/insight/Insight Fellows_Slack/general/2018-02-14.json', '/Users/alison/insight/Insight Fellows_Slack/general/2017-04-17.json', '/Users/alison/insight/Insight Fellows_Slack/general/2016-10-10.json', '/Users/alison/insight/Insight Fellows_Slack/general/2018-01-04.json', '/Users/alison/insight/Insight Fellows_Slack/general/2017-09-19.json', '/Users/alison/insight/Insight Fellows_Slack/general/2017-07-07.json', '/Users/alison/insight/Insight Fellows_Slack/general/2017-10-03.json', '/Users/alison/insight/Insight Fellows_Slack/general/2015-09-29.json', '/Users/alison/insight/Insight Fellows_Slack/general/2016-08-27.json', '/Users/alison/insight/Insight Fellows_Slack/general/2016-04-04.json', '/Users/alison/insight/Insight Fellows_Slack/general/2018-05-10.json', '/Users/alison/insight/Insight Fellows_Slack/general/2015-08-04.json', '/Users/alison/insight/Insight Fellows_Slack/general/2017-03-13.json', '/Users/alison/insight/Insight Fellows_Slack/general/2016-07-14.json', '/Users/alison/insight/Insight Fellows_Slack/general/2017-02-28.json', '/Users/alison/insight/Insight Fellows_Slack/general/2017-12-28.json', '/Users/alison/insight/Insight Fellows_Slack/general/2016-04-12.json', '/Users/alison/insight/Insight Fellows_Slack/general/2016-08-31.json', '/Users/alison/insight/Insight Fellows_Slack/general/2015-08-12.json', '/Users/alison/insight/Insight Fellows_Slack/general/2018-05-06.json', '/Users/alison/insight/Insight Fellows_Slack/general/2016-07-02.json', '/Users/alison/insight/Insight Fellows_Slack/general/2017-04-01.json', '/Users/alison/insight/Insight Fellows_Slack/general/2018-02-02.json', '/Users/alison/insight/Insight Fellows_Slack/general/2017-08-22.json', '/Users/alison/insight/Insight Fellows_Slack/general/2016-10-06.json', '/Users/alison/insight/Insight Fellows_Slack/general/2017-07-11.json', '/Users/alison/insight/Insight Fellows_Slack/general/2015-12-18.json', '/Users/alison/insight/Insight Fellows_Slack/general/2018-01-12.json', '/Users/alison/insight/Insight Fellows_Slack/general/2016-03-16.json', '/Users/alison/insight/Insight Fellows_Slack/general/2017-07-10.json', '/Users/alison/insight/Insight Fellows_Slack/general/2015-02-19.json', '/Users/alison/insight/Insight Fellows_Slack/general/2018-01-13.json', '/Users/alison/insight/Insight Fellows_Slack/general/2016-03-17.json', '/Users/alison/insight/Insight Fellows_Slack/general/2015-11-09.json', '/Users/alison/insight/Insight Fellows_Slack/general/2018-02-03.json', '/Users/alison/insight/Insight Fellows_Slack/general/2017-08-23.json', '/Users/alison/insight/Insight Fellows_Slack/general/2015-01-09.json', '/Users/alison/insight/Insight Fellows_Slack/general/2016-10-07.json', '/Users/alison/insight/Insight Fellows_Slack/general/2015-08-13.json', '/Users/alison/insight/Insight Fellows_Slack/general/2017-03-04.json', '/Users/alison/insight/Insight Fellows_Slack/general/2015-04-30.json', '/Users/alison/insight/Insight Fellows_Slack/general/2018-05-07.json', '/Users/alison/insight/Insight Fellows_Slack/general/2016-07-03.json', '/Users/alison/insight/Insight Fellows_Slack/general/2017-12-29.json', '/Users/alison/insight/Insight Fellows_Slack/general/2016-04-13.json', '/Users/alison/insight/Insight Fellows_Slack/general/2016-08-30.json', '/Users/alison/insight/Insight Fellows_Slack/general/2018-05-11.json', '/Users/alison/insight/Insight Fellows_Slack/general/2015-08-05.json', '/Users/alison/insight/Insight Fellows_Slack/general/2016-07-15.json', '/Users/alison/insight/Insight Fellows_Slack/general/2017-10-02.json', '/Users/alison/insight/Insight Fellows_Slack/general/2018-06-01.json', '/Users/alison/insight/Insight Fellows_Slack/general/2015-09-28.json', '/Users/alison/insight/Insight Fellows_Slack/general/2016-08-26.json', '/Users/alison/insight/Insight Fellows_Slack/general/2016-04-05.json', '/Users/alison/insight/Insight Fellows_Slack/general/2018-01-05.json', '/Users/alison/insight/Insight Fellows_Slack/general/2017-09-18.json', '/Users/alison/insight/Insight Fellows_Slack/general/2017-07-06.json', '/Users/alison/insight/Insight Fellows_Slack/general/2016-03-01.json', '/Users/alison/insight/Insight Fellows_Slack/general/2018-02-15.json', '/Users/alison/insight/Insight Fellows_Slack/general/2016-10-11.json', '/Users/alison/insight/Insight Fellows_Slack/general/2016-05-04.json', '/Users/alison/insight/Insight Fellows_Slack/general/2016-09-27.json', '/Users/alison/insight/Insight Fellows_Slack/general/2017-01-03.json', '/Users/alison/insight/Insight Fellows_Slack/general/2016-06-14.json', '/Users/alison/insight/Insight Fellows_Slack/general/2017-02-13.json', '/Users/alison/insight/Insight Fellows_Slack/general/2018-04-10.json', '/Users/alison/insight/Insight Fellows_Slack/general/2015-05-27.json', '/Users/alison/insight/Insight Fellows_Slack/general/2017-12-13.json', '/Users/alison/insight/Insight Fellows_Slack/general/2016-11-10.json', '/Users/alison/insight/Insight Fellows_Slack/general/2015-12-23.json', '/Users/alison/insight/Insight Fellows_Slack/general/2015-02-23.json', '/Users/alison/insight/Insight Fellows_Slack/general/2018-01-29.json', '/Users/alison/insight/Insight Fellows_Slack/general/2018-03-14.json', '/Users/alison/insight/Insight Fellows_Slack/general/2017-06-07.json', '/Users/alison/insight/Insight Fellows_Slack/general/2017-08-19.json', '/Users/alison/insight/Insight Fellows_Slack/general/2016-11-06.json', '/Users/alison/insight/Insight Fellows_Slack/general/2016-01-06.json', '/Users/alison/insight/Insight Fellows_Slack/general/2018-03-02.json', '/Users/alison/insight/Insight Fellows_Slack/general/2017-09-22.json', '/Users/alison/insight/Insight Fellows_Slack/general/2017-05-01.json', '/Users/alison/insight/Insight Fellows_Slack/general/2015-10-08.json', '/Users/alison/insight/Insight Fellows_Slack/general/2016-12-16.json', '/Users/alison/insight/Insight Fellows_Slack/general/2016-02-16.json', '/Users/alison/insight/Insight Fellows_Slack/general/2015-03-18.json', '/Users/alison/insight/Insight Fellows_Slack/general/2015-01-25.json', '/Users/alison/insight/Insight Fellows_Slack/general/2017-06-11.json', '/Users/alison/insight/Insight Fellows_Slack/general/2016-05-12.json', '/Users/alison/insight/Insight Fellows_Slack/general/2017-11-15.json', '/Users/alison/insight/Insight Fellows_Slack/general/2017-03-28.json', '/Users/alison/insight/Insight Fellows_Slack/general/2016-06-02.json', '/Users/alison/insight/Insight Fellows_Slack/general/2017-12-05.json', '/Users/alison/insight/Insight Fellows_Slack/general/2018-04-06.json', '/Users/alison/insight/Insight Fellows_Slack/general/2015-09-12.json', '/Users/alison/insight/Insight Fellows_Slack/general/2017-02-05.json', '/Users/alison/insight/Insight Fellows_Slack/general/2015-11-05.json', '/Users/alison/insight/Insight Fellows_Slack/general/2018-03-22.json', '/Users/alison/insight/Insight Fellows_Slack/general/2017-09-02.json', '/Users/alison/insight/Insight Fellows_Slack/general/2015-10-28.json', '/Users/alison/insight/Insight Fellows_Slack/general/2016-11-26.json', '/Users/alison/insight/Insight Fellows_Slack/general/2016-01-26.json', '/Users/alison/insight/Insight Fellows_Slack/general/2017-10-18.json', '/Users/alison/insight/Insight Fellows_Slack/general/2018-04-26.json', '/Users/alison/insight/Insight Fellows_Slack/general/2017-02-25.json', '/Users/alison/insight/Insight Fellows_Slack/general/2015-06-01.json', '/Users/alison/insight/Insight Fellows_Slack/general/2017-03-08.json', '/Users/alison/insight/Insight Fellows_Slack/general/2016-09-11.json', '/Users/alison/insight/Insight Fellows_Slack/general/2015-09-24.json', '/Users/alison/insight/Insight Fellows_Slack/general/2018-04-30.json', '/Users/alison/insight/Insight Fellows_Slack/general/2015-05-07.json', '/Users/alison/insight/Insight Fellows_Slack/general/2016-04-09.json', '/Users/alison/insight/Insight Fellows_Slack/general/2017-01-23.json', '/Users/alison/insight/Insight Fellows_Slack/general/2017-11-23.json', '/Users/alison/insight/Insight Fellows_Slack/general/2016-07-19.json', '/Users/alison/insight/Insight Fellows_Slack/general/2016-05-24.json', '/Users/alison/insight/Insight Fellows_Slack/general/2016-09-07.json', '/Users/alison/insight/Insight Fellows_Slack/general/2017-06-27.json', '/Users/alison/insight/Insight Fellows_Slack/general/2015-11-13.json', '/Users/alison/insight/Insight Fellows_Slack/general/2018-02-19.json', '/Users/alison/insight/Insight Fellows_Slack/general/2015-01-13.json', '/Users/alison/insight/Insight Fellows_Slack/general/2016-02-20.json', '/Users/alison/insight/Insight Fellows_Slack/general/2016-12-20.json', '/Users/alison/insight/Insight Fellows_Slack/general/2015-12-03.json', '/Users/alison/insight/Insight Fellows_Slack/general/2017-09-14.json', '/Users/alison/insight/Insight Fellows_Slack/general/2015-02-03.json', '/Users/alison/insight/Insight Fellows_Slack/general/2018-01-09.json', '/Users/alison/insight/Insight Fellows_Slack/general/2016-01-30.json', '/Users/alison/insight/Insight Fellows_Slack/general/2016-11-30.json', '/Users/alison/insight/Insight Fellows_Slack/general/2016-08-06.json', '/Users/alison/insight/Insight Fellows_Slack/general/2016-06-18.json', '/Users/alison/insight/Insight Fellows_Slack/general/2016-04-25.json', '/Users/alison/insight/Insight Fellows_Slack/general/2015-07-16.json', '/Users/alison/insight/Insight Fellows_Slack/general/2017-10-22.json', '/Users/alison/insight/Insight Fellows_Slack/general/2015-09-08.json', '/Users/alison/insight/Insight Fellows_Slack/general/2016-05-08.json', '/Users/alison/insight/Insight Fellows_Slack/general/2018-05-31.json', '/Users/alison/insight/Insight Fellows_Slack/general/2015-04-06.json', '/Users/alison/insight/Insight Fellows_Slack/general/2016-10-31.json', '/Users/alison/insight/Insight Fellows_Slack/general/2017-08-15.json', '/Users/alison/insight/Insight Fellows_Slack/general/2015-03-02.json', '/Users/alison/insight/Insight Fellows_Slack/general/2016-03-21.json', '/Users/alison/insight/Insight Fellows_Slack/general/2018-03-18.json', '/Users/alison/insight/Insight Fellows_Slack/general/2018-01-25.json', '/Users/alison/insight/Insight Fellows_Slack/general/2017-07-26.json', '/Users/alison/insight/Insight Fellows_Slack/general/2016-10-27.json', '/Users/alison/insight/Insight Fellows_Slack/general/2017-04-20.json', '/Users/alison/insight/Insight Fellows_Slack/general/2018-02-23.json', '/Users/alison/insight/Insight Fellows_Slack/general/2015-01-29.json', '/Users/alison/insight/Insight Fellows_Slack/general/2017-08-03.json', '/Users/alison/insight/Insight Fellows_Slack/general/2017-07-30.json', '/Users/alison/insight/Insight Fellows_Slack/general/2015-10-04.json', '/Users/alison/insight/Insight Fellows_Slack/general/2016-08-10.json', '/Users/alison/insight/Insight Fellows_Slack/general/2017-02-09.json', '/Users/alison/insight/Insight Fellows_Slack/general/2016-07-23.json', '/Users/alison/insight/Insight Fellows_Slack/general/2017-03-24.json', '/Users/alison/insight/Insight Fellows_Slack/general/2017-01-19.json', '/Users/alison/insight/Insight Fellows_Slack/general/2015-04-10.json', '/Users/alison/insight/Insight Fellows_Slack/general/2017-11-19.json', '/Users/alison/insight/Insight Fellows_Slack/general/2018-05-27.json', '/Users/alison/insight/Insight Fellows_Slack/general/2015-09-15.json', '/Users/alison/insight/Insight Fellows_Slack/general/2017-02-02.json', '/Users/alison/insight/Insight Fellows_Slack/general/2017-12-02.json', '/Users/alison/insight/Insight Fellows_Slack/general/2016-07-28.json', '/Users/alison/insight/Insight Fellows_Slack/general/2017-01-12.json', '/Users/alison/insight/Insight Fellows_Slack/general/2015-06-26.json', '/Users/alison/insight/Insight Fellows_Slack/general/2016-02-11.json', '/Users/alison/insight/Insight Fellows_Slack/general/2015-11-22.json', '/Users/alison/insight/Insight Fellows_Slack/general/2017-06-16.json', '/Users/alison/insight/Insight Fellows_Slack/general/2018-02-28.json', '/Users/alison/insight/Insight Fellows_Slack/general/2015-01-22.json', '/Users/alison/insight/Insight Fellows_Slack/general/2017-08-08.json', '/Users/alison/insight/Insight Fellows_Slack/general/2016-01-01.json', '/Users/alison/insight/Insight Fellows_Slack/general/2016-11-01.json', '/Users/alison/insight/Insight Fellows_Slack/general/2017-05-06.json', '/Users/alison/insight/Insight Fellows_Slack/general/2017-09-25.json', '/Users/alison/insight/Insight Fellows_Slack/general/2018-03-05.json', '/Users/alison/insight/Insight Fellows_Slack/general/2016-12-07.json', '/Users/alison/insight/Insight Fellows_Slack/general/2016-02-07.json', '/Users/alison/insight/Insight Fellows_Slack/general/2016-11-17.json', '/Users/alison/insight/Insight Fellows_Slack/general/2016-01-17.json', '/Users/alison/insight/Insight Fellows_Slack/general/2018-03-13.json', '/Users/alison/insight/Insight Fellows_Slack/general/2015-10-19.json', '/Users/alison/insight/Insight Fellows_Slack/general/2017-05-10.json', '/Users/alison/insight/Insight Fellows_Slack/general/2016-06-13.json', '/Users/alison/insight/Insight Fellows_Slack/general/2017-12-14.json', '/Users/alison/insight/Insight Fellows_Slack/general/2018-04-17.json', '/Users/alison/insight/Insight Fellows_Slack/general/2017-02-14.json', '/Users/alison/insight/Insight Fellows_Slack/general/2016-09-20.json', '/Users/alison/insight/Insight Fellows_Slack/general/2016-05-03.json', '/Users/alison/insight/Insight Fellows_Slack/general/2015-06-30.json', '/Users/alison/insight/Insight Fellows_Slack/general/2017-01-04.json', '/Users/alison/insight/Insight Fellows_Slack/general/2017-04-11.json', '/Users/alison/insight/Insight Fellows_Slack/general/2018-02-12.json', '/Users/alison/insight/Insight Fellows_Slack/general/2015-01-18.json', '/Users/alison/insight/Insight Fellows_Slack/general/2016-10-16.json', '/Users/alison/insight/Insight Fellows_Slack/general/2015-12-08.json', '/Users/alison/insight/Insight Fellows_Slack/general/2015-02-08.json', '/Users/alison/insight/Insight Fellows_Slack/general/2018-01-02.json', '/Users/alison/insight/Insight Fellows_Slack/general/2016-03-06.json', '/Users/alison/insight/Insight Fellows_Slack/general/2015-07-31.json', '/Users/alison/insight/Insight Fellows_Slack/general/2017-10-05.json', '/Users/alison/insight/Insight Fellows_Slack/general/2016-04-02.json', '/Users/alison/insight/Insight Fellows_Slack/general/2017-03-15.json', '/Users/alison/insight/Insight Fellows_Slack/general/2017-01-28.json', '/Users/alison/insight/Insight Fellows_Slack/general/2017-11-28.json', '/Users/alison/insight/Insight Fellows_Slack/general/2018-05-16.json', '/Users/alison/insight/Insight Fellows_Slack/general/2016-07-12.json', '/Users/alison/insight/Insight Fellows_Slack/general/2017-10-13.json', '/Users/alison/insight/Insight Fellows_Slack/general/2015-07-27.json', '/Users/alison/insight/Insight Fellows_Slack/general/2016-06-29.json', '/Users/alison/insight/Insight Fellows_Slack/general/2016-04-14.json', '/Users/alison/insight/Insight Fellows_Slack/general/2015-08-14.json', '/Users/alison/insight/Insight Fellows_Slack/general/2017-03-03.json', '/Users/alison/insight/Insight Fellows_Slack/general/2016-07-04.json', '/Users/alison/insight/Insight Fellows_Slack/general/2017-08-24.json', '/Users/alison/insight/Insight Fellows_Slack/general/2018-02-04.json', '/Users/alison/insight/Insight Fellows_Slack/general/2017-04-07.json', '/Users/alison/insight/Insight Fellows_Slack/general/2018-03-29.json', '/Users/alison/insight/Insight Fellows_Slack/general/2018-01-14.json', '/Users/alison/insight/Insight Fellows_Slack/general/2017-09-09.json', '/Users/alison/insight/Insight Fellows_Slack/general/2017-07-17.json', '/Users/alison/insight/Insight Fellows_Slack/general/2015-10-23.json', '/Users/alison/insight/Insight Fellows_Slack/general/2016-03-10.json', '/Users/alison/insight/Insight Fellows_Slack/general/2016-05-19.json', '/Users/alison/insight/Insight Fellows_Slack/general/2015-04-17.json', '/Users/alison/insight/Insight Fellows_Slack/general/2017-03-23.json', '/Users/alison/insight/Insight Fellows_Slack/general/2016-08-17.json', '/Users/alison/insight/Insight Fellows_Slack/general/2016-06-09.json', '/Users/alison/insight/Insight Fellows_Slack/general/2015-07-07.json', '/Users/alison/insight/Insight Fellows_Slack/general/2016-03-30.json', '/Users/alison/insight/Insight Fellows_Slack/general/2018-03-09.json', '/Users/alison/insight/Insight Fellows_Slack/general/2017-09-29.json', '/Users/alison/insight/Insight Fellows_Slack/general/2016-10-20.json', '/Users/alison/insight/Insight Fellows_Slack/general/2017-08-04.json', '/Users/alison/insight/Insight Fellows_Slack/general/2015-03-13.json', '/Users/alison/insight/Insight Fellows_Slack/general/2017-04-27.json', '/Users/alison/insight/Insight Fellows_Slack/general/2016-03-26.json', '/Users/alison/insight/Insight Fellows_Slack/general/2015-12-28.json', '/Users/alison/insight/Insight Fellows_Slack/general/2015-10-15.json', '/Users/alison/insight/Insight Fellows_Slack/general/2017-07-21.json', '/Users/alison/insight/Insight Fellows_Slack/general/2015-02-28.json', '/Users/alison/insight/Insight Fellows_Slack/general/2018-01-22.json', '/Users/alison/insight/Insight Fellows_Slack/general/2015-03-05.json', '/Users/alison/insight/Insight Fellows_Slack/general/2015-04-01.json', '/Users/alison/insight/Insight Fellows_Slack/general/2016-08-01.json', '/Users/alison/insight/Insight Fellows_Slack/general/2015-07-11.json', '/Users/alison/insight/Insight Fellows_Slack/general/2017-12-18.json', '/Users/alison/insight/Insight Fellows_Slack/general/2017-09-13.json', '/Users/alison/insight/Insight Fellows_Slack/general/2015-02-04.json', '/Users/alison/insight/Insight Fellows_Slack/general/2015-12-04.json', '/Users/alison/insight/Insight Fellows_Slack/general/2017-05-30.json', '/Users/alison/insight/Insight Fellows_Slack/general/2015-01-14.json', '/Users/alison/insight/Insight Fellows_Slack/general/2017-06-20.json', '/Users/alison/insight/Insight Fellows_Slack/general/2016-02-27.json', '/Users/alison/insight/Insight Fellows_Slack/general/2017-11-24.json', '/Users/alison/insight/Insight Fellows_Slack/general/2015-06-10.json', '/Users/alison/insight/Insight Fellows_Slack/general/2017-01-24.json', '/Users/alison/insight/Insight Fellows_Slack/general/2017-03-19.json', '/Users/alison/insight/Insight Fellows_Slack/general/2016-05-23.json', '/Users/alison/insight/Insight Fellows_Slack/general/2017-10-09.json', '/Users/alison/insight/Insight Fellows_Slack/general/2015-09-23.json', '/Users/alison/insight/Insight Fellows_Slack/general/2015-08-18.json', '/Users/alison/insight/Insight Fellows_Slack/general/2016-07-08.json', '/Users/alison/insight/Insight Fellows_Slack/general/2016-09-16.json', '/Users/alison/insight/Insight Fellows_Slack/general/2017-02-22.json', '/Users/alison/insight/Insight Fellows_Slack/general/2017-12-22.json', '/Users/alison/insight/Insight Fellows_Slack/general/2016-04-18.json', '/Users/alison/insight/Insight Fellows_Slack/general/2016-06-25.json', '/Users/alison/insight/Insight Fellows_Slack/general/2017-05-26.json', '/Users/alison/insight/Insight Fellows_Slack/general/2017-09-05.json', '/Users/alison/insight/Insight Fellows_Slack/general/2018-01-18.json', '/Users/alison/insight/Insight Fellows_Slack/general/2018-03-25.json', '/Users/alison/insight/Insight Fellows_Slack/general/2016-01-21.json', '/Users/alison/insight/Insight Fellows_Slack/general/2015-11-02.json', '/Users/alison/insight/Insight Fellows_Slack/general/2018-02-08.json', '/Users/alison/insight/Insight Fellows_Slack/general/2017-08-28.json', '/Users/alison/insight/Insight Fellows_Slack/general/2015-11-03.json', '/Users/alison/insight/Insight Fellows_Slack/general/2018-02-09.json', '/Users/alison/insight/Insight Fellows_Slack/general/2017-08-29.json', '/Users/alison/insight/Insight Fellows_Slack/general/2016-12-30.json', '/Users/alison/insight/Insight Fellows_Slack/general/2017-05-27.json', '/Users/alison/insight/Insight Fellows_Slack/general/2017-09-04.json', '/Users/alison/insight/Insight Fellows_Slack/general/2018-03-24.json', '/Users/alison/insight/Insight Fellows_Slack/general/2018-01-19.json', '/Users/alison/insight/Insight Fellows_Slack/general/2016-01-20.json', '/Users/alison/insight/Insight Fellows_Slack/general/2016-11-20.json', '/Users/alison/insight/Insight Fellows_Slack/general/2017-02-23.json', '/Users/alison/insight/Insight Fellows_Slack/general/2018-04-20.json', '/Users/alison/insight/Insight Fellows_Slack/general/2016-06-24.json', '/Users/alison/insight/Insight Fellows_Slack/general/2016-04-19.json', '/Users/alison/insight/Insight Fellows_Slack/general/2015-08-19.json', '/Users/alison/insight/Insight Fellows_Slack/general/2015-06-07.json', '/Users/alison/insight/Insight Fellows_Slack/general/2016-07-09.json', '/Users/alison/insight/Insight Fellows_Slack/general/2016-09-17.json', '/Users/alison/insight/Insight Fellows_Slack/general/2017-11-25.json', '/Users/alison/insight/Insight Fellows_Slack/general/2015-06-11.json', '/Users/alison/insight/Insight Fellows_Slack/general/2017-01-25.json', '/Users/alison/insight/Insight Fellows_Slack/general/2016-09-01.json', '/Users/alison/insight/Insight Fellows_Slack/general/2015-01-15.json', '/Users/alison/insight/Insight Fellows_Slack/general/2017-06-21.json', '/Users/alison/insight/Insight Fellows_Slack/general/2016-02-26.json', '/Users/alison/insight/Insight Fellows_Slack/general/2017-09-12.json', '/Users/alison/insight/Insight Fellows_Slack/general/2015-02-05.json', '/Users/alison/insight/Insight Fellows_Slack/general/2017-05-31.json', '/Users/alison/insight/Insight Fellows_Slack/general/2016-04-23.json', '/Users/alison/insight/Insight Fellows_Slack/general/2017-02-19.json', '/Users/alison/insight/Insight Fellows_Slack/general/2015-07-10.json', '/Users/alison/insight/Insight Fellows_Slack/general/2017-12-19.json', '/Users/alison/insight/Insight Fellows_Slack/general/2017-10-24.json', '/Users/alison/insight/Insight Fellows_Slack/general/2017-01-09.json', '/Users/alison/insight/Insight Fellows_Slack/general/2017-11-09.json', '/Users/alison/insight/Insight Fellows_Slack/general/2015-03-04.json', '/Users/alison/insight/Insight Fellows_Slack/general/2016-03-27.json', '/Users/alison/insight/Insight Fellows_Slack/general/2015-10-14.json', '/Users/alison/insight/Insight Fellows_Slack/general/2017-07-20.json', '/Users/alison/insight/Insight Fellows_Slack/general/2018-01-23.json', '/Users/alison/insight/Insight Fellows_Slack/general/2016-10-21.json', '/Users/alison/insight/Insight Fellows_Slack/general/2017-08-05.json', '/Users/alison/insight/Insight Fellows_Slack/general/2015-03-12.json', '/Users/alison/insight/Insight Fellows_Slack/general/2017-04-26.json', '/Users/alison/insight/Insight Fellows_Slack/general/2016-03-31.json', '/Users/alison/insight/Insight Fellows_Slack/general/2018-03-08.json', '/Users/alison/insight/Insight Fellows_Slack/general/2017-09-28.json', '/Users/alison/insight/Insight Fellows_Slack/general/2015-10-02.json', '/Users/alison/insight/Insight Fellows_Slack/general/2016-08-16.json', '/Users/alison/insight/Insight Fellows_Slack/general/2016-06-08.json', '/Users/alison/insight/Insight Fellows_Slack/general/2015-07-06.json', '/Users/alison/insight/Insight Fellows_Slack/general/2016-07-25.json', '/Users/alison/insight/Insight Fellows_Slack/general/2016-05-18.json', '/Users/alison/insight/Insight Fellows_Slack/general/2018-05-21.json', '/Users/alison/insight/Insight Fellows_Slack/general/2015-04-16.json', '/Users/alison/insight/Insight Fellows_Slack/general/2017-03-22.json', '/Users/alison/insight/Insight Fellows_Slack/general/2018-01-15.json', '/Users/alison/insight/Insight Fellows_Slack/general/2018-03-28.json', '/Users/alison/insight/Insight Fellows_Slack/general/2017-09-08.json', '/Users/alison/insight/Insight Fellows_Slack/general/2016-03-11.json', '/Users/alison/insight/Insight Fellows_Slack/general/2017-08-25.json', '/Users/alison/insight/Insight Fellows_Slack/general/2018-02-05.json', '/Users/alison/insight/Insight Fellows_Slack/general/2017-04-06.json', '/Users/alison/insight/Insight Fellows_Slack/general/2016-10-01.json', '/Users/alison/insight/Insight Fellows_Slack/general/2018-05-01.json', '/Users/alison/insight/Insight Fellows_Slack/general/2015-08-15.json', '/Users/alison/insight/Insight Fellows_Slack/general/2017-03-02.json', '/Users/alison/insight/Insight Fellows_Slack/general/2016-07-05.json', '/Users/alison/insight/Insight Fellows_Slack/general/2017-10-12.json', '/Users/alison/insight/Insight Fellows_Slack/general/2015-07-26.json', '/Users/alison/insight/Insight Fellows_Slack/general/2016-06-28.json', '/Users/alison/insight/Insight Fellows_Slack/general/2017-01-29.json', '/Users/alison/insight/Insight Fellows_Slack/general/2015-08-03.json', '/Users/alison/insight/Insight Fellows_Slack/general/2017-03-14.json', '/Users/alison/insight/Insight Fellows_Slack/general/2017-11-29.json', '/Users/alison/insight/Insight Fellows_Slack/general/2018-05-17.json', '/Users/alison/insight/Insight Fellows_Slack/general/2016-07-13.json', '/Users/alison/insight/Insight Fellows_Slack/general/2015-07-30.json', '/Users/alison/insight/Insight Fellows_Slack/general/2017-10-04.json', '/Users/alison/insight/Insight Fellows_Slack/general/2016-04-03.json', '/Users/alison/insight/Insight Fellows_Slack/general/2015-12-09.json', '/Users/alison/insight/Insight Fellows_Slack/general/2015-02-09.json', '/Users/alison/insight/Insight Fellows_Slack/general/2018-01-03.json', '/Users/alison/insight/Insight Fellows_Slack/general/2016-03-07.json', '/Users/alison/insight/Insight Fellows_Slack/general/2017-04-10.json', '/Users/alison/insight/Insight Fellows_Slack/general/2015-11-19.json', '/Users/alison/insight/Insight Fellows_Slack/general/2018-02-13.json', '/Users/alison/insight/Insight Fellows_Slack/general/2015-03-24.json', '/Users/alison/insight/Insight Fellows_Slack/general/2015-01-19.json', '/Users/alison/insight/Insight Fellows_Slack/general/2016-10-17.json', '/Users/alison/insight/Insight Fellows_Slack/general/2016-09-21.json', '/Users/alison/insight/Insight Fellows_Slack/general/2016-05-02.json', '/Users/alison/insight/Insight Fellows_Slack/general/2017-01-05.json', '/Users/alison/insight/Insight Fellows_Slack/general/2015-05-21.json', '/Users/alison/insight/Insight Fellows_Slack/general/2017-10-28.json', '/Users/alison/insight/Insight Fellows_Slack/general/2017-12-15.json', '/Users/alison/insight/Insight Fellows_Slack/general/2018-04-16.json', '/Users/alison/insight/Insight Fellows_Slack/general/2015-09-02.json', '/Users/alison/insight/Insight Fellows_Slack/general/2017-02-15.json', '/Users/alison/insight/Insight Fellows_Slack/general/2016-11-16.json', '/Users/alison/insight/Insight Fellows_Slack/general/2016-01-16.json', '/Users/alison/insight/Insight Fellows_Slack/general/2018-03-12.json', '/Users/alison/insight/Insight Fellows_Slack/general/2015-02-25.json', '/Users/alison/insight/Insight Fellows_Slack/general/2017-05-11.json', '/Users/alison/insight/Insight Fellows_Slack/general/2016-12-06.json', '/Users/alison/insight/Insight Fellows_Slack/general/2016-02-06.json', '/Users/alison/insight/Insight Fellows_Slack/general/2017-06-01.json', '/Users/alison/insight/Insight Fellows_Slack/general/2017-05-07.json', '/Users/alison/insight/Insight Fellows_Slack/general/2017-09-24.json', '/Users/alison/insight/Insight Fellows_Slack/general/2017-08-09.json', '/Users/alison/insight/Insight Fellows_Slack/general/2015-01-23.json', '/Users/alison/insight/Insight Fellows_Slack/general/2016-07-29.json', '/Users/alison/insight/Insight Fellows_Slack/general/2017-01-13.json', '/Users/alison/insight/Insight Fellows_Slack/general/2015-06-27.json', '/Users/alison/insight/Insight Fellows_Slack/general/2017-11-13.json', '/Users/alison/insight/Insight Fellows_Slack/general/2016-06-04.json', '/Users/alison/insight/Insight Fellows_Slack/general/2015-09-14.json', '/Users/alison/insight/Insight Fellows_Slack/general/2017-02-03.json', '/Users/alison/insight/Insight Fellows_Slack/general/2017-12-03.json', '/Users/alison/insight/Insight Fellows_Slack/general/2016-03-12.json', '/Users/alison/insight/Insight Fellows_Slack/general/2015-10-21.json', '/Users/alison/insight/Insight Fellows_Slack/general/2018-01-16.json', '/Users/alison/insight/Insight Fellows_Slack/general/2017-04-05.json', '/Users/alison/insight/Insight Fellows_Slack/general/2015-03-31.json', '/Users/alison/insight/Insight Fellows_Slack/general/2017-08-26.json', '/Users/alison/insight/Insight Fellows_Slack/general/2018-02-06.json', '/Users/alison/insight/Insight Fellows_Slack/general/2016-07-06.json', '/Users/alison/insight/Insight Fellows_Slack/general/2016-09-18.json', '/Users/alison/insight/Insight Fellows_Slack/general/2017-03-01.json', '/Users/alison/insight/Insight Fellows_Slack/general/2015-08-16.json', '/Users/alison/insight/Insight Fellows_Slack/general/2018-05-02.json', '/Users/alison/insight/Insight Fellows_Slack/general/2015-06-08.json', '/Users/alison/insight/Insight Fellows_Slack/general/2015-05-18.json', '/Users/alison/insight/Insight Fellows_Slack/general/2017-10-11.json', '/Users/alison/insight/Insight Fellows_Slack/general/2016-07-10.json', '/Users/alison/insight/Insight Fellows_Slack/general/2018-05-14.json', '/Users/alison/insight/Insight Fellows_Slack/general/2017-03-17.json', '/Users/alison/insight/Insight Fellows_Slack/general/2016-08-23.json', '/Users/alison/insight/Insight Fellows_Slack/general/2018-06-04.json', '/Users/alison/insight/Insight Fellows_Slack/general/2016-03-04.json', '/Users/alison/insight/Insight Fellows_Slack/general/2017-07-03.json', '/Users/alison/insight/Insight Fellows_Slack/general/2016-10-14.json', '/Users/alison/insight/Insight Fellows_Slack/general/2016-12-29.json', '/Users/alison/insight/Insight Fellows_Slack/general/2016-02-29.json', '/Users/alison/insight/Insight Fellows_Slack/general/2015-03-27.json', '/Users/alison/insight/Insight Fellows_Slack/general/2017-08-30.json', '/Users/alison/insight/Insight Fellows_Slack/general/2017-04-13.json', '/Users/alison/insight/Insight Fellows_Slack/general/2017-11-06.json', '/Users/alison/insight/Insight Fellows_Slack/general/2016-09-22.json', '/Users/alison/insight/Insight Fellows_Slack/general/2017-02-16.json', '/Users/alison/insight/Insight Fellows_Slack/general/2015-09-01.json', '/Users/alison/insight/Insight Fellows_Slack/general/2015-05-22.json', '/Users/alison/insight/Insight Fellows_Slack/general/2018-04-15.json', '/Users/alison/insight/Insight Fellows_Slack/general/2016-06-11.json', '/Users/alison/insight/Insight Fellows_Slack/general/2018-03-11.json', '/Users/alison/insight/Insight Fellows_Slack/general/2015-02-26.json', '/Users/alison/insight/Insight Fellows_Slack/general/2016-01-15.json', '/Users/alison/insight/Insight Fellows_Slack/general/2016-03-28.json', '/Users/alison/insight/Insight Fellows_Slack/general/2016-11-15.json', '/Users/alison/insight/Insight Fellows_Slack/general/2017-06-02.json', '/Users/alison/insight/Insight Fellows_Slack/general/2016-02-05.json', '/Users/alison/insight/Insight Fellows_Slack/general/2016-12-05.json', '/Users/alison/insight/Insight Fellows_Slack/general/2017-09-27.json', '/Users/alison/insight/Insight Fellows_Slack/general/2018-03-07.json', '/Users/alison/insight/Insight Fellows_Slack/general/2017-05-04.json', '/Users/alison/insight/Insight Fellows_Slack/general/2016-11-03.json', '/Users/alison/insight/Insight Fellows_Slack/general/2016-01-03.json', '/Users/alison/insight/Insight Fellows_Slack/general/2015-01-20.json', '/Users/alison/insight/Insight Fellows_Slack/general/2017-04-29.json', '/Users/alison/insight/Insight Fellows_Slack/general/2017-06-14.json', '/Users/alison/insight/Insight Fellows_Slack/general/2015-11-20.json', '/Users/alison/insight/Insight Fellows_Slack/general/2016-12-13.json', '/Users/alison/insight/Insight Fellows_Slack/general/2016-02-13.json', '/Users/alison/insight/Insight Fellows_Slack/general/2017-11-10.json', '/Users/alison/insight/Insight Fellows_Slack/general/2017-01-10.json', '/Users/alison/insight/Insight Fellows_Slack/general/2016-05-17.json', '/Users/alison/insight/Insight Fellows_Slack/general/2018-04-03.json', '/Users/alison/insight/Insight Fellows_Slack/general/2015-07-09.json', '/Users/alison/insight/Insight Fellows_Slack/general/2015-09-17.json', '/Users/alison/insight/Insight Fellows_Slack/general/2016-08-19.json', '/Users/alison/insight/Insight Fellows_Slack/general/2016-06-07.json', '/Users/alison/insight/Insight Fellows_Slack/general/2017-04-09.json', '/Users/alison/insight/Insight Fellows_Slack/general/2016-11-23.json', '/Users/alison/insight/Insight Fellows_Slack/general/2016-01-23.json', '/Users/alison/insight/Insight Fellows_Slack/general/2015-02-10.json', '/Users/alison/insight/Insight Fellows_Slack/general/2017-09-07.json', '/Users/alison/insight/Insight Fellows_Slack/general/2018-03-27.json', '/Users/alison/insight/Insight Fellows_Slack/general/2015-12-10.json', '/Users/alison/insight/Insight Fellows_Slack/general/2017-07-19.json', '/Users/alison/insight/Insight Fellows_Slack/general/2017-05-24.json', '/Users/alison/insight/Insight Fellows_Slack/general/2016-06-27.json', '/Users/alison/insight/Insight Fellows_Slack/general/2018-04-23.json', '/Users/alison/insight/Insight Fellows_Slack/general/2015-05-14.json', '/Users/alison/insight/Insight Fellows_Slack/general/2015-07-29.json', '/Users/alison/insight/Insight Fellows_Slack/general/2017-12-20.json', '/Users/alison/insight/Insight Fellows_Slack/general/2017-02-20.json', '/Users/alison/insight/Insight Fellows_Slack/general/2016-09-14.json', '/Users/alison/insight/Insight Fellows_Slack/general/2017-11-30.json', '/Users/alison/insight/Insight Fellows_Slack/general/2015-06-04.json', '/Users/alison/insight/Insight Fellows_Slack/general/2017-01-30.json', '/Users/alison/insight/Insight Fellows_Slack/general/2015-09-21.json', '/Users/alison/insight/Insight Fellows_Slack/general/2015-05-02.json', '/Users/alison/insight/Insight Fellows_Slack/general/2016-09-02.json', '/Users/alison/insight/Insight Fellows_Slack/general/2017-01-26.json', '/Users/alison/insight/Insight Fellows_Slack/general/2018-05-18.json', '/Users/alison/insight/Insight Fellows_Slack/general/2016-02-25.json', '/Users/alison/insight/Insight Fellows_Slack/general/2016-12-25.json', '/Users/alison/insight/Insight Fellows_Slack/general/2016-10-18.json', '/Users/alison/insight/Insight Fellows_Slack/general/2015-11-16.json', '/Users/alison/insight/Insight Fellows_Slack/general/2017-06-22.json', '/Users/alison/insight/Insight Fellows_Slack/general/2015-01-16.json', '/Users/alison/insight/Insight Fellows_Slack/general/2016-03-08.json', '/Users/alison/insight/Insight Fellows_Slack/general/2015-02-06.json', '/Users/alison/insight/Insight Fellows_Slack/general/2017-09-11.json', '/Users/alison/insight/Insight Fellows_Slack/general/2018-04-19.json', '/Users/alison/insight/Insight Fellows_Slack/general/2017-10-27.json', '/Users/alison/insight/Insight Fellows_Slack/general/2015-07-13.json', '/Users/alison/insight/Insight Fellows_Slack/general/2016-08-03.json', '/Users/alison/insight/Insight Fellows_Slack/general/2016-04-20.json', '/Users/alison/insight/Insight Fellows_Slack/general/2015-08-20.json', '/Users/alison/insight/Insight Fellows_Slack/general/2016-07-30.json', '/Users/alison/insight/Insight Fellows_Slack/general/2015-03-07.json', '/Users/alison/insight/Insight Fellows_Slack/general/2017-08-10.json', '/Users/alison/insight/Insight Fellows_Slack/general/2016-12-09.json', '/Users/alison/insight/Insight Fellows_Slack/general/2016-02-09.json', '/Users/alison/insight/Insight Fellows_Slack/general/2018-01-20.json', '/Users/alison/insight/Insight Fellows_Slack/general/2015-10-17.json', '/Users/alison/insight/Insight Fellows_Slack/general/2016-11-19.json', '/Users/alison/insight/Insight Fellows_Slack/general/2016-03-24.json', '/Users/alison/insight/Insight Fellows_Slack/general/2016-01-19.json', '/Users/alison/insight/Insight Fellows_Slack/general/2017-06-18.json', '/Users/alison/insight/Insight Fellows_Slack/general/2017-04-25.json', '/Users/alison/insight/Insight Fellows_Slack/general/2017-08-06.json', '/Users/alison/insight/Insight Fellows_Slack/general/2018-02-26.json', '/Users/alison/insight/Insight Fellows_Slack/general/2016-10-22.json', '/Users/alison/insight/Insight Fellows_Slack/general/2015-10-01.json', '/Users/alison/insight/Insight Fellows_Slack/general/2017-05-08.json', '/Users/alison/insight/Insight Fellows_Slack/general/2015-07-05.json', '/Users/alison/insight/Insight Fellows_Slack/general/2017-10-31.json', '/Users/alison/insight/Insight Fellows_Slack/general/2016-08-15.json', '/Users/alison/insight/Insight Fellows_Slack/general/2017-03-21.json', '/Users/alison/insight/Insight Fellows_Slack/general/2018-05-22.json', '/Users/alison/insight/Insight Fellows_Slack/general/2015-06-28.json', '/Users/alison/insight/Insight Fellows_Slack/general/2016-07-26.json', '/Users/alison/insight/Insight Fellows_Slack/general/2017-03-20.json', '/Users/alison/insight/Insight Fellows_Slack/general/2018-05-23.json', '/Users/alison/insight/Insight Fellows_Slack/general/2015-06-29.json', '/Users/alison/insight/Insight Fellows_Slack/general/2016-07-27.json', '/Users/alison/insight/Insight Fellows_Slack/general/2015-07-04.json', '/Users/alison/insight/Insight Fellows_Slack/general/2017-10-30.json', '/Users/alison/insight/Insight Fellows_Slack/general/2017-05-09.json', '/Users/alison/insight/Insight Fellows_Slack/general/2017-04-24.json', '/Users/alison/insight/Insight Fellows_Slack/general/2017-06-19.json', '/Users/alison/insight/Insight Fellows_Slack/general/2017-08-07.json', '/Users/alison/insight/Insight Fellows_Slack/general/2018-02-27.json', '/Users/alison/insight/Insight Fellows_Slack/general/2018-01-21.json', '/Users/alison/insight/Insight Fellows_Slack/general/2017-07-22.json', '/Users/alison/insight/Insight Fellows_Slack/general/2015-10-16.json', '/Users/alison/insight/Insight Fellows_Slack/general/2016-11-18.json', '/Users/alison/insight/Insight Fellows_Slack/general/2016-01-18.json', '/Users/alison/insight/Insight Fellows_Slack/general/2016-03-25.json', '/Users/alison/insight/Insight Fellows_Slack/general/2015-03-06.json', '/Users/alison/insight/Insight Fellows_Slack/general/2017-08-11.json', '/Users/alison/insight/Insight Fellows_Slack/general/2016-12-08.json', '/Users/alison/insight/Insight Fellows_Slack/general/2016-02-08.json', '/Users/alison/insight/Insight Fellows_Slack/general/2015-04-02.json', '/Users/alison/insight/Insight Fellows_Slack/general/2015-08-21.json', '/Users/alison/insight/Insight Fellows_Slack/general/2018-04-18.json', '/Users/alison/insight/Insight Fellows_Slack/general/2017-10-26.json', '/Users/alison/insight/Insight Fellows_Slack/general/2015-07-12.json', '/Users/alison/insight/Insight Fellows_Slack/general/2016-08-02.json', '/Users/alison/insight/Insight Fellows_Slack/general/2016-04-21.json', '/Users/alison/insight/Insight Fellows_Slack/general/2016-03-09.json', '/Users/alison/insight/Insight Fellows_Slack/general/2015-12-07.json', '/Users/alison/insight/Insight Fellows_Slack/general/2018-03-30.json', '/Users/alison/insight/Insight Fellows_Slack/general/2017-09-10.json', '/Users/alison/insight/Insight Fellows_Slack/general/2016-10-19.json', '/Users/alison/insight/Insight Fellows_Slack/general/2015-11-17.json', '/Users/alison/insight/Insight Fellows_Slack/general/2017-06-23.json', '/Users/alison/insight/Insight Fellows_Slack/general/2016-05-20.json', '/Users/alison/insight/Insight Fellows_Slack/general/2017-01-27.json', '/Users/alison/insight/Insight Fellows_Slack/general/2018-05-19.json', '/Users/alison/insight/Insight Fellows_Slack/general/2015-06-13.json', '/Users/alison/insight/Insight Fellows_Slack/general/2016-06-30.json', '/Users/alison/insight/Insight Fellows_Slack/general/2015-09-20.json', '/Users/alison/insight/Insight Fellows_Slack/general/2016-09-15.json', '/Users/alison/insight/Insight Fellows_Slack/general/2017-01-31.json', '/Users/alison/insight/Insight Fellows_Slack/general/2016-06-26.json', '/Users/alison/insight/Insight Fellows_Slack/general/2015-07-28.json', '/Users/alison/insight/Insight Fellows_Slack/general/2015-05-15.json', '/Users/alison/insight/Insight Fellows_Slack/general/2017-12-21.json', '/Users/alison/insight/Insight Fellows_Slack/general/2017-02-21.json', '/Users/alison/insight/Insight Fellows_Slack/general/2016-01-22.json', '/Users/alison/insight/Insight Fellows_Slack/general/2015-02-11.json', '/Users/alison/insight/Insight Fellows_Slack/general/2017-09-06.json', '/Users/alison/insight/Insight Fellows_Slack/general/2018-03-26.json', '/Users/alison/insight/Insight Fellows_Slack/general/2015-12-11.json', '/Users/alison/insight/Insight Fellows_Slack/general/2017-05-25.json', '/Users/alison/insight/Insight Fellows_Slack/general/2017-07-18.json', '/Users/alison/insight/Insight Fellows_Slack/general/2017-04-08.json', '/Users/alison/insight/Insight Fellows_Slack/general/2018-04-02.json', '/Users/alison/insight/Insight Fellows_Slack/general/2015-07-08.json', '/Users/alison/insight/Insight Fellows_Slack/general/2017-12-01.json', '/Users/alison/insight/Insight Fellows_Slack/general/2017-02-01.json', '/Users/alison/insight/Insight Fellows_Slack/general/2015-09-16.json', '/Users/alison/insight/Insight Fellows_Slack/general/2016-08-18.json', '/Users/alison/insight/Insight Fellows_Slack/general/2016-06-06.json', '/Users/alison/insight/Insight Fellows_Slack/general/2015-06-25.json', '/Users/alison/insight/Insight Fellows_Slack/general/2017-01-11.json', '/Users/alison/insight/Insight Fellows_Slack/general/2016-05-16.json', '/Users/alison/insight/Insight Fellows_Slack/general/2015-01-21.json', '/Users/alison/insight/Insight Fellows_Slack/general/2017-06-15.json', '/Users/alison/insight/Insight Fellows_Slack/general/2017-04-28.json', '/Users/alison/insight/Insight Fellows_Slack/general/2015-11-21.json', '/Users/alison/insight/Insight Fellows_Slack/general/2016-02-12.json', '/Users/alison/insight/Insight Fellows_Slack/general/2017-09-26.json', '/Users/alison/insight/Insight Fellows_Slack/general/2018-03-06.json', '/Users/alison/insight/Insight Fellows_Slack/general/2015-12-31.json', '/Users/alison/insight/Insight Fellows_Slack/general/2017-05-05.json', '/Users/alison/insight/Insight Fellows_Slack/general/2016-11-02.json', '/Users/alison/insight/Insight Fellows_Slack/general/2016-01-02.json', '/Users/alison/insight/Insight Fellows_Slack/general/2017-06-03.json', '/Users/alison/insight/Insight Fellows_Slack/general/2016-02-04.json', '/Users/alison/insight/Insight Fellows_Slack/general/2016-12-04.json', '/Users/alison/insight/Insight Fellows_Slack/general/2018-03-10.json', '/Users/alison/insight/Insight Fellows_Slack/general/2015-02-27.json', '/Users/alison/insight/Insight Fellows_Slack/general/2017-09-30.json', '/Users/alison/insight/Insight Fellows_Slack/general/2016-03-29.json', '/Users/alison/insight/Insight Fellows_Slack/general/2016-01-14.json', '/Users/alison/insight/Insight Fellows_Slack/general/2016-11-14.json', '/Users/alison/insight/Insight Fellows_Slack/general/2017-02-17.json', '/Users/alison/insight/Insight Fellows_Slack/general/2017-12-17.json', '/Users/alison/insight/Insight Fellows_Slack/general/2018-04-14.json', '/Users/alison/insight/Insight Fellows_Slack/general/2017-01-07.json', '/Users/alison/insight/Insight Fellows_Slack/general/2017-11-07.json', '/Users/alison/insight/Insight Fellows_Slack/general/2016-09-23.json', '/Users/alison/insight/Insight Fellows_Slack/general/2016-12-28.json', '/Users/alison/insight/Insight Fellows_Slack/general/2016-02-28.json', '/Users/alison/insight/Insight Fellows_Slack/general/2018-02-11.json', '/Users/alison/insight/Insight Fellows_Slack/general/2015-03-26.json', '/Users/alison/insight/Insight Fellows_Slack/general/2017-08-31.json', '/Users/alison/insight/Insight Fellows_Slack/general/2017-04-12.json', '/Users/alison/insight/Insight Fellows_Slack/general/2016-03-05.json', '/Users/alison/insight/Insight Fellows_Slack/general/2018-01-01.json', '/Users/alison/insight/Insight Fellows_Slack/general/2017-07-02.json', '/Users/alison/insight/Insight Fellows_Slack/general/2016-04-01.json', '/Users/alison/insight/Insight Fellows_Slack/general/2017-10-06.json', '/Users/alison/insight/Insight Fellows_Slack/general/2016-07-11.json', '/Users/alison/insight/Insight Fellows_Slack/general/2018-05-15.json', '/Users/alison/insight/Insight Fellows_Slack/general/2017-03-16.json', '/Users/alison/insight/Insight Fellows_Slack/general/2015-08-01.json', '/Users/alison/insight/Insight Fellows_Slack/general/2016-04-17.json', '/Users/alison/insight/Insight Fellows_Slack/general/2015-07-24.json', '/Users/alison/insight/Insight Fellows_Slack/general/2017-10-10.json', '/Users/alison/insight/Insight Fellows_Slack/general/2016-07-07.json', '/Users/alison/insight/Insight Fellows_Slack/general/2016-09-19.json', '/Users/alison/insight/Insight Fellows_Slack/general/2015-08-17.json', '/Users/alison/insight/Insight Fellows_Slack/general/2018-05-03.json', '/Users/alison/insight/Insight Fellows_Slack/general/2015-06-09.json', '/Users/alison/insight/Insight Fellows_Slack/general/2016-10-03.json', '/Users/alison/insight/Insight Fellows_Slack/general/2017-04-04.json', '/Users/alison/insight/Insight Fellows_Slack/general/2015-03-30.json', '/Users/alison/insight/Insight Fellows_Slack/general/2017-08-27.json', '/Users/alison/insight/Insight Fellows_Slack/general/2018-02-07.json', '/Users/alison/insight/Insight Fellows_Slack/general/2015-10-20.json', '/Users/alison/insight/Insight Fellows_Slack/general/2017-05-29.json', '/Users/alison/insight/Insight Fellows_Slack/general/2018-01-17.json', '/Users/alison/insight/Insight Fellows_Slack/general/2016-10-08.json', '/Users/alison/insight/Insight Fellows_Slack/general/2015-11-06.json', '/Users/alison/insight/Insight Fellows_Slack/general/2016-03-18.json', '/Users/alison/insight/Insight Fellows_Slack/general/2016-01-25.json', '/Users/alison/insight/Insight Fellows_Slack/general/2016-11-25.json', '/Users/alison/insight/Insight Fellows_Slack/general/2015-12-16.json', '/Users/alison/insight/Insight Fellows_Slack/general/2017-05-22.json', '/Users/alison/insight/Insight Fellows_Slack/general/2018-03-21.json', '/Users/alison/insight/Insight Fellows_Slack/general/2015-02-16.json', '/Users/alison/insight/Insight Fellows_Slack/general/2017-09-01.json', '/Users/alison/insight/Insight Fellows_Slack/general/2016-06-21.json', '/Users/alison/insight/Insight Fellows_Slack/general/2017-02-26.json', '/Users/alison/insight/Insight Fellows_Slack/general/2018-04-25.json', '/Users/alison/insight/Insight Fellows_Slack/general/2016-05-31.json', '/Users/alison/insight/Insight Fellows_Slack/general/2016-09-12.json', '/Users/alison/insight/Insight Fellows_Slack/general/2018-05-08.json', '/Users/alison/insight/Insight Fellows_Slack/general/2015-06-02.json', '/Users/alison/insight/Insight Fellows_Slack/general/2016-08-29.json', '/Users/alison/insight/Insight Fellows_Slack/general/2015-09-27.json', '/Users/alison/insight/Insight Fellows_Slack/general/2016-05-27.json', '/Users/alison/insight/Insight Fellows_Slack/general/2015-04-29.json', '/Users/alison/insight/Insight Fellows_Slack/general/2015-06-14.json', '/Users/alison/insight/Insight Fellows_Slack/general/2017-11-20.json', '/Users/alison/insight/Insight Fellows_Slack/general/2017-01-20.json', '/Users/alison/insight/Insight Fellows_Slack/general/2016-12-23.json', '/Users/alison/insight/Insight Fellows_Slack/general/2016-02-23.json', '/Users/alison/insight/Insight Fellows_Slack/general/2015-01-10.json', '/Users/alison/insight/Insight Fellows_Slack/general/2015-11-10.json', '/Users/alison/insight/Insight Fellows_Slack/general/2017-04-19.json', '/Users/alison/insight/Insight Fellows_Slack/general/2017-09-17.json', '/Users/alison/insight/Insight Fellows_Slack/general/2015-05-28.json', '/Users/alison/insight/Insight Fellows_Slack/general/2015-07-15.json', '/Users/alison/insight/Insight Fellows_Slack/general/2016-04-26.json', '/Users/alison/insight/Insight Fellows_Slack/general/2017-03-31.json', '/Users/alison/insight/Insight Fellows_Slack/general/2015-04-05.json', '/Users/alison/insight/Insight Fellows_Slack/general/2016-09-28.json', '/Users/alison/insight/Insight Fellows_Slack/general/2017-06-08.json', '/Users/alison/insight/Insight Fellows_Slack/general/2015-03-01.json', '/Users/alison/insight/Insight Fellows_Slack/general/2017-08-16.json', '/Users/alison/insight/Insight Fellows_Slack/general/2017-07-25.json', '/Users/alison/insight/Insight Fellows_Slack/general/2017-05-18.json', '/Users/alison/insight/Insight Fellows_Slack/general/2018-01-26.json', '/Users/alison/insight/Insight Fellows_Slack/general/2016-03-22.json', '/Users/alison/insight/Insight Fellows_Slack/general/2018-02-20.json', '/Users/alison/insight/Insight Fellows_Slack/general/2015-03-17.json', '/Users/alison/insight/Insight Fellows_Slack/general/2017-04-23.json', '/Users/alison/insight/Insight Fellows_Slack/general/2016-12-19.json', '/Users/alison/insight/Insight Fellows_Slack/general/2016-10-24.json', '/Users/alison/insight/Insight Fellows_Slack/general/2016-02-19.json', '/Users/alison/insight/Insight Fellows_Slack/general/2018-01-30.json', '/Users/alison/insight/Insight Fellows_Slack/general/2015-10-07.json', '/Users/alison/insight/Insight Fellows_Slack/general/2016-11-09.json', '/Users/alison/insight/Insight Fellows_Slack/general/2018-04-09.json', '/Users/alison/insight/Insight Fellows_Slack/general/2015-07-03.json', '/Users/alison/insight/Insight Fellows_Slack/general/2016-08-13.json', '/Users/alison/insight/Insight Fellows_Slack/general/2016-04-30.json', '/Users/alison/insight/Insight Fellows_Slack/general/2018-05-24.json', '/Users/alison/insight/Insight Fellows_Slack/general/2017-03-27.json', '/Users/alison/insight/Insight Fellows_Slack/general/2015-08-30.json', '/Users/alison/insight/Insight Fellows_Slack/general/2016-07-20.json', '/Users/alison/insight/Insight Fellows_Slack/general/2016-11-29.json', '/Users/alison/insight/Insight Fellows_Slack/general/2016-01-29.json', '/Users/alison/insight/Insight Fellows_Slack/general/2016-03-14.json', '/Users/alison/insight/Insight Fellows_Slack/general/2018-01-10.json', '/Users/alison/insight/Insight Fellows_Slack/general/2015-10-27.json', '/Users/alison/insight/Insight Fellows_Slack/general/2017-07-13.json', '/Users/alison/insight/Insight Fellows_Slack/general/2016-10-04.json', '/Users/alison/insight/Insight Fellows_Slack/general/2017-04-03.json', '/Users/alison/insight/Insight Fellows_Slack/general/2018-05-04.json', '/Users/alison/insight/Insight Fellows_Slack/general/2017-03-07.json', '/Users/alison/insight/Insight Fellows_Slack/general/2015-08-10.json', '/Users/alison/insight/Insight Fellows_Slack/general/2016-04-10.json', '/Users/alison/insight/Insight Fellows_Slack/general/2018-04-29.json', '/Users/alison/insight/Insight Fellows_Slack/general/2017-10-17.json', '/Users/alison/insight/Insight Fellows_Slack/general/2016-07-16.json', '/Users/alison/insight/Insight Fellows_Slack/general/2016-09-08.json', '/Users/alison/insight/Insight Fellows_Slack/general/2017-03-11.json', '/Users/alison/insight/Insight Fellows_Slack/general/2015-08-06.json', '/Users/alison/insight/Insight Fellows_Slack/general/2018-05-12.json', '/Users/alison/insight/Insight Fellows_Slack/general/2015-06-18.json', '/Users/alison/insight/Insight Fellows_Slack/general/2016-04-06.json', '/Users/alison/insight/Insight Fellows_Slack/general/2017-10-01.json', '/Users/alison/insight/Insight Fellows_Slack/general/2015-05-08.json', '/Users/alison/insight/Insight Fellows_Slack/general/2018-06-02.json', '/Users/alison/insight/Insight Fellows_Slack/general/2016-03-02.json', '/Users/alison/insight/Insight Fellows_Slack/general/2017-07-05.json', '/Users/alison/insight/Insight Fellows_Slack/general/2015-10-31.json', '/Users/alison/insight/Insight Fellows_Slack/general/2016-10-12.json', '/Users/alison/insight/Insight Fellows_Slack/general/2017-04-15.json', '/Users/alison/insight/Insight Fellows_Slack/general/2017-06-28.json', '/Users/alison/insight/Insight Fellows_Slack/general/2018-02-16.json', '/Users/alison/insight/Insight Fellows_Slack/general/2015-04-09.json', '/Users/alison/insight/Insight Fellows_Slack/general/2016-09-24.json', '/Users/alison/insight/Insight Fellows_Slack/general/2018-04-13.json', '/Users/alison/insight/Insight Fellows_Slack/general/2017-12-10.json', '/Users/alison/insight/Insight Fellows_Slack/general/2017-02-10.json', '/Users/alison/insight/Insight Fellows_Slack/general/2015-09-07.json', '/Users/alison/insight/Insight Fellows_Slack/general/2016-08-09.json', '/Users/alison/insight/Insight Fellows_Slack/general/2016-06-17.json', '/Users/alison/insight/Insight Fellows_Slack/general/2015-02-20.json', '/Users/alison/insight/Insight Fellows_Slack/general/2017-07-29.json', '/Users/alison/insight/Insight Fellows_Slack/general/2016-01-13.json', '/Users/alison/insight/Insight Fellows_Slack/general/2015-01-30.json', '/Users/alison/insight/Insight Fellows_Slack/general/2015-11-30.json', '/Users/alison/insight/Insight Fellows_Slack/general/2017-06-04.json', '/Users/alison/insight/Insight Fellows_Slack/general/2016-12-03.json', '/Users/alison/insight/Insight Fellows_Slack/general/2016-02-03.json', '/Users/alison/insight/Insight Fellows_Slack/general/2018-03-01.json', '/Users/alison/insight/Insight Fellows_Slack/general/2017-09-21.json', '/Users/alison/insight/Insight Fellows_Slack/general/2016-01-05.json', '/Users/alison/insight/Insight Fellows_Slack/general/2016-11-05.json', '/Users/alison/insight/Insight Fellows_Slack/general/2017-06-12.json', '/Users/alison/insight/Insight Fellows_Slack/general/2015-11-26.json', '/Users/alison/insight/Insight Fellows_Slack/general/2015-01-26.json', '/Users/alison/insight/Insight Fellows_Slack/general/2016-02-15.json', '/Users/alison/insight/Insight Fellows_Slack/general/2016-12-15.json', '/Users/alison/insight/Insight Fellows_Slack/general/2018-05-28.json', '/Users/alison/insight/Insight Fellows_Slack/general/2017-11-16.json', '/Users/alison/insight/Insight Fellows_Slack/general/2015-06-22.json', '/Users/alison/insight/Insight Fellows_Slack/general/2016-05-11.json', '/Users/alison/insight/Insight Fellows_Slack/general/2017-02-06.json', '/Users/alison/insight/Insight Fellows_Slack/general/2015-09-11.json', '/Users/alison/insight/Insight Fellows_Slack/general/2017-12-06.json', '/Users/alison/insight/Insight Fellows_Slack/general/2018-04-05.json', '/Users/alison/insight/Insight Fellows_Slack/general/2016-06-01.json', '/Users/alison/insight/Insight Fellows_Slack/general/2017-02-07.json', '/Users/alison/insight/Insight Fellows_Slack/general/2015-09-10.json', '/Users/alison/insight/Insight Fellows_Slack/general/2017-12-07.json', '/Users/alison/insight/Insight Fellows_Slack/general/2018-04-04.json', '/Users/alison/insight/Insight Fellows_Slack/general/2017-01-17.json', '/Users/alison/insight/Insight Fellows_Slack/general/2018-05-29.json', '/Users/alison/insight/Insight Fellows_Slack/general/2017-11-17.json', '/Users/alison/insight/Insight Fellows_Slack/general/2015-06-23.json', '/Users/alison/insight/Insight Fellows_Slack/general/2016-05-10.json', '/Users/alison/insight/Insight Fellows_Slack/general/2017-06-13.json', '/Users/alison/insight/Insight Fellows_Slack/general/2015-11-27.json', '/Users/alison/insight/Insight Fellows_Slack/general/2015-01-27.json', '/Users/alison/insight/Insight Fellows_Slack/general/2016-02-14.json', '/Users/alison/insight/Insight Fellows_Slack/general/2016-12-14.json', '/Users/alison/insight/Insight Fellows_Slack/general/2017-05-03.json', '/Users/alison/insight/Insight Fellows_Slack/general/2017-09-20.json', '/Users/alison/insight/Insight Fellows_Slack/general/2016-01-04.json', '/Users/alison/insight/Insight Fellows_Slack/general/2016-11-04.json', '/Users/alison/insight/Insight Fellows_Slack/general/2017-06-05.json', '/Users/alison/insight/Insight Fellows_Slack/general/2016-02-02.json', '/Users/alison/insight/Insight Fellows_Slack/general/2015-02-21.json', '/Users/alison/insight/Insight Fellows_Slack/general/2018-03-16.json', '/Users/alison/insight/Insight Fellows_Slack/general/2017-07-28.json', '/Users/alison/insight/Insight Fellows_Slack/general/2017-05-15.json', '/Users/alison/insight/Insight Fellows_Slack/general/2015-12-21.json', '/Users/alison/insight/Insight Fellows_Slack/general/2016-11-12.json', '/Users/alison/insight/Insight Fellows_Slack/general/2016-01-12.json', '/Users/alison/insight/Insight Fellows_Slack/general/2018-04-12.json', '/Users/alison/insight/Insight Fellows_Slack/general/2017-12-11.json', '/Users/alison/insight/Insight Fellows_Slack/general/2015-07-18.json', '/Users/alison/insight/Insight Fellows_Slack/general/2017-02-11.json', '/Users/alison/insight/Insight Fellows_Slack/general/2016-08-08.json', '/Users/alison/insight/Insight Fellows_Slack/general/2016-06-16.json', '/Users/alison/insight/Insight Fellows_Slack/general/2015-04-08.json', '/Users/alison/insight/Insight Fellows_Slack/general/2017-11-01.json', '/Users/alison/insight/Insight Fellows_Slack/general/2016-09-25.json', '/Users/alison/insight/Insight Fellows_Slack/general/2016-05-06.json', '/Users/alison/insight/Insight Fellows_Slack/general/2016-10-13.json', '/Users/alison/insight/Insight Fellows_Slack/general/2017-06-29.json', '/Users/alison/insight/Insight Fellows_Slack/general/2015-03-20.json', '/Users/alison/insight/Insight Fellows_Slack/general/2018-01-07.json', '/Users/alison/insight/Insight Fellows_Slack/general/2016-04-07.json', '/Users/alison/insight/Insight Fellows_Slack/general/2016-08-24.json', '/Users/alison/insight/Insight Fellows_Slack/general/2015-05-09.json', '/Users/alison/insight/Insight Fellows_Slack/general/2018-06-03.json', '/Users/alison/insight/Insight Fellows_Slack/general/2016-07-17.json', '/Users/alison/insight/Insight Fellows_Slack/general/2016-09-09.json', '/Users/alison/insight/Insight Fellows_Slack/general/2017-03-10.json', '/Users/alison/insight/Insight Fellows_Slack/general/2018-05-13.json', '/Users/alison/insight/Insight Fellows_Slack/general/2015-06-19.json', '/Users/alison/insight/Insight Fellows_Slack/general/2016-04-11.json', '/Users/alison/insight/Insight Fellows_Slack/general/2018-04-28.json', '/Users/alison/insight/Insight Fellows_Slack/general/2015-07-22.json', '/Users/alison/insight/Insight Fellows_Slack/general/2017-10-16.json', '/Users/alison/insight/Insight Fellows_Slack/general/2016-07-01.json', '/Users/alison/insight/Insight Fellows_Slack/general/2018-05-05.json', '/Users/alison/insight/Insight Fellows_Slack/general/2017-03-06.json', '/Users/alison/insight/Insight Fellows_Slack/general/2015-08-11.json', '/Users/alison/insight/Insight Fellows_Slack/general/2016-10-05.json', '/Users/alison/insight/Insight Fellows_Slack/general/2018-02-01.json', '/Users/alison/insight/Insight Fellows_Slack/general/2017-08-21.json', '/Users/alison/insight/Insight Fellows_Slack/general/2017-04-02.json', '/Users/alison/insight/Insight Fellows_Slack/general/2016-11-28.json', '/Users/alison/insight/Insight Fellows_Slack/general/2016-03-15.json', '/Users/alison/insight/Insight Fellows_Slack/general/2016-01-28.json', '/Users/alison/insight/Insight Fellows_Slack/general/2018-01-11.json', '/Users/alison/insight/Insight Fellows_Slack/general/2017-07-12.json', '/Users/alison/insight/Insight Fellows_Slack/general/2018-05-25.json', '/Users/alison/insight/Insight Fellows_Slack/general/2015-08-31.json', '/Users/alison/insight/Insight Fellows_Slack/general/2016-07-21.json', '/Users/alison/insight/Insight Fellows_Slack/general/2015-07-02.json', '/Users/alison/insight/Insight Fellows_Slack/general/2016-08-12.json', '/Users/alison/insight/Insight Fellows_Slack/general/2018-01-31.json', '/Users/alison/insight/Insight Fellows_Slack/general/2015-10-06.json', '/Users/alison/insight/Insight Fellows_Slack/general/2016-11-08.json', '/Users/alison/insight/Insight Fellows_Slack/general/2016-01-08.json', '/Users/alison/insight/Insight Fellows_Slack/general/2018-02-21.json', '/Users/alison/insight/Insight Fellows_Slack/general/2017-08-01.json', '/Users/alison/insight/Insight Fellows_Slack/general/2017-04-22.json', '/Users/alison/insight/Insight Fellows_Slack/general/2016-10-25.json', '/Users/alison/insight/Insight Fellows_Slack/general/2016-12-18.json', '/Users/alison/insight/Insight Fellows_Slack/general/2016-02-18.json', '/Users/alison/insight/Insight Fellows_Slack/general/2017-05-19.json', '/Users/alison/insight/Insight Fellows_Slack/general/2017-07-24.json', '/Users/alison/insight/Insight Fellows_Slack/general/2015-10-10.json', '/Users/alison/insight/Insight Fellows_Slack/general/2018-01-27.json', '/Users/alison/insight/Insight Fellows_Slack/general/2016-03-23.json', '/Users/alison/insight/Insight Fellows_Slack/general/2017-06-09.json', '/Users/alison/insight/Insight Fellows_Slack/general/2017-08-17.json', '/Users/alison/insight/Insight Fellows_Slack/general/2017-03-30.json', '/Users/alison/insight/Insight Fellows_Slack/general/2015-08-27.json', '/Users/alison/insight/Insight Fellows_Slack/general/2016-09-29.json', '/Users/alison/insight/Insight Fellows_Slack/general/2017-10-20.json', '/Users/alison/insight/Insight Fellows_Slack/general/2015-07-14.json', '/Users/alison/insight/Insight Fellows_Slack/general/2015-05-29.json', '/Users/alison/insight/Insight Fellows_Slack/general/2016-04-27.json', '/Users/alison/insight/Insight Fellows_Slack/general/2016-08-04.json', '/Users/alison/insight/Insight Fellows_Slack/general/2017-07-08.json', '/Users/alison/insight/Insight Fellows_Slack/general/2015-12-01.json', '/Users/alison/insight/Insight Fellows_Slack/general/2016-12-22.json', '/Users/alison/insight/Insight Fellows_Slack/general/2016-02-22.json', '/Users/alison/insight/Insight Fellows_Slack/general/2015-01-11.json', '/Users/alison/insight/Insight Fellows_Slack/general/2015-11-11.json', '/Users/alison/insight/Insight Fellows_Slack/general/2017-04-18.json', '/Users/alison/insight/Insight Fellows_Slack/general/2017-06-25.json', '/Users/alison/insight/Insight Fellows_Slack/general/2016-05-26.json', '/Users/alison/insight/Insight Fellows_Slack/general/2015-06-15.json', '/Users/alison/insight/Insight Fellows_Slack/general/2015-04-28.json', '/Users/alison/insight/Insight Fellows_Slack/general/2017-11-21.json', '/Users/alison/insight/Insight Fellows_Slack/general/2017-01-21.json', '/Users/alison/insight/Insight Fellows_Slack/general/2017-12-31.json', '/Users/alison/insight/Insight Fellows_Slack/general/2016-09-13.json', '/Users/alison/insight/Insight Fellows_Slack/general/2018-05-09.json', '/Users/alison/insight/Insight Fellows_Slack/general/2015-06-03.json', '/Users/alison/insight/Insight Fellows_Slack/general/2016-06-20.json', '/Users/alison/insight/Insight Fellows_Slack/general/2017-02-27.json', '/Users/alison/insight/Insight Fellows_Slack/general/2015-05-13.json', '/Users/alison/insight/Insight Fellows_Slack/general/2017-12-27.json', '/Users/alison/insight/Insight Fellows_Slack/general/2018-04-24.json', '/Users/alison/insight/Insight Fellows_Slack/general/2016-01-24.json', '/Users/alison/insight/Insight Fellows_Slack/general/2016-03-19.json', '/Users/alison/insight/Insight Fellows_Slack/general/2016-11-24.json', '/Users/alison/insight/Insight Fellows_Slack/general/2015-12-17.json', '/Users/alison/insight/Insight Fellows_Slack/general/2017-05-23.json', '/Users/alison/insight/Insight Fellows_Slack/general/2018-03-20.json', '/Users/alison/insight/Insight Fellows_Slack/general/2015-02-17.json', '/Users/alison/insight/Insight Fellows_Slack/general/2016-10-09.json', '/Users/alison/insight/Insight Fellows_Slack/general/2015-11-07.json']\n"
     ]
    }
   ],
   "source": [
    "\n",
    "    \n",
    "import os\n",
    "import json\n",
    "import pandas as pd\n",
    "import matplotlib.pyplot as plt\n",
    "import nltk\n",
    "import regex\n",
    "import re\n",
    "import nltk\n",
    "nltk.download('stopwords')\n",
    "import datetime\n",
    "\n",
    "#finds json file\n",
    "path_to_json = '/Users/alison/insight/Insight Fellows_Slack/general/'\n",
    "json_filenames = [path_to_json+pos_json for pos_json in os.listdir(path_to_json) if pos_json.endswith('.json')]\n",
    "\n",
    "print(json_filenames)"
   ]
  },
  {
   "cell_type": "code",
   "execution_count": 2,
   "metadata": {},
   "outputs": [],
   "source": [
    "df = pd.DataFrame()\n",
    "for file_path in json_filenames:\n",
    "    temp_df = pd.read_json(file_path)\n",
    "  #df = df.append(temp_df[['type', 'user', 'text', 'ts']])\n",
    "    df = df.append(temp_df[['text', 'ts']])"
   ]
  },
  {
   "cell_type": "code",
   "execution_count": null,
   "metadata": {},
   "outputs": [],
   "source": [
    "#df['ts'] =pd.to_datetime(df.Date)"
   ]
  },
  {
   "cell_type": "code",
   "execution_count": 15,
   "metadata": {},
   "outputs": [],
   "source": [
    "#convert unix epoch time to datetime and sorted\n",
    "\n",
    "#convert_time = pd.to_datetime(df['ts'], unit='s').sort_values()"
   ]
  },
  {
   "cell_type": "code",
   "execution_count": 17,
   "metadata": {},
   "outputs": [
    {
     "name": "stdout",
     "output_type": "stream",
     "text": [
      "0   2015-01-09 18:50:01.000002\n",
      "1   2015-01-09 18:50:56.000003\n",
      "2   2015-01-09 18:51:35.000004\n",
      "3   2015-01-09 18:51:58.000005\n",
      "4   2015-01-09 18:52:20.000006\n",
      "5   2015-01-09 19:01:04.000007\n",
      "6   2015-01-09 19:05:04.000008\n",
      "7   2015-01-09 19:09:50.000009\n",
      "8   2015-01-09 19:11:07.000010\n",
      "9   2015-01-09 19:11:28.000011\n",
      "Name: ts, dtype: datetime64[ns]\n"
     ]
    }
   ],
   "source": [
    "#print(convert_time[:10])"
   ]
  },
  {
   "cell_type": "code",
   "execution_count": 18,
   "metadata": {},
   "outputs": [
    {
     "data": {
      "text/plain": [
       "pandas.core.series.Series"
      ]
     },
     "execution_count": 18,
     "metadata": {},
     "output_type": "execute_result"
    }
   ],
   "source": [
    "#type(convert_time)"
   ]
  },
  {
   "cell_type": "code",
   "execution_count": 3,
   "metadata": {},
   "outputs": [],
   "source": [
    "#new data column of converted Unix series to datetime\n",
    "df['NewTime'] = pd.to_datetime(df['ts'], unit='s')"
   ]
  },
  {
   "cell_type": "code",
   "execution_count": 4,
   "metadata": {},
   "outputs": [],
   "source": [
    "#sorted dataframe by date\n",
    "df = df.sort_values(by='NewTime')"
   ]
  },
  {
   "cell_type": "code",
   "execution_count": 29,
   "metadata": {},
   "outputs": [
    {
     "data": {
      "text/html": [
       "<div>\n",
       "<style scoped>\n",
       "    .dataframe tbody tr th:only-of-type {\n",
       "        vertical-align: middle;\n",
       "    }\n",
       "\n",
       "    .dataframe tbody tr th {\n",
       "        vertical-align: top;\n",
       "    }\n",
       "\n",
       "    .dataframe thead th {\n",
       "        text-align: right;\n",
       "    }\n",
       "</style>\n",
       "<table border=\"1\" class=\"dataframe\">\n",
       "  <thead>\n",
       "    <tr style=\"text-align: right;\">\n",
       "      <th></th>\n",
       "      <th>text</th>\n",
       "      <th>ts</th>\n",
       "      <th>NewTime</th>\n",
       "    </tr>\n",
       "  </thead>\n",
       "  <tbody>\n",
       "    <tr>\n",
       "      <th>0</th>\n",
       "      <td>&lt;@U03AY7TUK&gt; has joined the channel</td>\n",
       "      <td>1.420829e+09</td>\n",
       "      <td>2015-01-09 18:50:01.000002</td>\n",
       "    </tr>\n",
       "    <tr>\n",
       "      <th>1</th>\n",
       "      <td>&lt;@U03AZQ4LE&gt; has joined the channel</td>\n",
       "      <td>1.420829e+09</td>\n",
       "      <td>2015-01-09 18:50:56.000003</td>\n",
       "    </tr>\n",
       "    <tr>\n",
       "      <th>2</th>\n",
       "      <td>Welcome fellow Fellows!</td>\n",
       "      <td>1.420829e+09</td>\n",
       "      <td>2015-01-09 18:51:35.000004</td>\n",
       "    </tr>\n",
       "    <tr>\n",
       "      <th>3</th>\n",
       "      <td>&lt;@U03AZQBLN&gt; has joined the channel</td>\n",
       "      <td>1.420830e+09</td>\n",
       "      <td>2015-01-09 18:51:58.000005</td>\n",
       "    </tr>\n",
       "  </tbody>\n",
       "</table>\n",
       "</div>"
      ],
      "text/plain": [
       "                                  text            ts  \\\n",
       "0  <@U03AY7TUK> has joined the channel  1.420829e+09   \n",
       "1  <@U03AZQ4LE> has joined the channel  1.420829e+09   \n",
       "2              Welcome fellow Fellows!  1.420829e+09   \n",
       "3  <@U03AZQBLN> has joined the channel  1.420830e+09   \n",
       "\n",
       "                     NewTime  \n",
       "0 2015-01-09 18:50:01.000002  \n",
       "1 2015-01-09 18:50:56.000003  \n",
       "2 2015-01-09 18:51:35.000004  \n",
       "3 2015-01-09 18:51:58.000005  "
      ]
     },
     "execution_count": 29,
     "metadata": {},
     "output_type": "execute_result"
    }
   ],
   "source": [
    "df[:4]"
   ]
  },
  {
   "cell_type": "code",
   "execution_count": 5,
   "metadata": {},
   "outputs": [],
   "source": [
    "#drop rows that say joined channel\n",
    "df = df[df.text.str.contains(\"has joined the channel\") == False]"
   ]
  },
  {
   "cell_type": "code",
   "execution_count": 169,
   "metadata": {},
   "outputs": [
    {
     "data": {
      "text/plain": [
       "10362"
      ]
     },
     "execution_count": 169,
     "metadata": {},
     "output_type": "execute_result"
    }
   ],
   "source": [
    "len(df)"
   ]
  },
  {
   "cell_type": "code",
   "execution_count": 47,
   "metadata": {},
   "outputs": [
    {
     "data": {
      "text/html": [
       "<div>\n",
       "<style scoped>\n",
       "    .dataframe tbody tr th:only-of-type {\n",
       "        vertical-align: middle;\n",
       "    }\n",
       "\n",
       "    .dataframe tbody tr th {\n",
       "        vertical-align: top;\n",
       "    }\n",
       "\n",
       "    .dataframe thead th {\n",
       "        text-align: right;\n",
       "    }\n",
       "</style>\n",
       "<table border=\"1\" class=\"dataframe\">\n",
       "  <thead>\n",
       "    <tr style=\"text-align: right;\">\n",
       "      <th></th>\n",
       "      <th>text</th>\n",
       "      <th>ts</th>\n",
       "      <th>NewTime</th>\n",
       "    </tr>\n",
       "  </thead>\n",
       "  <tbody>\n",
       "    <tr>\n",
       "      <th>2</th>\n",
       "      <td>Welcome fellow Fellows!</td>\n",
       "      <td>1.420829e+09</td>\n",
       "      <td>2015-01-09 18:51:35.000004</td>\n",
       "    </tr>\n",
       "    <tr>\n",
       "      <th>4</th>\n",
       "      <td>Can you invite others? I've invited everyone f...</td>\n",
       "      <td>1.420830e+09</td>\n",
       "      <td>2015-01-09 18:52:20.000006</td>\n",
       "    </tr>\n",
       "    <tr>\n",
       "      <th>8</th>\n",
       "      <td>hello world!</td>\n",
       "      <td>1.420831e+09</td>\n",
       "      <td>2015-01-09 19:11:07.000010</td>\n",
       "    </tr>\n",
       "    <tr>\n",
       "      <th>10</th>\n",
       "      <td>tomv: how's dow jones / news corp. treating yo...</td>\n",
       "      <td>1.420831e+09</td>\n",
       "      <td>2015-01-09 19:11:43.000012</td>\n",
       "    </tr>\n",
       "    <tr>\n",
       "      <th>11</th>\n",
       "      <td>hi all!</td>\n",
       "      <td>1.420831e+09</td>\n",
       "      <td>2015-01-09 19:15:07.000013</td>\n",
       "    </tr>\n",
       "    <tr>\n",
       "      <th>12</th>\n",
       "      <td>hello!</td>\n",
       "      <td>1.420832e+09</td>\n",
       "      <td>2015-01-09 19:26:21.000014</td>\n",
       "    </tr>\n",
       "    <tr>\n",
       "      <th>13</th>\n",
       "      <td>&lt;@U03AY3FTZ&gt;: fabulous thank you</td>\n",
       "      <td>1.420832e+09</td>\n",
       "      <td>2015-01-09 19:26:32.000015</td>\n",
       "    </tr>\n",
       "    <tr>\n",
       "      <th>14</th>\n",
       "      <td>I've only deeply offended 4 people so far</td>\n",
       "      <td>1.420832e+09</td>\n",
       "      <td>2015-01-09 19:26:48.000016</td>\n",
       "    </tr>\n",
       "    <tr>\n",
       "      <th>15</th>\n",
       "      <td>so it's a major win</td>\n",
       "      <td>1.420832e+09</td>\n",
       "      <td>2015-01-09 19:26:52.000017</td>\n",
       "    </tr>\n",
       "    <tr>\n",
       "      <th>16</th>\n",
       "      <td>although I've spent the last week doing nothin...</td>\n",
       "      <td>1.420832e+09</td>\n",
       "      <td>2015-01-09 19:27:28.000018</td>\n",
       "    </tr>\n",
       "    <tr>\n",
       "      <th>17</th>\n",
       "      <td>was one of them Rupert? :simple_smile:</td>\n",
       "      <td>1.420832e+09</td>\n",
       "      <td>2015-01-09 19:27:30.000019</td>\n",
       "    </tr>\n",
       "    <tr>\n",
       "      <th>18</th>\n",
       "      <td>unfortunately not, but my next target will be ...</td>\n",
       "      <td>1.420832e+09</td>\n",
       "      <td>2015-01-09 19:28:09.000020</td>\n",
       "    </tr>\n",
       "    <tr>\n",
       "      <th>19</th>\n",
       "      <td>/giphy fox</td>\n",
       "      <td>1.420832e+09</td>\n",
       "      <td>2015-01-09 19:28:14.000021</td>\n",
       "    </tr>\n",
       "    <tr>\n",
       "      <th>20</th>\n",
       "      <td>/giphy hannity</td>\n",
       "      <td>1.420832e+09</td>\n",
       "      <td>2015-01-09 19:32:30.000022</td>\n",
       "    </tr>\n",
       "    <tr>\n",
       "      <th>21</th>\n",
       "      <td>lame</td>\n",
       "      <td>1.420832e+09</td>\n",
       "      <td>2015-01-09 19:32:38.000023</td>\n",
       "    </tr>\n",
       "    <tr>\n",
       "      <th>22</th>\n",
       "      <td>haha</td>\n",
       "      <td>1.420832e+09</td>\n",
       "      <td>2015-01-09 19:34:10.000024</td>\n",
       "    </tr>\n",
       "    <tr>\n",
       "      <th>23</th>\n",
       "      <td>greenhouse all good?</td>\n",
       "      <td>1.420832e+09</td>\n",
       "      <td>2015-01-09 19:34:21.000025</td>\n",
       "    </tr>\n",
       "    <tr>\n",
       "      <th>24</th>\n",
       "      <td>very good. lots of interesting data and good n...</td>\n",
       "      <td>1.420832e+09</td>\n",
       "      <td>2015-01-09 19:35:51.000026</td>\n",
       "    </tr>\n",
       "    <tr>\n",
       "      <th>25</th>\n",
       "      <td>should I start an #impostersyndrome channel? :...</td>\n",
       "      <td>1.420832e+09</td>\n",
       "      <td>2015-01-09 19:36:11.000027</td>\n",
       "    </tr>\n",
       "    <tr>\n",
       "      <th>0</th>\n",
       "      <td>&lt;http://www.disneyresearch.com/publication/lea...</td>\n",
       "      <td>1.421084e+09</td>\n",
       "      <td>2015-01-12 17:25:06.000006</td>\n",
       "    </tr>\n",
       "  </tbody>\n",
       "</table>\n",
       "</div>"
      ],
      "text/plain": [
       "                                                 text            ts  \\\n",
       "2                             Welcome fellow Fellows!  1.420829e+09   \n",
       "4   Can you invite others? I've invited everyone f...  1.420830e+09   \n",
       "8                                        hello world!  1.420831e+09   \n",
       "10  tomv: how's dow jones / news corp. treating yo...  1.420831e+09   \n",
       "11                                            hi all!  1.420831e+09   \n",
       "12                                             hello!  1.420832e+09   \n",
       "13                   <@U03AY3FTZ>: fabulous thank you  1.420832e+09   \n",
       "14          I've only deeply offended 4 people so far  1.420832e+09   \n",
       "15                                so it's a major win  1.420832e+09   \n",
       "16  although I've spent the last week doing nothin...  1.420832e+09   \n",
       "17             was one of them Rupert? :simple_smile:  1.420832e+09   \n",
       "18  unfortunately not, but my next target will be ...  1.420832e+09   \n",
       "19                                         /giphy fox  1.420832e+09   \n",
       "20                                     /giphy hannity  1.420832e+09   \n",
       "21                                               lame  1.420832e+09   \n",
       "22                                               haha  1.420832e+09   \n",
       "23                               greenhouse all good?  1.420832e+09   \n",
       "24  very good. lots of interesting data and good n...  1.420832e+09   \n",
       "25  should I start an #impostersyndrome channel? :...  1.420832e+09   \n",
       "0   <http://www.disneyresearch.com/publication/lea...  1.421084e+09   \n",
       "\n",
       "                      NewTime  \n",
       "2  2015-01-09 18:51:35.000004  \n",
       "4  2015-01-09 18:52:20.000006  \n",
       "8  2015-01-09 19:11:07.000010  \n",
       "10 2015-01-09 19:11:43.000012  \n",
       "11 2015-01-09 19:15:07.000013  \n",
       "12 2015-01-09 19:26:21.000014  \n",
       "13 2015-01-09 19:26:32.000015  \n",
       "14 2015-01-09 19:26:48.000016  \n",
       "15 2015-01-09 19:26:52.000017  \n",
       "16 2015-01-09 19:27:28.000018  \n",
       "17 2015-01-09 19:27:30.000019  \n",
       "18 2015-01-09 19:28:09.000020  \n",
       "19 2015-01-09 19:28:14.000021  \n",
       "20 2015-01-09 19:32:30.000022  \n",
       "21 2015-01-09 19:32:38.000023  \n",
       "22 2015-01-09 19:34:10.000024  \n",
       "23 2015-01-09 19:34:21.000025  \n",
       "24 2015-01-09 19:35:51.000026  \n",
       "25 2015-01-09 19:36:11.000027  \n",
       "0  2015-01-12 17:25:06.000006  "
      ]
     },
     "execution_count": 47,
     "metadata": {},
     "output_type": "execute_result"
    }
   ],
   "source": [
    "df[:20]"
   ]
  },
  {
   "cell_type": "code",
   "execution_count": 57,
   "metadata": {},
   "outputs": [
    {
     "data": {
      "text/plain": [
       "2    2015-01-09 18:46:35.000004\n",
       "4    2015-01-09 18:47:20.000006\n",
       "8    2015-01-09 19:06:07.000010\n",
       "10   2015-01-09 19:06:43.000012\n",
       "11   2015-01-09 19:10:07.000013\n",
       "12   2015-01-09 19:21:21.000014\n",
       "13   2015-01-09 19:21:32.000015\n",
       "14   2015-01-09 19:21:48.000016\n",
       "15   2015-01-09 19:21:52.000017\n",
       "16   2015-01-09 19:22:28.000018\n",
       "Name: NewTime, dtype: datetime64[ns]"
      ]
     },
     "execution_count": 57,
     "metadata": {},
     "output_type": "execute_result"
    }
   ],
   "source": []
  },
  {
   "cell_type": "code",
   "execution_count": 63,
   "metadata": {},
   "outputs": [
    {
     "data": {
      "text/plain": [
       "range(1, 10362)"
      ]
     },
     "execution_count": 63,
     "metadata": {},
     "output_type": "execute_result"
    }
   ],
   "source": []
  },
  {
   "cell_type": "code",
   "execution_count": 86,
   "metadata": {},
   "outputs": [
    {
     "data": {
      "text/plain": [
       "\"Can you invite others? I've invited everyone from our class, but it'd be great to have all Fellows on this same slack, don't you think?\""
      ]
     },
     "execution_count": 86,
     "metadata": {},
     "output_type": "execute_result"
    }
   ],
   "source": [
    "df.iloc[1]['text']"
   ]
  },
  {
   "cell_type": "code",
   "execution_count": 6,
   "metadata": {},
   "outputs": [],
   "source": [
    "# empty list\n",
    "df_concat = []\n",
    "# start with first row\n",
    "str_concat = df.iloc[0]['text']\n",
    "start_time = df.iloc[0]['NewTime']\n",
    "# loop through all rows starting with the second row\n",
    "for i in range(1,df.shape[0]):\n",
    "    # if time difference from start time is less than 10 min, append text to string object\n",
    "    if((df.iloc[i]['NewTime'] - start_time).total_seconds() < 600):\n",
    "        str_concat = str_concat+ ' ' + df.iloc[i]['text']\n",
    "    # if time difference from start time is more than 600 seconds, append string object to list, re-initialize string object and start time\n",
    "    else:\n",
    "        df_concat.append(str_concat)\n",
    "        str_concat = df.iloc[i]['text']\n",
    "        start_time = df.iloc[i]['NewTime']"
   ]
  },
  {
   "cell_type": "code",
   "execution_count": 7,
   "metadata": {},
   "outputs": [
    {
     "data": {
      "text/plain": [
       "\"hello! <@U03AY3FTZ>: fabulous thank you I've only deeply offended 4 people so far so it's a major win although I've spent the last week doing nothing but Flask -- the irony has not escaped me.... was one of them Rupert? :simple_smile: unfortunately not, but my next target will be one of the FOx News talk show host /giphy fox /giphy hannity lame haha greenhouse all good? very good. lots of interesting data and good nice co-workers. i don't feel like I've been doing too too much yet, but I can see some meaty data science on the one-month horizon should I start an #impostersyndrome channel? :wink:\""
      ]
     },
     "execution_count": 7,
     "metadata": {},
     "output_type": "execute_result"
    }
   ],
   "source": [
    "df_concat[2]"
   ]
  },
  {
   "cell_type": "code",
   "execution_count": 8,
   "metadata": {},
   "outputs": [],
   "source": [
    "#lowercase, \n",
    "list_clean = [df_clean.lower() for df_clean in df_concat]"
   ]
  },
  {
   "cell_type": "code",
   "execution_count": 9,
   "metadata": {},
   "outputs": [
    {
     "data": {
      "text/plain": [
       "\"hello! <@u03ay3ftz>: fabulous thank you i've only deeply offended 4 people so far so it's a major win although i've spent the last week doing nothing but flask -- the irony has not escaped me.... was one of them rupert? :simple_smile: unfortunately not, but my next target will be one of the fox news talk show host /giphy fox /giphy hannity lame haha greenhouse all good? very good. lots of interesting data and good nice co-workers. i don't feel like i've been doing too too much yet, but i can see some meaty data science on the one-month horizon should i start an #impostersyndrome channel? :wink:\""
      ]
     },
     "execution_count": 9,
     "metadata": {},
     "output_type": "execute_result"
    }
   ],
   "source": [
    "list_clean[2]"
   ]
  },
  {
   "cell_type": "code",
   "execution_count": 10,
   "metadata": {},
   "outputs": [],
   "source": [
    "#remove \\\\n\n",
    "\n",
    "\n",
    "list_clean1 = [re.sub('\\\\n', '',x) for x in list_clean]\n",
    "#remove user tags and URLS\n",
    "list_clean2 = [re.sub('<.*?>', '', i) for i in list_clean1]\n",
    "#remove :: emojis \n",
    "list_clean3= [re.sub(':\\w+:', '', p) for p in list_clean2] \n",
    "#list_clean3= [re.sub(':[a-z_]:/', '', p) for p in list_clean2] \n",
    "#remove \\\\\n",
    "list_clean4 = [re.sub(r\"\\\\\", \"\", q) for q in list_clean3] \n",
    "    "
   ]
  },
  {
   "cell_type": "code",
   "execution_count": 15,
   "metadata": {},
   "outputs": [
    {
     "name": "stdout",
     "output_type": "stream",
     "text": [
      "hello! : fabulous thank you i've only deeply offended 4 people so far so it's a major win although i've spent the last week doing nothing but flask -- the irony has not escaped me.... was one of them rupert?  unfortunately not, but my next target will be one of the fox news talk show host /giphy fox /giphy hannity lame haha greenhouse all good? very good. lots of interesting data and good nice co-workers. i don't feel like i've been doing too too much yet, but i can see some meaty data science on the one-month horizon should i start an #impostersyndrome channel? \n"
     ]
    }
   ],
   "source": [
    "print(list_clean4[2])"
   ]
  },
  {
   "cell_type": "code",
   "execution_count": 50,
   "metadata": {},
   "outputs": [
    {
     "name": "stdout",
     "output_type": "stream",
     "text": [
      "0.9647021051567897\n"
     ]
    },
    {
     "ename": "SyntaxError",
     "evalue": "'return' outside function (<ipython-input-50-91a1d8b1aed7>, line 8)",
     "output_type": "error",
     "traceback": [
      "\u001b[0;36m  File \u001b[0;32m\"<ipython-input-50-91a1d8b1aed7>\"\u001b[0;36m, line \u001b[0;32m8\u001b[0m\n\u001b[0;31m    return doc\u001b[0m\n\u001b[0m              ^\u001b[0m\n\u001b[0;31mSyntaxError\u001b[0m\u001b[0;31m:\u001b[0m 'return' outside function\n"
     ]
    }
   ],
   "source": [
    "from spacy.tokenizer import Tokenizer\n",
    "#tokenizer = Tokenizer(nlp.vocab)\n",
    "\n",
    "doc = nlp(list_clean4[2])\n",
    "doc1 = nlp(list_clean4[5])\n",
    "print(doc.similarity(doc1))\n",
    "\n",
    "return doc"
   ]
  },
  {
   "cell_type": "code",
   "execution_count": 53,
   "metadata": {},
   "outputs": [
    {
     "ename": "SyntaxError",
     "evalue": "'return' outside function (<ipython-input-53-0633a738647d>, line 2)",
     "output_type": "error",
     "traceback": [
      "\u001b[0;36m  File \u001b[0;32m\"<ipython-input-53-0633a738647d>\"\u001b[0;36m, line \u001b[0;32m2\u001b[0m\n\u001b[0;31m    return doc\u001b[0m\n\u001b[0m              ^\u001b[0m\n\u001b[0;31mSyntaxError\u001b[0m\u001b[0;31m:\u001b[0m 'return' outside function\n"
     ]
    }
   ],
   "source": [
    "doc = nlp(u'Some text')\n",
    "return doc\n"
   ]
  },
  {
   "cell_type": "code",
   "execution_count": 49,
   "metadata": {},
   "outputs": [
    {
     "name": "stdout",
     "output_type": "stream",
     "text": [
      "(5252, 13121)\n"
     ]
    }
   ],
   "source": [
    "from sklearn.feature_extraction.text import TfidfVectorizer\n",
    "tf_vectorizer = TfidfVectorizer()\n",
    "tfidf_article_matrix = tf_vectorizer.fit_transform(list_clean4)\n",
    "print(tfidf_article_matrix.shape)\n"
   ]
  },
  {
   "cell_type": "code",
   "execution_count": null,
   "metadata": {},
   "outputs": [],
   "source": []
  },
  {
   "cell_type": "code",
   "execution_count": 24,
   "metadata": {},
   "outputs": [
    {
     "ename": "IndentationError",
     "evalue": "unexpected indent (<ipython-input-24-d0da18bb69ce>, line 6)",
     "output_type": "error",
     "traceback": [
      "\u001b[0;36m  File \u001b[0;32m\"<ipython-input-24-d0da18bb69ce>\"\u001b[0;36m, line \u001b[0;32m6\u001b[0m\n\u001b[0;31m    for elem in aux[:5]:\u001b[0m\n\u001b[0m    ^\u001b[0m\n\u001b[0;31mIndentationError\u001b[0m\u001b[0;31m:\u001b[0m unexpected indent\n"
     ]
    }
   ],
   "source": [
    "#get random list\n",
    "import random\n",
    "docs = []\n",
    "aux = list_clean4\n",
    "random.shuffle(aux)\n",
    "    for elem in aux[:5]:\n",
    "        doc = nlp(elem)\n",
    "        docs.append(doc)\n",
    "#rand_smpl = [list_clean4[i] for i in (random.sample(range(len(list_clean4)),5))]\n",
    "\n",
    "\n"
   ]
  },
  {
   "cell_type": "code",
   "execution_count": 22,
   "metadata": {},
   "outputs": [
    {
     "ename": "NameError",
     "evalue": "name 'doc' is not defined",
     "output_type": "error",
     "traceback": [
      "\u001b[0;31m---------------------------------------------------------------------------\u001b[0m",
      "\u001b[0;31mNameError\u001b[0m                                 Traceback (most recent call last)",
      "\u001b[0;32m<ipython-input-22-c29269e3eaf0>\u001b[0m in \u001b[0;36m<module>\u001b[0;34m()\u001b[0m\n\u001b[0;32m----> 1\u001b[0;31m \u001b[0mdoc\u001b[0m\u001b[0;34m\u001b[0m\u001b[0m\n\u001b[0m",
      "\u001b[0;31mNameError\u001b[0m: name 'doc' is not defined"
     ]
    }
   ],
   "source": [
    "best(list)"
   ]
  },
  {
   "cell_type": "code",
   "execution_count": 16,
   "metadata": {},
   "outputs": [],
   "source": [
    "import spacy\n",
    "\n",
    "nlp = spacy.load('en_vectors_web_lg')"
   ]
  },
  {
   "cell_type": "code",
   "execution_count": null,
   "metadata": {},
   "outputs": [],
   "source": []
  },
  {
   "cell_type": "code",
   "execution_count": 189,
   "metadata": {},
   "outputs": [
    {
     "ename": "AttributeError",
     "evalue": "'spacy.tokens.doc.Doc' object has no attribute 'is_stop'",
     "output_type": "error",
     "traceback": [
      "\u001b[0;31m---------------------------------------------------------------------------\u001b[0m",
      "\u001b[0;31mAttributeError\u001b[0m                            Traceback (most recent call last)",
      "\u001b[0;32m<ipython-input-189-6591a4943127>\u001b[0m in \u001b[0;36m<module>\u001b[0;34m()\u001b[0m\n\u001b[1;32m      4\u001b[0m \u001b[0;34m\u001b[0m\u001b[0m\n\u001b[1;32m      5\u001b[0m \u001b[0mdoc\u001b[0m \u001b[0;34m=\u001b[0m \u001b[0;34m[\u001b[0m\u001b[0mnlp\u001b[0m\u001b[0;34m(\u001b[0m\u001b[0mx\u001b[0m\u001b[0;34m)\u001b[0m \u001b[0;32mfor\u001b[0m \u001b[0mx\u001b[0m \u001b[0;32min\u001b[0m \u001b[0mlist_clean4\u001b[0m\u001b[0;34m]\u001b[0m\u001b[0;34m\u001b[0m\u001b[0m\n\u001b[0;32m----> 6\u001b[0;31m \u001b[0mlemmas\u001b[0m \u001b[0;34m=\u001b[0m \u001b[0;34m[\u001b[0m\u001b[0mtoken\u001b[0m\u001b[0;34m.\u001b[0m\u001b[0mlemma_\u001b[0m \u001b[0;32mfor\u001b[0m \u001b[0mtoken\u001b[0m \u001b[0;32min\u001b[0m \u001b[0mdoc\u001b[0m \u001b[0;32mif\u001b[0m \u001b[0;32mnot\u001b[0m \u001b[0mtoken\u001b[0m\u001b[0;34m.\u001b[0m\u001b[0mis_stop\u001b[0m\u001b[0;34m]\u001b[0m\u001b[0;34m\u001b[0m\u001b[0m\n\u001b[0m\u001b[1;32m      7\u001b[0m \u001b[0;34m\u001b[0m\u001b[0m\n\u001b[1;32m      8\u001b[0m \u001b[0;34m\u001b[0m\u001b[0m\n",
      "\u001b[0;32m<ipython-input-189-6591a4943127>\u001b[0m in \u001b[0;36m<listcomp>\u001b[0;34m(.0)\u001b[0m\n\u001b[1;32m      4\u001b[0m \u001b[0;34m\u001b[0m\u001b[0m\n\u001b[1;32m      5\u001b[0m \u001b[0mdoc\u001b[0m \u001b[0;34m=\u001b[0m \u001b[0;34m[\u001b[0m\u001b[0mnlp\u001b[0m\u001b[0;34m(\u001b[0m\u001b[0mx\u001b[0m\u001b[0;34m)\u001b[0m \u001b[0;32mfor\u001b[0m \u001b[0mx\u001b[0m \u001b[0;32min\u001b[0m \u001b[0mlist_clean4\u001b[0m\u001b[0;34m]\u001b[0m\u001b[0;34m\u001b[0m\u001b[0m\n\u001b[0;32m----> 6\u001b[0;31m \u001b[0mlemmas\u001b[0m \u001b[0;34m=\u001b[0m \u001b[0;34m[\u001b[0m\u001b[0mtoken\u001b[0m\u001b[0;34m.\u001b[0m\u001b[0mlemma_\u001b[0m \u001b[0;32mfor\u001b[0m \u001b[0mtoken\u001b[0m \u001b[0;32min\u001b[0m \u001b[0mdoc\u001b[0m \u001b[0;32mif\u001b[0m \u001b[0;32mnot\u001b[0m \u001b[0mtoken\u001b[0m\u001b[0;34m.\u001b[0m\u001b[0mis_stop\u001b[0m\u001b[0;34m]\u001b[0m\u001b[0;34m\u001b[0m\u001b[0m\n\u001b[0m\u001b[1;32m      7\u001b[0m \u001b[0;34m\u001b[0m\u001b[0m\n\u001b[1;32m      8\u001b[0m \u001b[0;34m\u001b[0m\u001b[0m\n",
      "\u001b[0;31mAttributeError\u001b[0m: 'spacy.tokens.doc.Doc' object has no attribute 'is_stop'"
     ]
    }
   ],
   "source": [
    "from spacy.lemmatizer import Lemmatizer\n",
    "\n",
    "from spacy.lang.en.stop_words import STOP_WORDS\n",
    "\n",
    "lemmatizer = Lemmatizer()\n",
    "\n",
    "doc = [nlp(x) for x in list_clean4]\n",
    "lemmas = [token.lemma_ for token in doc if not token.is_stop]\n",
    "\n",
    "\n",
    "#for token in doc:\n",
    " #   doc = token.text\n",
    "#tokenized_list = [nlp(doc) for doc in list_clean4]\n",
    "\n"
   ]
  },
  {
   "cell_type": "code",
   "execution_count": 187,
   "metadata": {},
   "outputs": [
    {
     "data": {
      "text/plain": [
       "[welcome fellow fellows! can you invite others? i've invited everyone from our class, but it'd be great to have all fellows on this same slack, don't you think?]"
      ]
     },
     "execution_count": 187,
     "metadata": {},
     "output_type": "execute_result"
    }
   ],
   "source": [
    "doc[:1]"
   ]
  },
  {
   "cell_type": "code",
   "execution_count": 185,
   "metadata": {},
   "outputs": [
    {
     "name": "stdout",
     "output_type": "stream",
     "text": [
      "0.33957046\n"
     ]
    },
    {
     "ename": "TypeError",
     "evalue": "'spacy.tokens.token.Token' object does not support indexing",
     "output_type": "error",
     "traceback": [
      "\u001b[0;31m---------------------------------------------------------------------------\u001b[0m",
      "\u001b[0;31mTypeError\u001b[0m                                 Traceback (most recent call last)",
      "\u001b[0;32m<ipython-input-185-00a73d194513>\u001b[0m in \u001b[0;36m<module>\u001b[0;34m()\u001b[0m\n\u001b[1;32m      8\u001b[0m \u001b[0mhippos\u001b[0m \u001b[0;34m=\u001b[0m \u001b[0mdoc\u001b[0m\u001b[0;34m[\u001b[0m\u001b[0;36m8\u001b[0m\u001b[0;34m]\u001b[0m\u001b[0;34m\u001b[0m\u001b[0m\n\u001b[1;32m      9\u001b[0m \u001b[0mprint\u001b[0m\u001b[0;34m(\u001b[0m\u001b[0mapples\u001b[0m\u001b[0;34m.\u001b[0m\u001b[0msimilarity\u001b[0m\u001b[0;34m(\u001b[0m\u001b[0moranges\u001b[0m\u001b[0;34m)\u001b[0m\u001b[0;34m)\u001b[0m\u001b[0;34m\u001b[0m\u001b[0m\n\u001b[0;32m---> 10\u001b[0;31m \u001b[0mprint\u001b[0m\u001b[0;34m(\u001b[0m\u001b[0mboots\u001b[0m\u001b[0;34m.\u001b[0m\u001b[0msimilarity\u001b[0m\u001b[0;34m(\u001b[0m\u001b[0mhippos\u001b[0m\u001b[0;34m)\u001b[0m\u001b[0;34m)\u001b[0m\u001b[0;34m\u001b[0m\u001b[0m\n\u001b[0m",
      "\u001b[0;32mtoken.pyx\u001b[0m in \u001b[0;36mspacy.tokens.token.Token.similarity\u001b[0;34m()\u001b[0m\n",
      "\u001b[0;31mTypeError\u001b[0m: 'spacy.tokens.token.Token' object does not support indexing"
     ]
    }
   ],
   "source": [
    "import spacy\n",
    "nlp = spacy.load('en_vectors_web_lg')\n",
    "\n",
    "doc = nlp(list_clean4[0])\n",
    "apples = doc[0]\n",
    "oranges = doc[2]\n",
    "boots = doc[6]\n",
    "hippos = doc[8]\n",
    "print(apples.similarity(oranges))\n",
    "print(boots.similarity(hippos))"
   ]
  },
  {
   "cell_type": "code",
   "execution_count": null,
   "metadata": {},
   "outputs": [],
   "source": [
    "\n"
   ]
  },
  {
   "cell_type": "code",
   "execution_count": null,
   "metadata": {},
   "outputs": [],
   "source": []
  },
  {
   "cell_type": "code",
   "execution_count": 11,
   "metadata": {},
   "outputs": [],
   "source": [
    "#import datetime\n",
    "\n",
    "#df['UNIXTIME'] = pd.to_datetime(df['ts'], unit='s')\n",
    "\n",
    "#datetime.datetime.fromtimestamp(1515595298).strftime('%c')"
   ]
  },
  {
   "cell_type": "code",
   "execution_count": null,
   "metadata": {},
   "outputs": [],
   "source": []
  },
  {
   "cell_type": "code",
   "execution_count": 14,
   "metadata": {},
   "outputs": [],
   "source": [
    "s = df.loc[:,\"text\"].str.lower()"
   ]
  },
  {
   "cell_type": "code",
   "execution_count": 15,
   "metadata": {},
   "outputs": [
    {
     "data": {
      "text/plain": [
       "0    not sure if this is a joke or for real… <http:...\n",
       "1    that’s a funny joke, but certainly not a viabl...\n",
       "2    on the subject of fake apps, this was a good o...\n",
       "3    <@u03bx0y4j> uploaded a file: <https://insight...\n",
       "4    (source: _the ultimate book of vehicles: from ...\n",
       "5    haven’t listened to this yet but it might be i...\n",
       "6    <http://www.npr.org/sections/money/2016/07/22/...\n",
       "7    eigenvectors and eigenvalues: an introduction ...\n",
       "0                  <@u3stgmyr1> has joined the channel\n",
       "1                  <@u3t074lkc> has joined the channel\n",
       "Name: text, dtype: object"
      ]
     },
     "execution_count": 15,
     "metadata": {},
     "output_type": "execute_result"
    }
   ],
   "source": [
    "s[:10]"
   ]
  },
  {
   "cell_type": "code",
   "execution_count": 3,
   "metadata": {},
   "outputs": [],
   "source": [
    "corpus = df.loc[:,\"text\"]"
   ]
  },
  {
   "cell_type": "code",
   "execution_count": 19,
   "metadata": {},
   "outputs": [],
   "source": [
    "corpus = corpus.str.lower()"
   ]
  },
  {
   "cell_type": "code",
   "execution_count": 20,
   "metadata": {},
   "outputs": [
    {
     "data": {
      "text/plain": [
       "pandas.core.series.Series"
      ]
     },
     "execution_count": 20,
     "metadata": {},
     "output_type": "execute_result"
    }
   ],
   "source": [
    "type(corpus)"
   ]
  },
  {
   "cell_type": "code",
   "execution_count": 21,
   "metadata": {},
   "outputs": [],
   "source": [
    "corpus_lower = corpus.str.lower()"
   ]
  },
  {
   "cell_type": "code",
   "execution_count": 22,
   "metadata": {},
   "outputs": [
    {
     "data": {
      "text/plain": [
       "pandas.core.series.Series"
      ]
     },
     "execution_count": 22,
     "metadata": {},
     "output_type": "execute_result"
    }
   ],
   "source": [
    "type(corpus_lower)"
   ]
  },
  {
   "cell_type": "code",
   "execution_count": 9,
   "metadata": {},
   "outputs": [],
   "source": [
    "#cleaning throw out \"has joined the channel data\"\n",
    "corpus_clean=[x for x in corpus if \"has joined the channel\" not in x]"
   ]
  },
  {
   "cell_type": "code",
   "execution_count": 10,
   "metadata": {},
   "outputs": [
    {
     "data": {
      "text/plain": [
       "list"
      ]
     },
     "execution_count": 10,
     "metadata": {},
     "output_type": "execute_result"
    }
   ],
   "source": [
    "type(corpus_clean)"
   ]
  },
  {
   "cell_type": "code",
   "execution_count": 11,
   "metadata": {},
   "outputs": [
    {
     "data": {
      "text/plain": [
       "['not sure if this is a joke or for real… <http://pooperapp.com> :slightly_smiling_face:',\n",
       " 'that’s a funny joke, but certainly not a viable business. rates are too low. the cheapest plan is $15 a month for 2 scoops a day, which comes out to less than a quarter per scoop. that’s not going to be worth anyone’s trip. nor is there any feasible mechanism accountability, unless the poopers wait around for the scoopers (which the video says they don’t need to do). anything they might do to implement accountability (e.g. require scoopers to stream live videos of the scooping) would only make scooping even less financially attractive.',\n",
       " 'on the subject of fake apps, this was a good one: <http://welldeserved.me/>',\n",
       " '<@u03bx0y4j> uploaded a file: <https://insightfellows.slack.com/files/u03bx0y4j/f1u9ys3pe/screen_shot_2016-07-22_at_9.50.33_am.png|viable business with one of these?>',\n",
       " '(source: _the ultimate book of vehicles: from around the world_)',\n",
       " 'haven’t listened to this yet but it might be interesting',\n",
       " '<http://www.npr.org/sections/money/2016/07/22/487069271/episode-576-when-women-stopped-coding?utm_medium=rss&amp;utm_campaign=planetmoney>',\n",
       " 'eigenvectors and eigenvalues: an introduction for some but beautiful #dataviz for everyone: <http://setosa.io/ev/eigenvectors-and-eigenvalues/>',\n",
       " \"hello past and present fellows!  it's great to be part of the community.  in exploring project ideas this week, i've become interested in uber's movement product as a way to answer some questions.  i requested access last week, but have not heard back.  have any of you alumni worked with the product or know how to expedite access?  thanks! <https://movement.uber.com/cities>\",\n",
       " 'dear past and present fellows. does anyone know of a dataset that they know for sure contains information on people who have experienced falls?']"
      ]
     },
     "execution_count": 11,
     "metadata": {},
     "output_type": "execute_result"
    }
   ],
   "source": [
    "corpus_clean[:10]"
   ]
  },
  {
   "cell_type": "code",
   "execution_count": null,
   "metadata": {},
   "outputs": [],
   "source": []
  }
 ],
 "metadata": {
  "kernelspec": {
   "display_name": "Python 3",
   "language": "python",
   "name": "python3"
  },
  "language_info": {
   "codemirror_mode": {
    "name": "ipython",
    "version": 3
   },
   "file_extension": ".py",
   "mimetype": "text/x-python",
   "name": "python",
   "nbconvert_exporter": "python",
   "pygments_lexer": "ipython3",
   "version": "3.6.5"
  }
 },
 "nbformat": 4,
 "nbformat_minor": 2
}
